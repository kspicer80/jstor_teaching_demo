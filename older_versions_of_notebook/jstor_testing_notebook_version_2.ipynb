{
 "cells": [
  {
   "cell_type": "markdown",
   "metadata": {},
   "source": [
    "# Introduction to Visualizing Text Data: One-Upping the WordCloud"
   ]
  },
  {
   "cell_type": "markdown",
   "metadata": {},
   "source": [
    "**Audience:** Teachers/Learners"
   ]
  },
  {
   "cell_type": "markdown",
   "metadata": {},
   "source": [
    "**Use Case**: Tutorial/How-To"
   ]
  },
  {
   "cell_type": "markdown",
   "metadata": {},
   "source": [
    "**Difficulty:** Beginner/Intermediate"
   ]
  },
  {
   "cell_type": "markdown",
   "metadata": {},
   "source": [
    "**Completion Time:** 45 minutes, 15 minutes for Q&A, etc."
   ]
  },
  {
   "cell_type": "markdown",
   "metadata": {},
   "source": [
    "**Knowledge Required:**\n",
    "\n",
    "* Python basics (variables, flow control, creating custom functions, lists, dictionaries)"
   ]
  },
  {
   "cell_type": "markdown",
   "metadata": {},
   "source": [
    "**Knowledge Recommended:**\n",
    "\n",
    "* Regular Expressions to help clean up our data (official documentation [here](https://docs.python.org/3/howto/regex.html)—more fun [video version](https://www.youtube.com/watch?v=sa-TUpSx1JA&t=141s) courtesy of Corey Schafer)\n",
    "* [`WordCloud`](https://amueller.github.io/word_cloud/index.html) visualizations\n",
    "* Basic understanding of [`matplotlib`](https://matplotlib.org/) and [seaborn](https://seaborn.pydata.org/) for graphing and plotting\n",
    "* Very basic understanding of [`pandas`](https://pandas.pydata.org/) for tabular data manipulation\n",
    "* Very basic grasp of the [`circlify` library](https://github.com/elmotec/circlify)"
   ]
  },
  {
   "cell_type": "markdown",
   "metadata": {},
   "source": [
    "**Learning Objectives:** After this lesson, learners will be able to:"
   ]
  },
  {
   "cell_type": "markdown",
   "metadata": {},
   "source": [
    "**Research Pipeline:**\n",
    "\n",
    "1. Research steps before this notebook: grab some data from [Constellate's Dataset Builder](https://constellate.org/)\n",
    "2. Plot some visualizations of words frequencies in our dataset.\n",
    "3. Steps after this notebook: find your very own dataset and go to town!\n",
    "4. Show us the results."
   ]
  },
  {
   "cell_type": "markdown",
   "metadata": {},
   "source": [
    "### Getting our Libraries Imported"
   ]
  },
  {
   "cell_type": "code",
   "execution_count": 61,
   "metadata": {},
   "outputs": [],
   "source": [
    "import gzip\n",
    "import pandas as pd\n",
    "# Nice primer on pandas display_options [here](https://towardsdatascience.com/8-commonly-used-pandas-display-options-you-should-know-a832365efa95)\n",
    "pd.set_option('display.max_rows', None)\n",
    "pd.set_option('display.max_columns', None)\n",
    "pd.set_option('display.max_colwidth', 500)\n",
    "\n",
    "from wordcloud import WordCloud, STOPWORDS\n",
    "import matplotlib.pyplot as plt\n",
    "import numpy as np\n",
    "import seaborn as sns\n",
    "import circlify"
   ]
  },
  {
   "cell_type": "markdown",
   "metadata": {},
   "source": [
    "### Required Data:\n",
    "\n",
    "**Data Format**:\n",
    "\n",
    "* File downloaded from the [Constellate site](https://constellate.org/) in `.gz` format (this file also available from [here](https://github.com/kspicer80/jstor_teaching_demo/blob/main/datasets/law_full.jsonl.gz))\n",
    "\n",
    "Starting with the , I simply downloaded the built dataset to my local machine (other options for loading the dataset are available [here](https://constellate.org/tutorials/exploring-metadata)—the downloaded  file comes as a `.gz` file, so we need to open that up with the handy [`gzip` library](https://docs.python.org/3/library/gzip.html). We want to do a little bit of work with [`pandas`](https://pandas.pydata.org/docs/) here (we could work, of course, just with the standard `json` library, but we're going to want to do some manipulation on the data and pandas is perfecty suited for that). So let's get the file opened up and into a DataFrame:"
   ]
  },
  {
   "cell_type": "markdown",
   "metadata": {},
   "source": [
    "### Introduction:\n",
    "\n",
    "Here in this notebook we are going to be grabbing some data from Constellate, doing a little bit of [exploratory data analysis (EDA)](https://towardsdatascience.com/exploratory-data-analysis-8fc1cb20fd15#:~:text=Exploratory%20Data%20Analysis%20refers%20to,summary%20statistics%20and%20graphical%20representations.), and then utilizing some of the data to plot word frequencies in the downloaded data. We are going to look at some of the ways we might one-up the standard WordCloud seen so often in introductory treatments of textual data."
   ]
  },
  {
   "cell_type": "markdown",
   "metadata": {},
   "source": [
    "### Lesson:\n",
    "\n",
    "Here in this notebook we're going to do a little bit of work with the JSTOR Constellate [data builder](https://constellate.org/builder). I started by searching \"free speech\" and \"First Amendment\" as keywords, grabbing all the \"full text\" document types within the \"Law\" category. Constellate also has a nice feature that gives assigns a \"Dataset ID\" to each of the datasets one builds. The one for this project is \"b7adbb84-6bec-549e-83bb-11aeb045e5f9\". "
   ]
  },
  {
   "cell_type": "code",
   "execution_count": 62,
   "metadata": {},
   "outputs": [],
   "source": [
    "df = pd.read_json(gzip.open('./datasets/law_full.jsonl.gz'), lines=True)"
   ]
  },
  {
   "cell_type": "markdown",
   "metadata": {},
   "source": [
    "Initial inspection of the dataframe:"
   ]
  },
  {
   "cell_type": "code",
   "execution_count": 63,
   "metadata": {},
   "outputs": [
    {
     "data": {
      "text/html": [
       "<div>\n",
       "<style scoped>\n",
       "    .dataframe tbody tr th:only-of-type {\n",
       "        vertical-align: middle;\n",
       "    }\n",
       "\n",
       "    .dataframe tbody tr th {\n",
       "        vertical-align: top;\n",
       "    }\n",
       "\n",
       "    .dataframe thead th {\n",
       "        text-align: right;\n",
       "    }\n",
       "</style>\n",
       "<table border=\"1\" class=\"dataframe\">\n",
       "  <thead>\n",
       "    <tr style=\"text-align: right;\">\n",
       "      <th></th>\n",
       "      <th>creator</th>\n",
       "      <th>datePublished</th>\n",
       "      <th>docSubType</th>\n",
       "      <th>docType</th>\n",
       "      <th>fullText</th>\n",
       "      <th>id</th>\n",
       "      <th>identifier</th>\n",
       "      <th>isPartOf</th>\n",
       "      <th>issueNumber</th>\n",
       "      <th>language</th>\n",
       "      <th>outputFormat</th>\n",
       "      <th>pageCount</th>\n",
       "      <th>pageEnd</th>\n",
       "      <th>pageStart</th>\n",
       "      <th>pagination</th>\n",
       "      <th>provider</th>\n",
       "      <th>publicationYear</th>\n",
       "      <th>publisher</th>\n",
       "      <th>sourceCategory</th>\n",
       "      <th>tdmCategory</th>\n",
       "      <th>title</th>\n",
       "      <th>url</th>\n",
       "      <th>volumeNumber</th>\n",
       "      <th>wordCount</th>\n",
       "      <th>unigramCount</th>\n",
       "      <th>bigramCount</th>\n",
       "      <th>trigramCount</th>\n",
       "      <th>abstract</th>\n",
       "      <th>collection</th>\n",
       "      <th>editor</th>\n",
       "      <th>hasPartTitle</th>\n",
       "      <th>keyphrase</th>\n",
       "      <th>subTitle</th>\n",
       "    </tr>\n",
       "  </thead>\n",
       "  <tbody>\n",
       "    <tr>\n",
       "      <th>0</th>\n",
       "      <td>[Thomas Reed Powell]</td>\n",
       "      <td>1922-01-01</td>\n",
       "      <td>research-article</td>\n",
       "      <td>article</td>\n",
       "      <td>[MICHIGAN LAW REVIEW VOL. XX JANUARY, 1922 No. 3 THE SUPREME COURT'S CONSTRUCTION OF THE FEDERAL CONSTITUTION IN I920-I92I, III1 IV. PoLIcE POWER THE difficulty of classifying cases on the police power has not evaporated since the review of decisions for the preceding year. The headings there suggested are used here. Classification on the basis of the objects of the legislation appears too precarious to be attempted with any confidence. It seems safer to work along the line of the subject ma...</td>\n",
       "      <td>http://www.jstor.org/stable/1277162</td>\n",
       "      <td>[{'name': 'issn', 'value': '00262234'}, {'name': 'local_uuid', 'value': 'bc2669a7-d087-3bf4-8b2b-aebe1b9003bf'}, {'name': 'local_doi', 'value': '10.2307/1277162'}, {'name': 'journal_id', 'value': 'michlawrevi'}]</td>\n",
       "      <td>Michigan Law Review</td>\n",
       "      <td>3.0</td>\n",
       "      <td>[eng]</td>\n",
       "      <td>[unigram, bigram, trigram, fullText]</td>\n",
       "      <td>28</td>\n",
       "      <td>288</td>\n",
       "      <td>261</td>\n",
       "      <td>pp. 261-288</td>\n",
       "      <td>jstor</td>\n",
       "      <td>1922</td>\n",
       "      <td>The Michigan Law Review Association</td>\n",
       "      <td>[Law, Law]</td>\n",
       "      <td>[Law - Civil law]</td>\n",
       "      <td>The Supreme Court's Construction of the Federal Constitution in 1920-1921, III</td>\n",
       "      <td>http://www.jstor.org/stable/1277162</td>\n",
       "      <td>20.0</td>\n",
       "      <td>11348</td>\n",
       "      <td>{'denied.': 1, 'opposing': 3, 'take': 5, 'retrial': 1, 'interruptions,': 1, 'Utility': 2, 'state;': 1, 'fought': 1, 'Coal': 2, 'prospective': 1, '\"Validity': 1, 'franchises,': 1, 'various': 3, 'injured': 1, 'be,': 2, 'affirmed': 2, 'Co.34': 1, 'inferred': 1, 'weight': 1, 'reliance': 1, 'remarked': 1, 'Sentimental': 1, 'side': 2, 'dissent.27': 1, 'TAXATION,': 1, 'world.\"': 1, 'jurisdiction': 2, '862;': 1, 'Commissioners,40': 1, 'impose': 1, 'classification': 3, 'immutable': 1, 'conserved': 1,...</td>\n",
       "      <td>{'basis of': 1, 'in 69': 2, 'once the': 1, 'in defiance': 1, 'lease which': 1, '\"public utilities\"': 1, 'companies indicate': 1, 'MARQUErTE L.': 1, 'employment made': 1, 'are, and': 1, 'not come': 1, '282 (I92I).': 1, 'in Deeds,\"': 1, 'the parties': 1, 'of treason': 1, 'occasions feeling': 1, 'on whether': 2, 'so classifying': 1, 'Ct. 252': 1, '28255 U.': 1, 'y14 was': 1, 'Scanlon Co.': 1, 'Brewster Rhoads,': 1, 'state, and': 2, 'denying the': 1, 'BULL. io6': 1, 'Mr. Justices': 1, 'or loss':...</td>\n",
       "      <td>{'manufacturing or domestic': 1, 'Prices of Commodities,\"': 1, 'to infer anything': 1, 'of four objecting': 1, 'notes in 34': 1, 'v. Coronado Beach': 1, 'yields substantial compensation': 1, 'grade crossings in': 1, 'in other ways': 1, 'for compensation in': 1, 'Regulation and Housing': 1, 'penalties for delay': 1, 'will be treated': 1, 'demands. We do': 1, 'justifying the regulation': 1, 'unconstitutionality. The problem': 1, 'to certain cities': 1, 'any confidence. It': 1, 'Without previou...</td>\n",
       "      <td>NaN</td>\n",
       "      <td>NaN</td>\n",
       "      <td>NaN</td>\n",
       "      <td>NaN</td>\n",
       "      <td>NaN</td>\n",
       "      <td>NaN</td>\n",
       "    </tr>\n",
       "    <tr>\n",
       "      <th>1</th>\n",
       "      <td>[Elizabeth Goitein, Faiza Patel]</td>\n",
       "      <td>2020-10-22</td>\n",
       "      <td>NaN</td>\n",
       "      <td>report</td>\n",
       "      <td>[TRANSITION 2020–2021 A Presidential Agenda for Liberty and National Security By Elizabeth Goitein and Faiza Patel PUBLISHED OCTOBER 22, 2020 Brennan Center for Justice at New York University School of Law policy proposal, Table of Contents Foreword . . . . . . . . . . . . . . . . . . . . . . . . . . . . . . . . . . . . . . . . . . . . . . . . . . . . . . . . . . . . . . 3 A B O U T T H E B R E N N A N C E N T E R FO R J U ST I C E Introduction . . . . . . . . . . . . . . . . . . . . . . . ....</td>\n",
       "      <td>http://www.jstor.org/stable/resrep28426</td>\n",
       "      <td>[{'name': 'local_uuid', 'value': '3dbcbae0-0d2f-3b58-9d5a-c55e6d5b6127'}]</td>\n",
       "      <td>NaN</td>\n",
       "      <td>NaN</td>\n",
       "      <td>[eng]</td>\n",
       "      <td>[unigram, bigram, trigram, fullText]</td>\n",
       "      <td>23</td>\n",
       "      <td>NaN</td>\n",
       "      <td>NaN</td>\n",
       "      <td>NaN</td>\n",
       "      <td>jstor</td>\n",
       "      <td>2020</td>\n",
       "      <td>Brennan Center for Justice</td>\n",
       "      <td>NaN</td>\n",
       "      <td>[Law - Computer law]</td>\n",
       "      <td>A Presidential Agenda for Liberty and National Security</td>\n",
       "      <td>http://www.jstor.org/stable/resrep28426</td>\n",
       "      <td>NaN</td>\n",
       "      <td>13697</td>\n",
       "      <td>{'MacArthur': 1, 'secrecy,': 1, 'com/infectiousdisease/covid19/87632': 1, 'advocacy.': 1, 'white-house-location-data-coronavirus/;': 1, 'information': 16, 'communities': 6, 'information,': 5, 'attack': 2, 'problems': 1, 'agencies.': 1, 'existence': 1, 'Institution,': 2, 'scored': 1, 'past': 3, 'range': 1, 'Frieden,': 1, 'role.': 2, 'right': 2, 'crimination”': 1, 'https://www.wsj.com/articles/federal-agencies-use-cellphone-loca-': 1, 'Censored': 1, 'explanations': 1, 'www.justice.gov/opa/file...</td>\n",
       "      <td>{'that individuals': 1, 'for FY': 1, 'end, the': 1, 'a defining': 1, 'an app': 1, 'trump-veto-national-emergency.html .': 1, 'restrictions have': 1, 'and writing': 1, 'of law,': 2, 'National Policy': 1, 'Americans Without': 1, 'established to': 1, 'Comm. on': 8, 'been the': 1, 'immediate action': 1, 'safer, collecting': 1, 'statute to': 1, 'aimed to': 1, '60-Day Notice': 2, 'September 21,': 1, 'rarely before': 1, 'of automated': 1, 'limiting secret': 1, 'and Transparency': 1, 'acknowledges T...</td>\n",
       "      <td>{'Amendment, and the': 1, '10 values of': 1, 'A Needed Check': 1, 'And it recently': 1, 'Countering Violent Extremism': 3, 'situations in which': 1, 'Proclamations 95 Thomas': 1, 'Guard units such': 1, 'see Confronting the': 1, 'as a talk': 1, 'congressional oversight committees.57': 1, 'acist violence will': 1, 'President’s Emergency Powers,”': 1, 'to 182 on': 1, 'enable profiling based': 1, 'E R ’S': 1, 'iden- right violence': 1, 'have contacts in': 1, 'no . 12-20,': 1, 'to issue guidance'...</td>\n",
       "      <td>American democracy urgently needs renewal. In the coming years, one of the great issues facing the country will be the presidency itself. A half century ago, in the wake of Watergate and Vietnam, laws and rules aimed to check the “Imperial Presidency.” Over the decades those limits eroded and then were finally cast off. The past three years have seen a refusal to honor oversight and a politicization of the executive branch. The president insists the Constitution gives him “the right to do wh...</td>\n",
       "      <td>[Research Reports]</td>\n",
       "      <td>NaN</td>\n",
       "      <td>NaN</td>\n",
       "      <td>NaN</td>\n",
       "      <td>NaN</td>\n",
       "    </tr>\n",
       "    <tr>\n",
       "      <th>2</th>\n",
       "      <td>[H. R. M.]</td>\n",
       "      <td>1922-09-01</td>\n",
       "      <td>research-article</td>\n",
       "      <td>article</td>\n",
       "      <td>[512 10 CALIFORNIA LAW REVIEW CRIMINAL LAW: CRIMINAL SYNDICALIST ACT: CONSTITUTION- AL LAW: VALIDITY OF THE ACT UNDER THE FREE SPEECH CLAUSE -- The crime of criminal syndicalism has existed in California since April 30, 1919.1 The act was passed at a time when active radical minorities threatened or were believed to threaten not only the stability but the existence of our political and social structure. The Russian debacle, unillumined by historical investigation, confronted us. It is immate...</td>\n",
       "      <td>http://www.jstor.org/stable/3474218</td>\n",
       "      <td>[{'name': 'issn', 'value': '00081221'}, {'name': 'local_uuid', 'value': 'aa62922a-0bb3-34f3-8d60-8596550863a7'}, {'name': 'local_doi', 'value': '10.2307/3474218'}, {'name': 'journal_id', 'value': 'calilawrevi'}]</td>\n",
       "      <td>California Law Review</td>\n",
       "      <td>6.0</td>\n",
       "      <td>[eng]</td>\n",
       "      <td>[unigram, bigram, trigram, fullText]</td>\n",
       "      <td>7</td>\n",
       "      <td>518</td>\n",
       "      <td>512</td>\n",
       "      <td>pp. 512-518</td>\n",
       "      <td>jstor</td>\n",
       "      <td>1922</td>\n",
       "      <td>California Law Review, Inc.</td>\n",
       "      <td>[Law, Law]</td>\n",
       "      <td>[Law - Criminal law, Law - Judicial system]</td>\n",
       "      <td>Criminal Law: Criminal Syndicalist Act: Constitutional Law: Validity of the Act under the Free Speech Clause</td>\n",
       "      <td>http://www.jstor.org/stable/3474218</td>\n",
       "      <td>10.0</td>\n",
       "      <td>4012</td>\n",
       "      <td>{'acts.': 2, 'stolen.': 1, '45': 1, 'proponents': 1, 'hysterical': 1, 'allow': 1, 'indulged': 1, 'malcontent,': 1, 'forbade': 1, 'Most': 1, 'Wigznore,': 1, '14': 1, 'Address': 1, '296,': 1, 'first,': 1, 'unwelcome': 1, 'Iaw,': 1, 'proscribed': 1, 'resulting': 1, 'freedom': 3, 'Dec.': 12, 'definitely': 1, 'satisfied': 1, 'i,': 1, 'create': 1, 'obtainable': 1, 'publishing,': 1, 'PERFORMANCE': 1, 'utterances.19': 1, 'nothing': 2, 'Courts': 1, '573¢': 1, 'suppression': 1, 'element': 1, 'facts,':...</td>\n",
       "      <td>{'in Abrams': 1, 'tendencies. According': 1, 'the charge.': 1, '1921* decision': 1, 'fixed only': 1, 'enunciating the': 1, 'abuse of': 1, 'the cases': 1, 'bell-Johnston (1908)': 1, 'v. Moilen': 1, 'CONTRACTS The': 1, 'restric- tion': 1, 'given enunciation': 1, 'lacking because': 1, 'absurd results': 1, '(1904) 144': 2, 'be eternally': 1, '64 Cal.': 1, '27. COMMENT': 1, 'by some': 1, 'for industrial': 1, 'ian they': 1, 'be justified': 1, 'the Schenck': 1, 'price level.': 1, 'would prevent': 1...</td>\n",
       "      <td>{'check is necessary': 1, 'opposition to organized': 1, 'such a decree,2': 1, 'and Wismer of': 1, 'a better police': 1, 'is not a': 1, 'degree are made': 1, 'rehearing denied Nov.': 1, 'existing govern- ment': 1, 'the facts. The': 1, 'punishable as principals': 2, 'teaches . *': 1, 'rule, be mutual,': 1, 'to discriminate between': 1, 'law of conspiracy,': 1, 'It seemed that': 1, '3-39 20S207- Thomas': 1, '\"The Normal Criminal': 1, 'damage or injury': 1, 'over the thought': 1, 'thought to get...</td>\n",
       "      <td>NaN</td>\n",
       "      <td>NaN</td>\n",
       "      <td>NaN</td>\n",
       "      <td>NaN</td>\n",
       "      <td>NaN</td>\n",
       "      <td>NaN</td>\n",
       "    </tr>\n",
       "    <tr>\n",
       "      <th>3</th>\n",
       "      <td>[Alex Molnar, Faith Boninger, Gary Wilkinson, Joseph Fogarty, Sean Geary]</td>\n",
       "      <td>2010-12-02</td>\n",
       "      <td>NaN</td>\n",
       "      <td>report</td>\n",
       "      <td>[EFFECTIVELY EMBEDDED SCHOOLS AND THE MACHINERY OF MODERN MARKETING THE THIRTEENTH ANNUAL REPORT ON SCHOOLHOUSE COMMERCIALIZING TRENDS: 2009-2010 Alex Molnar and Faith Boninger Arizona State University Gary Wilkinson University of Hull, Hull, England Joseph Fogarty Corballa National School, County Sligo, Ireland Sean Geary Arizona State University National Education Policy Center School of Education, University of Colorado at Boulder Boulder, CO 80309-0249 Telephone: 303-735-5290 Fax: 303-49...</td>\n",
       "      <td>http://www.jstor.org/stable/resrep42044</td>\n",
       "      <td>[{'name': 'local_uuid', 'value': '4df59bdd-9e83-3d9a-bebe-538e3ae0cc77'}]</td>\n",
       "      <td>NaN</td>\n",
       "      <td>NaN</td>\n",
       "      <td>[eng]</td>\n",
       "      <td>[unigram, bigram, trigram, fullText]</td>\n",
       "      <td>48</td>\n",
       "      <td>NaN</td>\n",
       "      <td>NaN</td>\n",
       "      <td>NaN</td>\n",
       "      <td>jstor</td>\n",
       "      <td>2010</td>\n",
       "      <td>National Education Policy Center</td>\n",
       "      <td>NaN</td>\n",
       "      <td>[Social sciences - Communications, Law - Computer law]</td>\n",
       "      <td>Effectively Embedded Schools and the Machinery of Modern Marketing The Thirteenth Annual Report on Schoolhouse Commercializing Trends: 2009-2010</td>\n",
       "      <td>http://www.jstor.org/stable/resrep42044</td>\n",
       "      <td>NaN</td>\n",
       "      <td>16250</td>\n",
       "      <td>{'Modern': 1, 'contests,': 2, 'fact,': 4, 'Cheese': 1, 'deceptive': 2, 'Tempe:': 2, '8-': 4, 'Digest': 1, '135-14.': 1, 'Practice': 1, 'relevant': 1, 'indicates': 1, 'Youth': 4, 'Jean': 3, 'Productions.': 1, '168.': 1, 'testimonial': 1, 'comply': 1, 'Markets': 2, 'Ella‟s': 1, '(January': 1, 'presenting': 1, 'Chairman,': 1, 'rather': 4, 'balance': 1, 'advertisement.62': 1, 'urge': 1, 'Our': 5, 'Academies': 1, 'problem': 2, 'Schor,': 1, 'landed': 1, 'consumption': 5, 'emphasized': 1, 'conclude...</td>\n",
       "      <td>{'and Faith': 2, 'Michelle Obama': 1, '(Continued) Source': 2, 'program attributed': 1, 'vulnerability in': 1, 'recommended by': 1, 'of Practitioners': 2, 'resist immediate': 1, '&amp; Peloza,': 1, 'own self-determined': 1, 'or without': 1, 'Integration and': 1, 'brands of': 1, 'Until recently,': 1, 'who were': 2, 'pledged ―better': 1, 'buses. For': 1, 'school commercialism': 2, 'during the': 2, 'http://www.stnonline.com/artman/publish/article_9915.shtml .': 1, 'attack for': 1, 'of Better': 2, '...</td>\n",
       "      <td>{'(2009). Age of': 1, 'In modern society,': 1, 'least theoretically, to': 1, 'Jan (2010, January': 5, 'content. In the': 1, 'Child nutrition bill': 1, 'principles and practice': 1, 'Bradshaw explained that': 1, '108 The American': 1, 'serves as a': 1, 'automatic snacking script': 1, 'Retrieved March 8,': 2, 'heightens their insecurities,': 1, 'children. http://nepc.colorado.edu/publication/Schoolhouse-commercialism-2010 15': 1, '16 of 44': 1, 'Eight categories were': 1, 'its Internet environ...</td>\n",
       "      <td>In the context of the last two years’ recession, parents, teachers and administrators seem to increasingly welcome school-business “partnerships” that they hope may help ward off program cuts. Businesses encourage such arrangements because school-based marketing and advertising programs are perfectly poised to “brand” children at an early age: the school environment is relatively uncluttered, children are a captive and credulous audience, and marketing and advertising programs are normalized...</td>\n",
       "      <td>[Research Reports]</td>\n",
       "      <td>[Kevin Welner]</td>\n",
       "      <td>NaN</td>\n",
       "      <td>NaN</td>\n",
       "      <td>NaN</td>\n",
       "    </tr>\n",
       "    <tr>\n",
       "      <th>4</th>\n",
       "      <td>[Thomas Raeburn White]</td>\n",
       "      <td>1904-01-01</td>\n",
       "      <td>research-article</td>\n",
       "      <td>article</td>\n",
       "      <td>[THE AMERICAN LAW REGISTER FOUNDED 1852 UNIVERSITY OF PENNSYLVANIA DEPARTMENT OF LAW VOL. 52 0. S. JANUARY, 1904. No. i CONSTITUTIONAL PROVISIONS GUARANTEEING FREEDOM OF THE PRESS IN PENNSYLVANIA. Freedom of speech and of the press has never been curtailed by the common law, but in England and in some of the American colonies, prior to the Revolution, the gov- erning powers acted upon the assumption that such free- dom is essentially dangerous to the state. The art of printing particularly w...</td>\n",
       "      <td>http://www.jstor.org/stable/3306378</td>\n",
       "      <td>[{'name': 'issn', 'value': '15583562'}, {'name': 'local_uuid', 'value': '47a2b7e6-4a50-3e90-8941-da6e70c780c3'}, {'name': 'local_doi', 'value': '10.2307/3306378'}, {'name': 'journal_id', 'value': 'amerlawregi1898'}]</td>\n",
       "      <td>The American Law Register (1898-1907)</td>\n",
       "      <td>1.0</td>\n",
       "      <td>[eng]</td>\n",
       "      <td>[unigram, bigram, trigram, fullText]</td>\n",
       "      <td>21</td>\n",
       "      <td>21</td>\n",
       "      <td>1</td>\n",
       "      <td>pp. 1-21</td>\n",
       "      <td>jstor</td>\n",
       "      <td>1904</td>\n",
       "      <td>The University of Pennsylvania Law Review</td>\n",
       "      <td>[Law, Law]</td>\n",
       "      <td>[Law - Criminal law]</td>\n",
       "      <td>Constitutional Provisions Guaranteeing Freedom of the Press in Pennsylvania</td>\n",
       "      <td>http://www.jstor.org/stable/3306378</td>\n",
       "      <td>52.0</td>\n",
       "      <td>7567</td>\n",
       "      <td>{'contrary,': 1, 'scandalous': 1, 'thought': 4, '(Webb's': 1, 'introduced': 2, 'libel,': 7, 'Justice': 1, 'char-': 1, 'i6,': 1, 'warrant': 2, '(1809).': 1, 'P.': 4, 'principle\"': 1, 'publication': 22, 'I23,': 1, 'however': 2, 'Nevertheless,': 1, '(i877);': 1, 'extent': 1, 'malice.': 6, 'proof': 3, 'attacked': 1, '(if': 2, 'LAW': 2, 'think': 1, 'dicta': 1, '16': 1, 'failed': 1, 'pistol': 1, 'years': 1, 'com-': 3, 'malicious,': 1, 'fact.': 1, 'individual': 2, 'public,': 1, 'Const.': 5, 'Laws,'...</td>\n",
       "      <td>{'supposition is': 1, 'publications, however': 1, 'reign of': 1, 'mere surplusage.20': 1, 'motives and': 2, 'but there': 1, 'place upon': 1, 'justify the': 2, 'criminal immunity': 2, 'v. Dowling,': 1, 'as determined': 1, 'writing and': 1, 'thoughts and': 1, 'only is': 1, 'a day.': 1, 'were proper': 2, 'not dimin-': 1, 'man to': 2, 'lack of': 3, 'those only': 1, 'we construe': 1, 'or comment': 1, 'it adds': 1, 'one which': 1, '(I883). 12': 1, 'for libels': 2, 'But this': 1, 'In Coom.': 1, 'by...</td>\n",
       "      <td>{'believing in the': 1, 'the institution of': 1, 'Convention of I776': 1, 'is no dispute': 1, 'jury to be': 1, 'by the constitutional': 2, 'faith and with': 1, 'the motives of': 1, 'both of I790': 1, 'respect to matters': 1, 'fact concern the': 1, 'but at the': 1, 'not (as he': 1, '6 CONSTITUTIONAL PROVISIONS': 1, 'in the section': 1, 'not malice need': 1, 'a scandalous nature,': 1, 'Chest. Co. Rep.': 1, 'manner in which': 1, '368 (i88i), Judge': 1, 'ment?' However ingenuity': 1, 'tigation o...</td>\n",
       "      <td>NaN</td>\n",
       "      <td>NaN</td>\n",
       "      <td>NaN</td>\n",
       "      <td>NaN</td>\n",
       "      <td>NaN</td>\n",
       "      <td>NaN</td>\n",
       "    </tr>\n",
       "  </tbody>\n",
       "</table>\n",
       "</div>"
      ],
      "text/plain": [
       "                                                                     creator  \\\n",
       "0                                                       [Thomas Reed Powell]   \n",
       "1                                           [Elizabeth Goitein, Faiza Patel]   \n",
       "2                                                                 [H. R. M.]   \n",
       "3  [Alex Molnar, Faith Boninger, Gary Wilkinson, Joseph Fogarty, Sean Geary]   \n",
       "4                                                     [Thomas Raeburn White]   \n",
       "\n",
       "  datePublished        docSubType  docType  \\\n",
       "0    1922-01-01  research-article  article   \n",
       "1    2020-10-22               NaN   report   \n",
       "2    1922-09-01  research-article  article   \n",
       "3    2010-12-02               NaN   report   \n",
       "4    1904-01-01  research-article  article   \n",
       "\n",
       "                                                                                                                                                                                                                                                                                                                                                                                                                                                                                                              fullText  \\\n",
       "0  [MICHIGAN LAW REVIEW VOL. XX JANUARY, 1922 No. 3 THE SUPREME COURT'S CONSTRUCTION OF THE FEDERAL CONSTITUTION IN I920-I92I, III1 IV. PoLIcE POWER THE difficulty of classifying cases on the police power has not evaporated since the review of decisions for the preceding year. The headings there suggested are used here. Classification on the basis of the objects of the legislation appears too precarious to be attempted with any confidence. It seems safer to work along the line of the subject ma...   \n",
       "1  [TRANSITION 2020–2021 A Presidential Agenda for Liberty and National Security By Elizabeth Goitein and Faiza Patel PUBLISHED OCTOBER 22, 2020 Brennan Center for Justice at New York University School of Law policy proposal, Table of Contents Foreword . . . . . . . . . . . . . . . . . . . . . . . . . . . . . . . . . . . . . . . . . . . . . . . . . . . . . . . . . . . . . . 3 A B O U T T H E B R E N N A N C E N T E R FO R J U ST I C E Introduction . . . . . . . . . . . . . . . . . . . . . . . ....   \n",
       "2  [512 10 CALIFORNIA LAW REVIEW CRIMINAL LAW: CRIMINAL SYNDICALIST ACT: CONSTITUTION- AL LAW: VALIDITY OF THE ACT UNDER THE FREE SPEECH CLAUSE -- The crime of criminal syndicalism has existed in California since April 30, 1919.1 The act was passed at a time when active radical minorities threatened or were believed to threaten not only the stability but the existence of our political and social structure. The Russian debacle, unillumined by historical investigation, confronted us. It is immate...   \n",
       "3  [EFFECTIVELY EMBEDDED SCHOOLS AND THE MACHINERY OF MODERN MARKETING THE THIRTEENTH ANNUAL REPORT ON SCHOOLHOUSE COMMERCIALIZING TRENDS: 2009-2010 Alex Molnar and Faith Boninger Arizona State University Gary Wilkinson University of Hull, Hull, England Joseph Fogarty Corballa National School, County Sligo, Ireland Sean Geary Arizona State University National Education Policy Center School of Education, University of Colorado at Boulder Boulder, CO 80309-0249 Telephone: 303-735-5290 Fax: 303-49...   \n",
       "4  [THE AMERICAN LAW REGISTER FOUNDED 1852 UNIVERSITY OF PENNSYLVANIA DEPARTMENT OF LAW VOL. 52 0. S. JANUARY, 1904. No. i CONSTITUTIONAL PROVISIONS GUARANTEEING FREEDOM OF THE PRESS IN PENNSYLVANIA. Freedom of speech and of the press has never been curtailed by the common law, but in England and in some of the American colonies, prior to the Revolution, the gov- erning powers acted upon the assumption that such free- dom is essentially dangerous to the state. The art of printing particularly w...   \n",
       "\n",
       "                                        id  \\\n",
       "0      http://www.jstor.org/stable/1277162   \n",
       "1  http://www.jstor.org/stable/resrep28426   \n",
       "2      http://www.jstor.org/stable/3474218   \n",
       "3  http://www.jstor.org/stable/resrep42044   \n",
       "4      http://www.jstor.org/stable/3306378   \n",
       "\n",
       "                                                                                                                                                                                                                identifier  \\\n",
       "0      [{'name': 'issn', 'value': '00262234'}, {'name': 'local_uuid', 'value': 'bc2669a7-d087-3bf4-8b2b-aebe1b9003bf'}, {'name': 'local_doi', 'value': '10.2307/1277162'}, {'name': 'journal_id', 'value': 'michlawrevi'}]   \n",
       "1                                                                                                                                                [{'name': 'local_uuid', 'value': '3dbcbae0-0d2f-3b58-9d5a-c55e6d5b6127'}]   \n",
       "2      [{'name': 'issn', 'value': '00081221'}, {'name': 'local_uuid', 'value': 'aa62922a-0bb3-34f3-8d60-8596550863a7'}, {'name': 'local_doi', 'value': '10.2307/3474218'}, {'name': 'journal_id', 'value': 'calilawrevi'}]   \n",
       "3                                                                                                                                                [{'name': 'local_uuid', 'value': '4df59bdd-9e83-3d9a-bebe-538e3ae0cc77'}]   \n",
       "4  [{'name': 'issn', 'value': '15583562'}, {'name': 'local_uuid', 'value': '47a2b7e6-4a50-3e90-8941-da6e70c780c3'}, {'name': 'local_doi', 'value': '10.2307/3306378'}, {'name': 'journal_id', 'value': 'amerlawregi1898'}]   \n",
       "\n",
       "                                isPartOf  issueNumber language  \\\n",
       "0                    Michigan Law Review          3.0    [eng]   \n",
       "1                                    NaN          NaN    [eng]   \n",
       "2                  California Law Review          6.0    [eng]   \n",
       "3                                    NaN          NaN    [eng]   \n",
       "4  The American Law Register (1898-1907)          1.0    [eng]   \n",
       "\n",
       "                           outputFormat  pageCount pageEnd pageStart  \\\n",
       "0  [unigram, bigram, trigram, fullText]         28     288       261   \n",
       "1  [unigram, bigram, trigram, fullText]         23     NaN       NaN   \n",
       "2  [unigram, bigram, trigram, fullText]          7     518       512   \n",
       "3  [unigram, bigram, trigram, fullText]         48     NaN       NaN   \n",
       "4  [unigram, bigram, trigram, fullText]         21      21         1   \n",
       "\n",
       "    pagination provider  publicationYear  \\\n",
       "0  pp. 261-288    jstor             1922   \n",
       "1          NaN    jstor             2020   \n",
       "2  pp. 512-518    jstor             1922   \n",
       "3          NaN    jstor             2010   \n",
       "4     pp. 1-21    jstor             1904   \n",
       "\n",
       "                                   publisher sourceCategory  \\\n",
       "0        The Michigan Law Review Association     [Law, Law]   \n",
       "1                 Brennan Center for Justice            NaN   \n",
       "2                California Law Review, Inc.     [Law, Law]   \n",
       "3           National Education Policy Center            NaN   \n",
       "4  The University of Pennsylvania Law Review     [Law, Law]   \n",
       "\n",
       "                                              tdmCategory  \\\n",
       "0                                       [Law - Civil law]   \n",
       "1                                    [Law - Computer law]   \n",
       "2             [Law - Criminal law, Law - Judicial system]   \n",
       "3  [Social sciences - Communications, Law - Computer law]   \n",
       "4                                    [Law - Criminal law]   \n",
       "\n",
       "                                                                                                                                              title  \\\n",
       "0                                                                    The Supreme Court's Construction of the Federal Constitution in 1920-1921, III   \n",
       "1                                                                                           A Presidential Agenda for Liberty and National Security   \n",
       "2                                      Criminal Law: Criminal Syndicalist Act: Constitutional Law: Validity of the Act under the Free Speech Clause   \n",
       "3  Effectively Embedded Schools and the Machinery of Modern Marketing The Thirteenth Annual Report on Schoolhouse Commercializing Trends: 2009-2010   \n",
       "4                                                                       Constitutional Provisions Guaranteeing Freedom of the Press in Pennsylvania   \n",
       "\n",
       "                                       url  volumeNumber  wordCount  \\\n",
       "0      http://www.jstor.org/stable/1277162          20.0      11348   \n",
       "1  http://www.jstor.org/stable/resrep28426           NaN      13697   \n",
       "2      http://www.jstor.org/stable/3474218          10.0       4012   \n",
       "3  http://www.jstor.org/stable/resrep42044           NaN      16250   \n",
       "4      http://www.jstor.org/stable/3306378          52.0       7567   \n",
       "\n",
       "                                                                                                                                                                                                                                                                                                                                                                                                                                                                                                          unigramCount  \\\n",
       "0  {'denied.': 1, 'opposing': 3, 'take': 5, 'retrial': 1, 'interruptions,': 1, 'Utility': 2, 'state;': 1, 'fought': 1, 'Coal': 2, 'prospective': 1, '\"Validity': 1, 'franchises,': 1, 'various': 3, 'injured': 1, 'be,': 2, 'affirmed': 2, 'Co.34': 1, 'inferred': 1, 'weight': 1, 'reliance': 1, 'remarked': 1, 'Sentimental': 1, 'side': 2, 'dissent.27': 1, 'TAXATION,': 1, 'world.\"': 1, 'jurisdiction': 2, '862;': 1, 'Commissioners,40': 1, 'impose': 1, 'classification': 3, 'immutable': 1, 'conserved': 1,...   \n",
       "1  {'MacArthur': 1, 'secrecy,': 1, 'com/infectiousdisease/covid19/87632': 1, 'advocacy.': 1, 'white-house-location-data-coronavirus/;': 1, 'information': 16, 'communities': 6, 'information,': 5, 'attack': 2, 'problems': 1, 'agencies.': 1, 'existence': 1, 'Institution,': 2, 'scored': 1, 'past': 3, 'range': 1, 'Frieden,': 1, 'role.': 2, 'right': 2, 'crimination”': 1, 'https://www.wsj.com/articles/federal-agencies-use-cellphone-loca-': 1, 'Censored': 1, 'explanations': 1, 'www.justice.gov/opa/file...   \n",
       "2  {'acts.': 2, 'stolen.': 1, '45': 1, 'proponents': 1, 'hysterical': 1, 'allow': 1, 'indulged': 1, 'malcontent,': 1, 'forbade': 1, 'Most': 1, 'Wigznore,': 1, '14': 1, 'Address': 1, '296,': 1, 'first,': 1, 'unwelcome': 1, 'Iaw,': 1, 'proscribed': 1, 'resulting': 1, 'freedom': 3, 'Dec.': 12, 'definitely': 1, 'satisfied': 1, 'i,': 1, 'create': 1, 'obtainable': 1, 'publishing,': 1, 'PERFORMANCE': 1, 'utterances.19': 1, 'nothing': 2, 'Courts': 1, '573¢': 1, 'suppression': 1, 'element': 1, 'facts,':...   \n",
       "3  {'Modern': 1, 'contests,': 2, 'fact,': 4, 'Cheese': 1, 'deceptive': 2, 'Tempe:': 2, '8-': 4, 'Digest': 1, '135-14.': 1, 'Practice': 1, 'relevant': 1, 'indicates': 1, 'Youth': 4, 'Jean': 3, 'Productions.': 1, '168.': 1, 'testimonial': 1, 'comply': 1, 'Markets': 2, 'Ella‟s': 1, '(January': 1, 'presenting': 1, 'Chairman,': 1, 'rather': 4, 'balance': 1, 'advertisement.62': 1, 'urge': 1, 'Our': 5, 'Academies': 1, 'problem': 2, 'Schor,': 1, 'landed': 1, 'consumption': 5, 'emphasized': 1, 'conclude...   \n",
       "4  {'contrary,': 1, 'scandalous': 1, 'thought': 4, '(Webb's': 1, 'introduced': 2, 'libel,': 7, 'Justice': 1, 'char-': 1, 'i6,': 1, 'warrant': 2, '(1809).': 1, 'P.': 4, 'principle\"': 1, 'publication': 22, 'I23,': 1, 'however': 2, 'Nevertheless,': 1, '(i877);': 1, 'extent': 1, 'malice.': 6, 'proof': 3, 'attacked': 1, '(if': 2, 'LAW': 2, 'think': 1, 'dicta': 1, '16': 1, 'failed': 1, 'pistol': 1, 'years': 1, 'com-': 3, 'malicious,': 1, 'fact.': 1, 'individual': 2, 'public,': 1, 'Const.': 5, 'Laws,'...   \n",
       "\n",
       "                                                                                                                                                                                                                                                                                                                                                                                                                                                                                                           bigramCount  \\\n",
       "0  {'basis of': 1, 'in 69': 2, 'once the': 1, 'in defiance': 1, 'lease which': 1, '\"public utilities\"': 1, 'companies indicate': 1, 'MARQUErTE L.': 1, 'employment made': 1, 'are, and': 1, 'not come': 1, '282 (I92I).': 1, 'in Deeds,\"': 1, 'the parties': 1, 'of treason': 1, 'occasions feeling': 1, 'on whether': 2, 'so classifying': 1, 'Ct. 252': 1, '28255 U.': 1, 'y14 was': 1, 'Scanlon Co.': 1, 'Brewster Rhoads,': 1, 'state, and': 2, 'denying the': 1, 'BULL. io6': 1, 'Mr. Justices': 1, 'or loss':...   \n",
       "1  {'that individuals': 1, 'for FY': 1, 'end, the': 1, 'a defining': 1, 'an app': 1, 'trump-veto-national-emergency.html .': 1, 'restrictions have': 1, 'and writing': 1, 'of law,': 2, 'National Policy': 1, 'Americans Without': 1, 'established to': 1, 'Comm. on': 8, 'been the': 1, 'immediate action': 1, 'safer, collecting': 1, 'statute to': 1, 'aimed to': 1, '60-Day Notice': 2, 'September 21,': 1, 'rarely before': 1, 'of automated': 1, 'limiting secret': 1, 'and Transparency': 1, 'acknowledges T...   \n",
       "2  {'in Abrams': 1, 'tendencies. According': 1, 'the charge.': 1, '1921* decision': 1, 'fixed only': 1, 'enunciating the': 1, 'abuse of': 1, 'the cases': 1, 'bell-Johnston (1908)': 1, 'v. Moilen': 1, 'CONTRACTS The': 1, 'restric- tion': 1, 'given enunciation': 1, 'lacking because': 1, 'absurd results': 1, '(1904) 144': 2, 'be eternally': 1, '64 Cal.': 1, '27. COMMENT': 1, 'by some': 1, 'for industrial': 1, 'ian they': 1, 'be justified': 1, 'the Schenck': 1, 'price level.': 1, 'would prevent': 1...   \n",
       "3  {'and Faith': 2, 'Michelle Obama': 1, '(Continued) Source': 2, 'program attributed': 1, 'vulnerability in': 1, 'recommended by': 1, 'of Practitioners': 2, 'resist immediate': 1, '& Peloza,': 1, 'own self-determined': 1, 'or without': 1, 'Integration and': 1, 'brands of': 1, 'Until recently,': 1, 'who were': 2, 'pledged ―better': 1, 'buses. For': 1, 'school commercialism': 2, 'during the': 2, 'http://www.stnonline.com/artman/publish/article_9915.shtml .': 1, 'attack for': 1, 'of Better': 2, '...   \n",
       "4  {'supposition is': 1, 'publications, however': 1, 'reign of': 1, 'mere surplusage.20': 1, 'motives and': 2, 'but there': 1, 'place upon': 1, 'justify the': 2, 'criminal immunity': 2, 'v. Dowling,': 1, 'as determined': 1, 'writing and': 1, 'thoughts and': 1, 'only is': 1, 'a day.': 1, 'were proper': 2, 'not dimin-': 1, 'man to': 2, 'lack of': 3, 'those only': 1, 'we construe': 1, 'or comment': 1, 'it adds': 1, 'one which': 1, '(I883). 12': 1, 'for libels': 2, 'But this': 1, 'In Coom.': 1, 'by...   \n",
       "\n",
       "                                                                                                                                                                                                                                                                                                                                                                                                                                                                                                          trigramCount  \\\n",
       "0  {'manufacturing or domestic': 1, 'Prices of Commodities,\"': 1, 'to infer anything': 1, 'of four objecting': 1, 'notes in 34': 1, 'v. Coronado Beach': 1, 'yields substantial compensation': 1, 'grade crossings in': 1, 'in other ways': 1, 'for compensation in': 1, 'Regulation and Housing': 1, 'penalties for delay': 1, 'will be treated': 1, 'demands. We do': 1, 'justifying the regulation': 1, 'unconstitutionality. The problem': 1, 'to certain cities': 1, 'any confidence. It': 1, 'Without previou...   \n",
       "1  {'Amendment, and the': 1, '10 values of': 1, 'A Needed Check': 1, 'And it recently': 1, 'Countering Violent Extremism': 3, 'situations in which': 1, 'Proclamations 95 Thomas': 1, 'Guard units such': 1, 'see Confronting the': 1, 'as a talk': 1, 'congressional oversight committees.57': 1, 'acist violence will': 1, 'President’s Emergency Powers,”': 1, 'to 182 on': 1, 'enable profiling based': 1, 'E R ’S': 1, 'iden- right violence': 1, 'have contacts in': 1, 'no . 12-20,': 1, 'to issue guidance'...   \n",
       "2  {'check is necessary': 1, 'opposition to organized': 1, 'such a decree,2': 1, 'and Wismer of': 1, 'a better police': 1, 'is not a': 1, 'degree are made': 1, 'rehearing denied Nov.': 1, 'existing govern- ment': 1, 'the facts. The': 1, 'punishable as principals': 2, 'teaches . *': 1, 'rule, be mutual,': 1, 'to discriminate between': 1, 'law of conspiracy,': 1, 'It seemed that': 1, '3-39 20S207- Thomas': 1, '\"The Normal Criminal': 1, 'damage or injury': 1, 'over the thought': 1, 'thought to get...   \n",
       "3  {'(2009). Age of': 1, 'In modern society,': 1, 'least theoretically, to': 1, 'Jan (2010, January': 5, 'content. In the': 1, 'Child nutrition bill': 1, 'principles and practice': 1, 'Bradshaw explained that': 1, '108 The American': 1, 'serves as a': 1, 'automatic snacking script': 1, 'Retrieved March 8,': 2, 'heightens their insecurities,': 1, 'children. http://nepc.colorado.edu/publication/Schoolhouse-commercialism-2010 15': 1, '16 of 44': 1, 'Eight categories were': 1, 'its Internet environ...   \n",
       "4  {'believing in the': 1, 'the institution of': 1, 'Convention of I776': 1, 'is no dispute': 1, 'jury to be': 1, 'by the constitutional': 2, 'faith and with': 1, 'the motives of': 1, 'both of I790': 1, 'respect to matters': 1, 'fact concern the': 1, 'but at the': 1, 'not (as he': 1, '6 CONSTITUTIONAL PROVISIONS': 1, 'in the section': 1, 'not malice need': 1, 'a scandalous nature,': 1, 'Chest. Co. Rep.': 1, 'manner in which': 1, '368 (i88i), Judge': 1, 'ment?' However ingenuity': 1, 'tigation o...   \n",
       "\n",
       "                                                                                                                                                                                                                                                                                                                                                                                                                                                                                                              abstract  \\\n",
       "0                                                                                                                                                                                                                                                                                                                                                                                                                                                                                                                  NaN   \n",
       "1  American democracy urgently needs renewal. In the coming years, one of the great issues facing the country will be the presidency itself. A half century ago, in the wake of Watergate and Vietnam, laws and rules aimed to check the “Imperial Presidency.” Over the decades those limits eroded and then were finally cast off. The past three years have seen a refusal to honor oversight and a politicization of the executive branch. The president insists the Constitution gives him “the right to do wh...   \n",
       "2                                                                                                                                                                                                                                                                                                                                                                                                                                                                                                                  NaN   \n",
       "3  In the context of the last two years’ recession, parents, teachers and administrators seem to increasingly welcome school-business “partnerships” that they hope may help ward off program cuts. Businesses encourage such arrangements because school-based marketing and advertising programs are perfectly poised to “brand” children at an early age: the school environment is relatively uncluttered, children are a captive and credulous audience, and marketing and advertising programs are normalized...   \n",
       "4                                                                                                                                                                                                                                                                                                                                                                                                                                                                                                                  NaN   \n",
       "\n",
       "           collection          editor hasPartTitle keyphrase subTitle  \n",
       "0                 NaN             NaN          NaN       NaN      NaN  \n",
       "1  [Research Reports]             NaN          NaN       NaN      NaN  \n",
       "2                 NaN             NaN          NaN       NaN      NaN  \n",
       "3  [Research Reports]  [Kevin Welner]          NaN       NaN      NaN  \n",
       "4                 NaN             NaN          NaN       NaN      NaN  "
      ]
     },
     "execution_count": 63,
     "metadata": {},
     "output_type": "execute_result"
    }
   ],
   "source": [
    "df.head()"
   ]
  },
  {
   "cell_type": "markdown",
   "metadata": {},
   "source": [
    "So we have a dataframe with 33 different columns, we can get a full list of column names:"
   ]
  },
  {
   "cell_type": "code",
   "execution_count": 64,
   "metadata": {},
   "outputs": [
    {
     "data": {
      "text/plain": [
       "Index(['creator', 'datePublished', 'docSubType', 'docType', 'fullText', 'id',\n",
       "       'identifier', 'isPartOf', 'issueNumber', 'language', 'outputFormat',\n",
       "       'pageCount', 'pageEnd', 'pageStart', 'pagination', 'provider',\n",
       "       'publicationYear', 'publisher', 'sourceCategory', 'tdmCategory',\n",
       "       'title', 'url', 'volumeNumber', 'wordCount', 'unigramCount',\n",
       "       'bigramCount', 'trigramCount', 'abstract', 'collection', 'editor',\n",
       "       'hasPartTitle', 'keyphrase', 'subTitle'],\n",
       "      dtype='object')"
      ]
     },
     "execution_count": 64,
     "metadata": {},
     "output_type": "execute_result"
    }
   ],
   "source": [
    "df.columns"
   ]
  },
  {
   "cell_type": "markdown",
   "metadata": {},
   "source": [
    "When we built the dataset from Constellate we did ask only for \"Full Text\" articles, so it helps to just check that we got what we wanted. We can count the number of NaN values under that column as follows:"
   ]
  },
  {
   "cell_type": "code",
   "execution_count": 65,
   "metadata": {},
   "outputs": [
    {
     "data": {
      "text/plain": [
       "0"
      ]
     },
     "execution_count": 65,
     "metadata": {},
     "output_type": "execute_result"
    }
   ],
   "source": [
    "df['fullText'].isna().sum()"
   ]
  },
  {
   "cell_type": "markdown",
   "metadata": {},
   "source": [
    "Checks out! We can also see how many NaN vlaues there are in the entire dataframe with the following simple little for loop (while also utilizing the really hand [f-string formatting](https://realpython.com/python-f-strings/):"
   ]
  },
  {
   "cell_type": "code",
   "execution_count": 66,
   "metadata": {},
   "outputs": [
    {
     "name": "stdout",
     "output_type": "stream",
     "text": [
      "The number of NaN values in creator is: 28\n",
      "The number of NaN values in datePublished is: 0\n",
      "The number of NaN values in docSubType is: 67\n",
      "The number of NaN values in docType is: 0\n",
      "The number of NaN values in fullText is: 0\n",
      "The number of NaN values in id is: 0\n",
      "The number of NaN values in identifier is: 0\n",
      "The number of NaN values in isPartOf is: 42\n",
      "The number of NaN values in issueNumber is: 67\n",
      "The number of NaN values in language is: 0\n",
      "The number of NaN values in outputFormat is: 0\n",
      "The number of NaN values in pageCount is: 0\n",
      "The number of NaN values in pageEnd is: 42\n",
      "The number of NaN values in pageStart is: 42\n",
      "The number of NaN values in pagination is: 42\n",
      "The number of NaN values in provider is: 0\n",
      "The number of NaN values in publicationYear is: 0\n",
      "The number of NaN values in publisher is: 26\n",
      "The number of NaN values in sourceCategory is: 42\n",
      "The number of NaN values in tdmCategory is: 0\n",
      "The number of NaN values in title is: 0\n",
      "The number of NaN values in url is: 0\n",
      "The number of NaN values in volumeNumber is: 67\n",
      "The number of NaN values in wordCount is: 0\n",
      "The number of NaN values in unigramCount is: 0\n",
      "The number of NaN values in bigramCount is: 0\n",
      "The number of NaN values in trigramCount is: 0\n",
      "The number of NaN values in abstract is: 48\n",
      "The number of NaN values in collection is: 68\n",
      "The number of NaN values in editor is: 107\n",
      "The number of NaN values in hasPartTitle is: 86\n",
      "The number of NaN values in keyphrase is: 85\n",
      "The number of NaN values in subTitle is: 101\n"
     ]
    }
   ],
   "source": [
    "for column in df:\n",
    "    print(f\"The number of NaN values in {column} is: {df[column].isna().sum()}\")"
   ]
  },
  {
   "cell_type": "markdown",
   "metadata": {},
   "source": [
    "`Pandas`, of course, also has a way to get this information using the .info() method."
   ]
  },
  {
   "cell_type": "code",
   "execution_count": 67,
   "metadata": {},
   "outputs": [
    {
     "name": "stdout",
     "output_type": "stream",
     "text": [
      "<class 'pandas.core.frame.DataFrame'>\n",
      "RangeIndex: 110 entries, 0 to 109\n",
      "Data columns (total 33 columns):\n",
      " #   Column           Non-Null Count  Dtype  \n",
      "---  ------           --------------  -----  \n",
      " 0   creator          82 non-null     object \n",
      " 1   datePublished    110 non-null    object \n",
      " 2   docSubType       43 non-null     object \n",
      " 3   docType          110 non-null    object \n",
      " 4   fullText         110 non-null    object \n",
      " 5   id               110 non-null    object \n",
      " 6   identifier       110 non-null    object \n",
      " 7   isPartOf         68 non-null     object \n",
      " 8   issueNumber      43 non-null     float64\n",
      " 9   language         110 non-null    object \n",
      " 10  outputFormat     110 non-null    object \n",
      " 11  pageCount        110 non-null    int64  \n",
      " 12  pageEnd          68 non-null     object \n",
      " 13  pageStart        68 non-null     object \n",
      " 14  pagination       68 non-null     object \n",
      " 15  provider         110 non-null    object \n",
      " 16  publicationYear  110 non-null    int64  \n",
      " 17  publisher        84 non-null     object \n",
      " 18  sourceCategory   68 non-null     object \n",
      " 19  tdmCategory      110 non-null    object \n",
      " 20  title            110 non-null    object \n",
      " 21  url              110 non-null    object \n",
      " 22  volumeNumber     43 non-null     float64\n",
      " 23  wordCount        110 non-null    int64  \n",
      " 24  unigramCount     110 non-null    object \n",
      " 25  bigramCount      110 non-null    object \n",
      " 26  trigramCount     110 non-null    object \n",
      " 27  abstract         62 non-null     object \n",
      " 28  collection       42 non-null     object \n",
      " 29  editor           3 non-null      object \n",
      " 30  hasPartTitle     24 non-null     object \n",
      " 31  keyphrase        25 non-null     object \n",
      " 32  subTitle         9 non-null      object \n",
      "dtypes: float64(2), int64(3), object(28)\n",
      "memory usage: 28.5+ KB\n"
     ]
    }
   ],
   "source": [
    "df.info()"
   ]
  },
  {
   "cell_type": "markdown",
   "metadata": {},
   "source": [
    "We have a total of 110 rows and the 'fullText' column registers \"110 non-null values,\" so we've got full text for all the entries here. "
   ]
  },
  {
   "cell_type": "code",
   "execution_count": 68,
   "metadata": {},
   "outputs": [
    {
     "name": "stdout",
     "output_type": "stream",
     "text": [
      "Empty DataFrame\n",
      "Columns: [creator, datePublished, docSubType, docType, fullText, id, identifier, isPartOf, issueNumber, language, outputFormat, pageCount, pageEnd, pageStart, pagination, provider, publicationYear, publisher, sourceCategory, tdmCategory, title, url, volumeNumber, wordCount, unigramCount, bigramCount, trigramCount, abstract, collection, editor, hasPartTitle, keyphrase, subTitle]\n",
      "Index: []\n"
     ]
    }
   ],
   "source": [
    "nans = df[df['fullText'].isna()]\n",
    "print(nans)"
   ]
  },
  {
   "cell_type": "markdown",
   "metadata": {},
   "source": [
    "If we wanted to have a closer look at where in the dataframe (by index) the rows that aren't NaNs—i.e. the rows that do actually have an editor listed—rows occur, we simply call:"
   ]
  },
  {
   "cell_type": "code",
   "execution_count": 69,
   "metadata": {},
   "outputs": [
    {
     "data": {
      "text/plain": [
       "3                                                                                            [Kevin Welner]\n",
       "14                                                                                         [Michael German]\n",
       "52    [MICAH C. MCMILLAN, ERIC H. FRENCK, RICHARD A. HANRAHAN, JEFFREY C. CAMPBELL, THOMASA T. HUFFSTUTLER]\n",
       "Name: editor, dtype: object"
      ]
     },
     "execution_count": 69,
     "metadata": {},
     "output_type": "execute_result"
    }
   ],
   "source": [
    "publisher_nans = df[~df['editor'].isna()]\n",
    "publisher_nans['editor']"
   ]
  },
  {
   "cell_type": "markdown",
   "metadata": {},
   "source": [
    "So now we can see that rows `3`, `14`, and `52` are the entries with a named editor or editors."
   ]
  },
  {
   "cell_type": "markdown",
   "metadata": {},
   "source": [
    "### Investigating the `unigramCount` Column:"
   ]
  },
  {
   "cell_type": "markdown",
   "metadata": {},
   "source": [
    "Since we're interested in eventually visualizing the word counts in the texts of our dataset, we should first do a little exploring of the key column in question. If we print out the .head() of that column we'll see that we're dealing with a dicitionary in each row that has the word and then the number of times that word shows up in the text:"
   ]
  },
  {
   "cell_type": "code",
   "execution_count": 70,
   "metadata": {},
   "outputs": [
    {
     "data": {
      "text/plain": [
       "0    {'denied.': 1, 'opposing': 3, 'take': 5, 'retrial': 1, 'interruptions,': 1, 'Utility': 2, 'state;': 1, 'fought': 1, 'Coal': 2, 'prospective': 1, '\"Validity': 1, 'franchises,': 1, 'various': 3, 'injured': 1, 'be,': 2, 'affirmed': 2, 'Co.34': 1, 'inferred': 1, 'weight': 1, 'reliance': 1, 'remarked': 1, 'Sentimental': 1, 'side': 2, 'dissent.27': 1, 'TAXATION,': 1, 'world.\"': 1, 'jurisdiction': 2, '862;': 1, 'Commissioners,40': 1, 'impose': 1, 'classification': 3, 'immutable': 1, 'conserved': 1,...\n",
       "1    {'MacArthur': 1, 'secrecy,': 1, 'com/infectiousdisease/covid19/87632': 1, 'advocacy.': 1, 'white-house-location-data-coronavirus/;': 1, 'information': 16, 'communities': 6, 'information,': 5, 'attack': 2, 'problems': 1, 'agencies.': 1, 'existence': 1, 'Institution,': 2, 'scored': 1, 'past': 3, 'range': 1, 'Frieden,': 1, 'role.': 2, 'right': 2, 'crimination”': 1, 'https://www.wsj.com/articles/federal-agencies-use-cellphone-loca-': 1, 'Censored': 1, 'explanations': 1, 'www.justice.gov/opa/file...\n",
       "2    {'acts.': 2, 'stolen.': 1, '45': 1, 'proponents': 1, 'hysterical': 1, 'allow': 1, 'indulged': 1, 'malcontent,': 1, 'forbade': 1, 'Most': 1, 'Wigznore,': 1, '14': 1, 'Address': 1, '296,': 1, 'first,': 1, 'unwelcome': 1, 'Iaw,': 1, 'proscribed': 1, 'resulting': 1, 'freedom': 3, 'Dec.': 12, 'definitely': 1, 'satisfied': 1, 'i,': 1, 'create': 1, 'obtainable': 1, 'publishing,': 1, 'PERFORMANCE': 1, 'utterances.19': 1, 'nothing': 2, 'Courts': 1, '573¢': 1, 'suppression': 1, 'element': 1, 'facts,':...\n",
       "3    {'Modern': 1, 'contests,': 2, 'fact,': 4, 'Cheese': 1, 'deceptive': 2, 'Tempe:': 2, '8-': 4, 'Digest': 1, '135-14.': 1, 'Practice': 1, 'relevant': 1, 'indicates': 1, 'Youth': 4, 'Jean': 3, 'Productions.': 1, '168.': 1, 'testimonial': 1, 'comply': 1, 'Markets': 2, 'Ella‟s': 1, '(January': 1, 'presenting': 1, 'Chairman,': 1, 'rather': 4, 'balance': 1, 'advertisement.62': 1, 'urge': 1, 'Our': 5, 'Academies': 1, 'problem': 2, 'Schor,': 1, 'landed': 1, 'consumption': 5, 'emphasized': 1, 'conclude...\n",
       "4    {'contrary,': 1, 'scandalous': 1, 'thought': 4, '(Webb's': 1, 'introduced': 2, 'libel,': 7, 'Justice': 1, 'char-': 1, 'i6,': 1, 'warrant': 2, '(1809).': 1, 'P.': 4, 'principle\"': 1, 'publication': 22, 'I23,': 1, 'however': 2, 'Nevertheless,': 1, '(i877);': 1, 'extent': 1, 'malice.': 6, 'proof': 3, 'attacked': 1, '(if': 2, 'LAW': 2, 'think': 1, 'dicta': 1, '16': 1, 'failed': 1, 'pistol': 1, 'years': 1, 'com-': 3, 'malicious,': 1, 'fact.': 1, 'individual': 2, 'public,': 1, 'Const.': 5, 'Laws,'...\n",
       "Name: unigramCount, dtype: object"
      ]
     },
     "execution_count": 70,
     "metadata": {},
     "output_type": "execute_result"
    }
   ],
   "source": [
    "df['unigramCount'].head()"
   ]
  },
  {
   "cell_type": "markdown",
   "metadata": {},
   "source": [
    "We can also see just from this very short printout that the dictionaries are not sorted in any way; it might be nice to have the words with the highest counts at the start of the dictionary. How could we handle that? Well, let's write a function to sort the dictionary."
   ]
  },
  {
   "cell_type": "code",
   "execution_count": 71,
   "metadata": {},
   "outputs": [],
   "source": [
    "# Here we create our function to sort a dictionary by values from greatest to least:\n",
    "def sort_a_dictionary_by_values(dictionary):\n",
    "    sorted_dict = dict(sorted(dictionary.items(), key=lambda x: x[1], reverse=True))\n",
    "    # Documentation for the `lambda` function available [here](https://www.w3schools.com/python/python_lambda.asp)\n",
    "    return(sorted_dict)"
   ]
  },
  {
   "cell_type": "markdown",
   "metadata": {},
   "source": [
    "Now let's test it by creating a simple \"toy dictionary\" and see if everything works as we want.)"
   ]
  },
  {
   "cell_type": "code",
   "execution_count": 72,
   "metadata": {},
   "outputs": [
    {
     "name": "stdout",
     "output_type": "stream",
     "text": [
      "Your unsorted dictionary looks like: {'howdy': 5643, 'doody': 89080, 'time': 10}\n",
      "Your sorted dictionary now looks like: {'doody': 89080, 'howdy': 5643, 'time': 10}\n"
     ]
    }
   ],
   "source": [
    "test_dictionary = {'howdy': 5643, 'doody': 89080, 'time': 10}\n",
    "test_dictionary_sorted = sort_a_dictionary_by_values(test_dictionary)\n",
    "print(f\"Your unsorted dictionary looks like: {test_dictionary}\")\n",
    "print(f\"Your sorted dictionary now looks like: {test_dictionary_sorted}\")"
   ]
  },
  {
   "cell_type": "markdown",
   "metadata": {},
   "source": [
    "Cool!"
   ]
  },
  {
   "cell_type": "markdown",
   "metadata": {},
   "source": [
    "With our `sort_a_dictionary_by_values` function defined, we can quite easily see which words are the most frequent in each row of the `unigramCount` column. We can even create another column in our dataframe to hold that sorted dictionary:"
   ]
  },
  {
   "cell_type": "code",
   "execution_count": 73,
   "metadata": {},
   "outputs": [
    {
     "data": {
      "text/plain": [
       "0    {'the': 849, 'of': 499, 'to': 337, 'and': 251, 'in': 243, 'a': 189, 'that': 180, 'is': 139, 'L.': 121, 'be': 109, 'was': 108, 'it': 96, 'not': 93, 'by': 87, 'on': 87, 'for': 84, 'The': 79, 'or': 75, 'as': 68, 'state': 67, 'which': 51, 'an': 51, 'REV.': 49, 'may': 47, 'with': 42, 'Justice': 40, 'are': 40, '*': 39, 'its': 37, 'U.': 37, 'REv.': 35, 'statute': 35, 'were': 35, 'Mr.': 35, 'power': 34, 'v.': 34, 'S.': 33, 'Ct.': 31, 'MICH.': 31, 'Sup.': 31, 'had': 31, 'court': 30, 'their': 30, 'pub...\n",
       "1    {'.': 768, 'and': 490, 'the': 468, 'of': 376, 'to': 299, 'for': 191, 'a': 151, 'in': 147, 'on': 132, 'that': 93, 'The': 83, 'National': 68, 'should': 66, 'as': 63, 'is': 61, 'Brennan': 61, 'Center': 59, 'with': 51, '2020,': 49, 'by': 49, 'A': 47, 'Justice': 45, 'or': 42, 'has': 41, 'president': 41, 'Security': 41, 'are': 38, 'Act': 37, 'an': 37, 'U': 36, '.S': 36, 'from': 35, 'be': 33, '2019,': 33, 'Congress': 32, 'which': 31, 'national': 31, 'have': 30, 'New': 30, 'not': 29, 'law': 29, 'Lib...\n",
       "2    {'the': 262, 'of': 206, 'to': 79, 'and': 78, 'in': 74, 'is': 65, 'a': 56, 'that': 52, 'v.': 38, 'by': 33, 'The': 32, 'or': 30, 'it': 29, 'was': 28, 'Cal.': 28, 'People': 25, 'as': 25, 'be': 23, 'Pac.': 21, 'for': 20, 'its': 19, 'law': 18, 'not': 16, 'an': 15, '.': 14, 'which': 14, 'n.': 13, 'are': 13, 'who': 13, 'Dec.': 12, 'this': 12, 'any': 12, 'p.': 11, 'against': 11, 'such': 11, 'on': 11, 'criminal': 11, 'at': 10, 'when': 10, 'have': 10, 'crime': 10, 'they': 10, 'may': 10, 'Law': 9, 'App...\n",
       "3    {'and': 480, 'of': 450, 'the': 431, 'to': 372, 'in': 290, 'from': 213, 'Retrieved': 177, 'that': 169, 'for': 157, 'a': 155, 'The': 135, 'advertising': 131, '2010,': 129, 'on': 125, '&': 98, 'their': 84, 'children': 83, 'is': 79, 'are': 77, 'with': 70, 'marketing': 69, 'September': 59, 'as': 59, 'or': 58, '(2010,': 55, 'by': 55, 'they': 54, 'Education': 54, 'Advertising': 52, 'In': 51, '2009,': 50, 'June': 49, 'food': 49, 'school': 48, 'it': 46, '44': 46, 'an': 45, 'http://nepc.colorado.edu/p...\n",
       "4    {'the': 577, 'of': 300, 'to': 194, 'in': 173, 'be': 135, 'and': 128, 'that': 125, 'is': 116, 'a': 99, 'for': 73, 'not': 70, 'v.': 67, 'was': 63, 'or': 61, 'it': 54, 'public': 51, 'by': 49, 'as': 47, 'The': 46, 'which': 43, 'common': 43, 'law': 40, 'Com.': 38, 'any': 37, 'are': 34, 'no': 34, 'cases': 33, 'may': 33, 'at': 32, 'this': 32, 'but': 30, 'has': 30, 'there': 28, 'matter': 24, 'proper': 24, 'been': 24, 'if': 24, 'shall': 23, 'upon': 23, '\"': 23, 'publication': 22, 'constitution': 22, ...\n",
       "Name: unigramCountSorted, dtype: object"
      ]
     },
     "execution_count": 73,
     "metadata": {},
     "output_type": "execute_result"
    }
   ],
   "source": [
    "df['unigramCountSorted'] = df['unigramCount'].apply(sort_a_dictionary_by_values)\n",
    "df['unigramCountSorted'].head()"
   ]
  },
  {
   "cell_type": "markdown",
   "metadata": {},
   "source": [
    "### Creating Some Word Clouds:"
   ]
  },
  {
   "cell_type": "markdown",
   "metadata": {},
   "source": [
    "The previous cell block certainly shows us one way of visualizing these counts. Another is the good ol' WordCloud, which sizes the font of a word based on its frequency, i.e. so words that show up more often are printed in larger font sizes. (The font colors also change based upon the frequency.) There are a number of ways we could go about getting the data that we have from Constellate into a nice format to plot in a Word Cloud, but we want to see if we can be a little bit more flexible here. Since the dataset already comes with word counts (counts that we can now sort), it's a pretty easy step to get a WordCloud visualization—a visualization we can use to see if it matches up with what we got in the previous cell. In fact, the [WordCloud library](https://amueller.github.io/word_cloud/) (a go-to library for many text analysis practitioners for generating WordClouds here in the Python ecosystem) already has [a function](https://amueller.github.io/word_cloud/auto_examples/frequency.html?highlight=generate%20from%20frequencies) to create the cloud right from the word frequencies. We can therefore use the word frequencies already stored in the `unigramCountSorted` column of our dataframe. So let's write a simple function that utilizes it and creates the word cloud:"
   ]
  },
  {
   "cell_type": "code",
   "execution_count": 74,
   "metadata": {},
   "outputs": [],
   "source": [
    "def generate_word_cloud(dict_values):\n",
    "\n",
    "    wordcloud = WordCloud(width=700, height=700, max_words=100, random_state=1, background_color='gray', colormap='plasma', collocations=False).generate_from_frequencies(dict_values)\n",
    "    #plt.figure(figsize=(40, 30))\n",
    "    plt.imshow(wordcloud)\n",
    "    plt.axis('off')\n",
    "    plt.show()"
   ]
  },
  {
   "cell_type": "markdown",
   "metadata": {},
   "source": [
    "Let's say we wanted to produce a word cloud solely for the text in the first row of our dataframe. Simple enough!"
   ]
  },
  {
   "cell_type": "code",
   "execution_count": 79,
   "metadata": {},
   "outputs": [
    {
     "data": {
      "image/png": "[encoded data removed]",
      "text/plain": [
       "<Figure size 432x288 with 1 Axes>"
      ]
     },
     "metadata": {
      "needs_background": "light"
     },
     "output_type": "display_data"
    }
   ],
   "source": [
    "generate_word_cloud(df['unigramCountSorted'].iloc[0])"
   ]
  },
  {
   "cell_type": "markdown",
   "metadata": {},
   "source": [
    "This would seem to match up and jive well with our printout a couple of cells earlier; we saw there that the words \"the,\" \"of,\" \"to,\" and \"and\" were at the top of the list—and the visualization here shows that both in terms of those words' font sizes and colors as well."
   ]
  },
  {
   "cell_type": "code",
   "execution_count": 81,
   "metadata": {},
   "outputs": [
    {
     "data": {
      "image/png": "[encoded data removed]",
      "text/plain": [
       "<Figure size 432x288 with 1 Axes>"
      ]
     },
     "metadata": {
      "needs_background": "light"
     },
     "output_type": "display_data"
    }
   ],
   "source": [
    "generate_word_cloud(df['unigramCountSorted'].iloc[1])"
   ]
  },
  {
   "cell_type": "code",
   "execution_count": 80,
   "metadata": {},
   "outputs": [
    {
     "data": {
      "image/png": "[encoded data removed]",
      "text/plain": [
       "<Figure size 432x288 with 1 Axes>"
      ]
     },
     "metadata": {
      "needs_background": "light"
     },
     "output_type": "display_data"
    }
   ],
   "source": [
    "generate_word_cloud(df['unigramCountSorted'].iloc[2])"
   ]
  },
  {
   "cell_type": "markdown",
   "metadata": {},
   "source": [
    "Of course, it turns out that these words are common in all of the printouts from the `df['unigramCountSorted'].head()` call."
   ]
  },
  {
   "cell_type": "markdown",
   "metadata": {},
   "source": [
    "So far we can see a strong motivation for something that most digital text analysts know about all too well. These short words—\"the,\" \"and,\" \"to,\" etc.—are all ones that show up incredibly often in English, but they do not contribute all that much to the meaning of the text. Therefore, in the whole \"data cleaning\" process, we often spend some time removing words like them from our data. If one hunts around a tiny little bit in the [documentation for the WordCloud class](https://amueller.github.io/word_cloud/generated/wordcloud.WordCloud.html?highlight=generate%20from%20frequencies), they will notice that said documentation explicitly states that if one uses the `generate_from_frequencies` function, the standard stopwords are \"[i]gnored if using `generate_from_frequencies`.\") Now, what if we wanted to still use our dictionary of word frequencies and remove all of those stopwords from our dictionary? Well,  let's practice a little bit and write our own function to do it using the list of stopwords in WordCloud. We'll initialize a list that contains the standard English stopwords and then remove them from the dictionary with our function. "
   ]
  },
  {
   "cell_type": "markdown",
   "metadata": {},
   "source": [
    "First we set the `STOPWORDS` list from the WordCloud library and then create our test list. And, let's show a couple of different ways to do this—one using a good ol' [Python list comprehension](https://realpython.com/list-comprehension-python/) and the other with a custom function we create:"
   ]
  },
  {
   "cell_type": "code",
   "execution_count": 83,
   "metadata": {},
   "outputs": [
    {
     "data": {
      "text/plain": [
       "{'He Who Must Not Be Named': 3245,\n",
       " 'Harry Potter': 4542324,\n",
       " 'Hermione Granger': 10000000,\n",
       " 'Ronald': 980,\n",
       " 'Sirius Black': 87}"
      ]
     },
     "execution_count": 83,
     "metadata": {},
     "output_type": "execute_result"
    }
   ],
   "source": [
    "stop_words = set(STOPWORDS)\n",
    "# We can see all the stopwords WordCloud provides if we simply `print(stop_words)`\n",
    "\n",
    "def remove_stopwords_from_a_dict(dictionary):\n",
    "    cleaned_dictionary = {k: v for k, v in dictionary.items() if k not in stop_words}\n",
    "    return(cleaned_dictionary)\n",
    "\n",
    "test_dictionary = {'a': 9808, 'an': 83987, 'He Who Must Not Be Named': 3245, 'Harry Potter': 4542324, 'Hermione Granger': 10000000, 'Ronald': 980, 'the': 2, 'of': 56, 'in': 12, 'Sirius Black': 87}\n",
    "\n",
    "cleaned_test_dictionary = remove_stopwords_from_a_dict(test_dictionary)\n",
    "cleaned_test_dictionary"
   ]
  },
  {
   "cell_type": "markdown",
   "metadata": {},
   "source": [
    "Looks good—no stopwords showing up ..."
   ]
  },
  {
   "cell_type": "code",
   "execution_count": 82,
   "metadata": {},
   "outputs": [],
   "source": [
    "# Let's initialize our test list:\n",
    "#test_list = ['the', 'and', 'has', 'hello', 'howdy', 'doody!']\n",
    "\n",
    "# Option 1: using a simply list comprehension to remove all the items in the list that are not in the stopwords list:\n",
    "#cleaned_list = [i for i in test_list if i not in stop_words]\n",
    "\n",
    "# Option 2: let's write our own function:\n",
    "#def remove_stopwords_from_a_list(input_list):\n",
    "    #cleaned_list = [i for i in input_list if i not in stop_words]\n",
    "    #return(cleaned_list)"
   ]
  },
  {
   "cell_type": "markdown",
   "metadata": {},
   "source": [
    "Now let's test these two avenues to make sure they both produce the same result (and the result we want too!):"
   ]
  },
  {
   "cell_type": "code",
   "execution_count": null,
   "metadata": {},
   "outputs": [],
   "source": [
    "option_1_cleaned_list = [i for i in test_list if i not in stop_words]\n",
    "option_2_cleaned_list = remove_stopwords_from_a_list(test_list)\n",
    "print(option_1_cleaned_list)\n",
    "print(option_2_cleaned_list)"
   ]
  },
  {
   "cell_type": "markdown",
   "metadata": {},
   "source": [
    "Yay."
   ]
  },
  {
   "cell_type": "code",
   "execution_count": null,
   "metadata": {},
   "outputs": [],
   "source": [
    "#def convert_tup_to_dict(list_of_tuples):\n",
    "    #result = dict(list_of_tuples)\n",
    "    #return(result)"
   ]
  },
  {
   "cell_type": "code",
   "execution_count": null,
   "metadata": {},
   "outputs": [],
   "source": [
    "test = [('the', 849), ('of', 499), ('to', 337), ('and', 251)]"
   ]
  },
  {
   "cell_type": "code",
   "execution_count": null,
   "metadata": {},
   "outputs": [],
   "source": [
    "result = convert_tup_to_dict(test)\n",
    "result"
   ]
  },
  {
   "cell_type": "code",
   "execution_count": null,
   "metadata": {},
   "outputs": [],
   "source": [
    "df2 = df.sort_values(by='wordCount', ascending=False).reset_index()\n",
    "print(df2['wordCount'].head())\n",
    "print(df2.iloc[0])"
   ]
  },
  {
   "cell_type": "code",
   "execution_count": null,
   "metadata": {},
   "outputs": [],
   "source": [
    "import numpy as np\n",
    "import seaborn as sns\n",
    "\n",
    "stop_words = set(STOPWORDS)\n",
    "\n",
    "def create_df(input):\n",
    "    list_words = input.split(' ')\n",
    "    set_words_full = list(set(list_words))\n",
    "\n",
    "    set_words = [i for i in set_words_full if i not in stop_words]\n",
    "    count_words = [list_words.count(i) for i in set_words]\n",
    "\n",
    "    df = pd.DataFrame(zip(set_words, count_words), columns=['words', 'count'])\n",
    "    df.sort_values('count', ascending=False, inplace=True)\n",
    "    df.reset_index(drop=True, inplace=True)\n",
    "    return df"
   ]
  },
  {
   "cell_type": "code",
   "execution_count": null,
   "metadata": {},
   "outputs": [],
   "source": [
    "print(stop_words)"
   ]
  },
  {
   "cell_type": "code",
   "execution_count": null,
   "metadata": {},
   "outputs": [],
   "source": [
    "def get_color_dict(palette, number, start):\n",
    "    pal = list(sns.color_palette(palette=palette, n_colors=number).as_hex())\n",
    "    color_d = dict(enumerate(pal, start=start))\n",
    "    return color_d"
   ]
  },
  {
   "cell_type": "code",
   "execution_count": null,
   "metadata": {},
   "outputs": [],
   "source": [
    "pd.set_option('display.max_rows', None)\n",
    "pd.set_option('display.max_columns', None)\n",
    "pd.set_option('display.width', None)\n",
    "pd.set_option('display.max_colwidth', None)\n",
    "df_of_interest = df.iloc[0]\n",
    "print(df_of_interest)"
   ]
  },
  {
   "cell_type": "code",
   "execution_count": null,
   "metadata": {},
   "outputs": [],
   "source": [
    "full_text_of_interest = df_of_interest['fullText']\n",
    "full_string = \" \".join(full_text_of_interest)\n",
    "print(full_string[0:500])"
   ]
  },
  {
   "cell_type": "code",
   "execution_count": null,
   "metadata": {},
   "outputs": [],
   "source": [
    "import re\n",
    "stop_words = set(STOPWORDS)\n",
    "list_words = full_string.split(' ')\n",
    "list_words = [re.sub(r'[0-9]', '', i) for i in list_words]\n",
    "list_words_lower = [x.lower() for x in list_words]\n",
    "list_words_alpha_only = [x for x in list_words_lower if x.isalpha() == True]\n",
    "set_words_full = list(set(list_words_alpha_only))\n",
    "set_words = [i for i in set_words_full if i not in stop_words]\n",
    "count_words = [list_words_alpha_only.count(i) for i in set_words]\n",
    "\n",
    "counts_df = pd.DataFrame(zip(set_words, count_words), columns=['word', 'count'])\n",
    "counts_df.sort_values('count', ascending=False, inplace=True)\n",
    "counts_df.reset_index(drop=True, inplace=True)\n",
    "counts_df.head(10)"
   ]
  },
  {
   "cell_type": "code",
   "execution_count": null,
   "metadata": {},
   "outputs": [],
   "source": [
    "ax = sns.barplot(x = 'word', y = 'count', data=counts_df.iloc[0:100], alpha=0.5)\n",
    "ax.set_xticklabels(ax.get_xticklabels(), rotation=45)"
   ]
  },
  {
   "cell_type": "code",
   "execution_count": null,
   "metadata": {},
   "outputs": [],
   "source": [
    "index_list = [[i[0], i[-1]+1] for i in np.array_split(range(100), 5)]\n",
    "print(index_list)\n",
    "n = counts_df['count'].max()\n",
    "color_dict = get_color_dict('plasma', n, 1)\n",
    "\n",
    "fig, axs = plt.subplots(1, 5, figsize=(16, 8), facecolor='white', squeeze=False)\n",
    "for col, idx in zip(range(0, 5), index_list):\n",
    "    df = counts_df[idx[0]:idx[-1]]\n",
    "    #print(df)\n",
    "    label = [w + ': ' + str(n) for w, n in zip(df['word'], df['count'])]\n",
    "    color_l = [color_dict.get(i) for i in df['count']]\n",
    "    x = list(df['count'])\n",
    "    y = list(range(0, 20))\n",
    "\n",
    "    sns.barplot(x = x, y = y, data=df, alpha=0.9, orient='h', ax = axs[0][col], palette=color_l)\n",
    "    axs[0][col].set_xlim(0, n+1)\n",
    "    axs[0][col].set_yticklabels(label, fontsize=12)\n",
    "    #axs[0][col].spines['bottom'].set_color('white')\n",
    "    #axs[0][col].spines['right'].set_color('white')\n",
    "    #axs[0][col].spines['left'].set_color('white')\n",
    "    #axs[0][col].spines['top'].set_color('white')\n",
    "\n",
    "plt.tight_layout()\n",
    "plt.show()"
   ]
  },
  {
   "cell_type": "code",
   "execution_count": null,
   "metadata": {},
   "outputs": [],
   "source": [
    "n = 30\n",
    "pal = list(sns.color_palette(palette='tab10', n_colors=n).as_hex())\n",
    "\n",
    "import plotly.express as px\n",
    "\n",
    "fig = px.pie(counts_df[0:30], values='count', names='word', color_discrete_sequence=pal)\n",
    "\n",
    "fig.update_traces(textposition='outside', textinfo='percent+label', hole=.6, hoverinfo='label+percent+name')\n",
    "\n",
    "fig.update_layout(width=800, height=600, margin=dict(t=0, l=0, r=0, b=0))\n",
    "fig.show()"
   ]
  },
  {
   "cell_type": "code",
   "execution_count": null,
   "metadata": {},
   "outputs": [],
   "source": [
    "test_string = '''\n",
    "MICHIGAN LAW REVIEW VOL. XX JANUARY, 1922 No. 3 THE SUPREME COURT'S CONSTRUCTION OF THE FEDERAL CONSTITUTION IN I920-I92I, III1 IV. POLICE POWER THE difficulty of classifying cases on the police power has not evaporated since the review of decisions for the preceding year. The headings there suggested are used here. Classification on the basis of the objects of the legislation appears too precarious to be attempted with any confidence. It seems safer to work along the line of the subject matters with which the legislation deals. V. EMINENT DOMAIN and then here is some more text!\n",
    "'''\n",
    "\n",
    "contents = ['IV. POLICE POWER', 'V. EMINENT DOMAIN']\n",
    "\n",
    "processed_text = []\n",
    "\n",
    "part_1 = test_string.split(\"IV. POLICE POWER\")[1]\n",
    "part_2 = test_string.split('V. EMINENT DOMAIN')[1]\n",
    "print(part_1)\n",
    "print(part_2)"
   ]
  },
  {
   "cell_type": "code",
   "execution_count": null,
   "metadata": {},
   "outputs": [],
   "source": [
    "contents = ['IV. POLICE POWER', 'V. EMINENT DOMAIN']\n",
    "\n",
    "with open('full_text_of_entry_zero.txt', encoding='utf-8') as f:\n",
    "    text = f.read()\n",
    "\n",
    "test_string = ''' \n",
    "        Here is some filler material. IV. POLICE POWER Here is some text that goes under this particular section. V. EMINENT DOMAIN And then here is some text under a different section and heading.\n",
    "'''\n",
    "\n",
    "start = text.find(contents[0])\n",
    "end = text.find(contents[1])\n",
    "print(start)\n",
    "print(end)\n",
    "\n",
    "section_1 = text[start:end]\n",
    "#print(section_1)\n",
    "\n",
    "section_2 = text[end:len(text)]\n",
    "print(section_2)\n"
   ]
  },
  {
   "cell_type": "code",
   "execution_count": null,
   "metadata": {},
   "outputs": [],
   "source": [
    "def get_df(input_text):\n",
    "    list_words = input_text.split(' ')\n",
    "    set_words_full = list(set(list_words))\n",
    "    \n",
    "    #remove stop words\n",
    "    set_words = [i for i in set_words_full if i not in stop_words]\n",
    "    \n",
    "    #count each word\n",
    "    count_words = [list_words.count(i) for i in set_words]\n",
    "    \n",
    "    #create DataFrame\n",
    "    df = pd.DataFrame(zip(set_words, count_words), columns=['words','count'])\n",
    "    df.sort_values('count', ascending=False, inplace=True)\n",
    "    df.reset_index(drop=True, inplace=True)\n",
    "    return df"
   ]
  },
  {
   "cell_type": "code",
   "execution_count": null,
   "metadata": {},
   "outputs": [],
   "source": [
    "combined_sections = section_1.split(' ') + section_2.split(' ')\n",
    "\n",
    "#print(combined_sections)\n",
    "df_section_words = [list(get_df(i)['words'][0:50]) for i in combined_sections]\n",
    "df_section_counts = [list(get_df(i)['count'][0:50]) for i in combined_sections]\n",
    "df_section_contents = [[x.lower()] * len(y) for x, y in zip(contents, df_section_words)]\n",
    "\n",
    "df_cont = pd.DataFrame(zip(sum(df_section_contents, []), sum(df_section_words, []), sum(df_section_counts, [])), columns=['contents', 'words', 'counts'])\n",
    "df_cont.head(20)"
   ]
  },
  {
   "cell_type": "code",
   "execution_count": null,
   "metadata": {},
   "outputs": [],
   "source": [
    "fig = px.sunburst(df, path=['word'], values='count')\n",
    "fig.show()"
   ]
  },
  {
   "cell_type": "code",
   "execution_count": null,
   "metadata": {},
   "outputs": [],
   "source": [
    "import numpy as np\n",
    "fig = px.treemap(counts_df[0:50], path=[px.Constant(\"word counts\"), 'word'],\n",
    "    values = 'count',\n",
    "    color='count',\n",
    "    color_continuous_scale='plasma',\n",
    "    color_continuous_midpoint=np.average(counts_df['count']))\n",
    "\n",
    "fig.update_layout(margin = dict(t=50, l=25, r=25, b=25))\n",
    "fig.show()\n"
   ]
  },
  {
   "cell_type": "code",
   "execution_count": null,
   "metadata": {},
   "outputs": [],
   "source": [
    "import circlify\n",
    "\n",
    "circles = circlify.circlify(counts_df['count'][0:30].tolist(),\n",
    "    show_enclosure=False,\n",
    "    target_enclosure=circlify.Circle(x=0, y=0))\n",
    "\n",
    "n = counts_df['count'][0:30].max()\n",
    "color_dict = get_color_dict('plasma', n, 1)"
   ]
  },
  {
   "cell_type": "code",
   "execution_count": null,
   "metadata": {},
   "outputs": [],
   "source": [
    "fig, ax = plt.subplots(figsize=(9, 9), facecolor='white')\n",
    "ax.axis('off')\n",
    "lim = max(max(abs(circle.x)+ circle.r, abs(circle.y)+circle.r) for circle in circles)\n",
    "plt.xlim(-lim, lim)\n",
    "plt.ylim(-lim, lim)\n",
    "\n",
    "labels = list(counts_df['word'][0:30])\n",
    "counts = list(counts_df['count'][0:30])\n",
    "labels.reverse()\n",
    "counts.reverse()\n",
    "\n",
    "for circle, label, count in zip(circles, labels, counts):\n",
    "    x, y, r = circle\n",
    "    ax.add_patch(plt.Circle((x, y), r, alpha=0.9, color=color_dict.get(count)))\n",
    "    plt.annotate(label + '\\n' + str(count), (x,y), size=12, va='center', ha='center')\n",
    "plt.xticks([])\n",
    "plt.yticks([])\n",
    "plt.show()"
   ]
  },
  {
   "cell_type": "code",
   "execution_count": null,
   "metadata": {},
   "outputs": [],
   "source": [
    "df = pd.read_json(gzip.open('law_full.jsonl.gz'), lines=True)\n",
    "df['datePublished'] = pd.to_datetime(df['datePublished'])\n",
    "df['year'] = pd.DatetimeIndex(df['datePublished']).year\n",
    "df.year.head()\n",
    "df.groupby(['year'])['id'].agg('count').plot.bar()"
   ]
  },
  {
   "cell_type": "markdown",
   "metadata": {},
   "source": [
    "### Top2Vec Topic Modeling:"
   ]
  },
  {
   "cell_type": "markdown",
   "metadata": {},
   "source": [
    "Let's see what we can see if we do a little topic modeling with our dataset using the really wonderful little library [Top2Vec](https://github.com/ddangelov/Top2Vec)."
   ]
  },
  {
   "cell_type": "code",
   "execution_count": null,
   "metadata": {},
   "outputs": [],
   "source": [
    "from top2vec import Top2Vec"
   ]
  },
  {
   "cell_type": "code",
   "execution_count": null,
   "metadata": {},
   "outputs": [],
   "source": [
    "df = pd.read_json(gzip.open('law_full.jsonl.gz'), lines=True)\n",
    "\n",
    "df['liststring'] = df['fullText'].transform(lambda x: \" \".join(map(str, x)))\n",
    "docs = df['liststring'].tolist()"
   ]
  },
  {
   "cell_type": "code",
   "execution_count": null,
   "metadata": {},
   "outputs": [],
   "source": [
    "top2vec_model = Top2Vec(docs)"
   ]
  },
  {
   "cell_type": "code",
   "execution_count": null,
   "metadata": {},
   "outputs": [],
   "source": [
    "vectors = top2vec_model._get_document_vectors()"
   ]
  },
  {
   "cell_type": "code",
   "execution_count": null,
   "metadata": {},
   "outputs": [],
   "source": [
    "top2vec_model.get_num_topics()"
   ]
  },
  {
   "cell_type": "code",
   "execution_count": null,
   "metadata": {},
   "outputs": [],
   "source": [
    "top2vec_model.topic_words"
   ]
  },
  {
   "cell_type": "code",
   "execution_count": null,
   "metadata": {},
   "outputs": [],
   "source": [
    "documents, document_scores, document_ids = top2vec_model.search_documents_by_topic(topic_num=0, num_docs=5)\n",
    "for doc, score, doc_id in zip(documents, document_scores, document_ids):\n",
    "    print(f\"Document: {doc_id}, Score: {score}\")\n",
    "    print(\"-----------\")\n",
    "    print(doc[0:250])\n",
    "    print(\"-----------\")"
   ]
  },
  {
   "cell_type": "code",
   "execution_count": null,
   "metadata": {},
   "outputs": [],
   "source": [
    "topic_words, word_scores, topic_scores, topic_nums = top2vec_model.search_topics(keywords=[\"speech\"], num_topics=2)\n",
    "#print(topic_nums)\n",
    "for topic_words, word_scores, topic_scores, topic_nums in zip(topic_words, word_scores, topic_scores, topic_nums):\n",
    "    print(topic_words, word_scores, topic_scores, topic_nums)"
   ]
  },
  {
   "cell_type": "code",
   "execution_count": null,
   "metadata": {},
   "outputs": [],
   "source": [
    "from top2vec import Top2Vec\n",
    "import umap.plot\n",
    "import matplotlib.pyplot as plt\n",
    "from matplotlib import cm\n",
    "import numpy as np\n",
    "\n",
    "def generate_documents_plot(self, background_color=\"white\", reduced=False):\n",
    "    \"\"\"\n",
    "    Create a documents and topics scatter plot.\n",
    "    A documents and topics scatter plot will be generated and displayed.\n",
    "    Documents on the same topic display in the same color. \n",
    "    On the plot, circles mean documents, and numbers mean the number of \n",
    "    topic. \n",
    "    Cautions: The plot should only be considered as approximate information\n",
    "    because it is a result of dimension reduction from 5D to 2D. And it could\n",
    "    be hard to distinguish for more than 20 topics. In this case, use the\n",
    "    reduced option.\n",
    "    Parameters\n",
    "    ----------\n",
    "    background_color : str (Optional, default='white')\n",
    "        Background color for the plot. Suggested options are:\n",
    "            * white\n",
    "            * black\n",
    "    reduced: bool (Optional, default False)\n",
    "        Original topics are used by default. If True the\n",
    "        reduced topics will be used.\n",
    "    Returns\n",
    "    -------\n",
    "    A matplotlib plot of documents and topics\n",
    "    \"\"\"\n",
    "\n",
    "    if reduced:\n",
    "        self._validate_hierarchical_reduction()\n",
    "        topic_vectors = self.topic_vectors_reduced\n",
    "        topic_sizes, topic_nums = self.get_topic_sizes(reduced=True)\n",
    "        doc_topics = self.doc_top_reduced\n",
    "        doc_dist = self.doc_dist_reduced\n",
    "    else:\n",
    "        topic_vectors = self.topic_vectors\n",
    "        topic_sizes, topic_nums = self.get_topic_sizes()\n",
    "        doc_topics = self.doc_top\n",
    "        doc_dist = self.doc_dist\n",
    "    if len(topic_nums) <= 12:\n",
    "        cmap = 'plasma'\n",
    "    elif len(topic_nums) <= 20:\n",
    "        cmap = 'inferno'\n",
    "    else:\n",
    "        cmap = 'viridis'\n",
    "    # Args for UMAP. Same as current args except n_components to plot graph\n",
    "    #umap_args_for_plot = self.umap_args.copy()\n",
    "    umap_args_for_plot = umap_args\n",
    "    # Dimension reduction\n",
    "    document_vectors = self._get_document_vectors()\n",
    "    topic_vectors = topic_vectors\n",
    "    umap_model = umap.UMAP(**umap_args_for_plot, random_state=42).fit(document_vectors)  #  + self.topic_words\n",
    "    document_vectors_2d = umap_model.embedding_  # same as umap_model.transform(self._get_document_vectors())\n",
    "    topic_vectors_2d = umap_model.transform(topic_vectors)\n",
    "    ## Draw a graph\n",
    "    fig = plt.figure(figsize=(16, 12))\n",
    "    ax = fig.subplots()\n",
    "    ax.axis(\"off\")\n",
    "    fig.set_facecolor(background_color)\n",
    "    # Draw document vectors\n",
    "    ax.scatter(*document_vectors_2d.T, \n",
    "                s=20, c=doc_topics, cmap=cmap, alpha=0.7,  # linewidth=1, \n",
    "                )\n",
    "    # Draw topic vectors\n",
    "    ax.scatter(*topic_vectors_2d.T, \n",
    "                s=200, linewidth=2, c=topic_nums, cmap=cmap, alpha=0.4,\n",
    "                )\n",
    "    for topic_num, topic_vector_2d in zip(topic_nums, topic_vectors_2d):\n",
    "        ax.annotate(topic_num, \n",
    "                    topic_vector_2d,\n",
    "                    horizontalalignment='center',\n",
    "                    verticalalignment='center',\n",
    "                    size=10,\n",
    "                    color='white') \n",
    "    plt.show()\n",
    "    \n",
    "\n",
    "top2vec_model_for_plot = top2vec_model\n",
    "\n",
    "umap_args = {\n",
    "    \"n_neighbors\": 15,\n",
    "    \"n_components\": 2,\n",
    "    \"metric\": \"cosine\",\n",
    "    \"min_dist\": 0.10,\n",
    "    'spread': 1\n",
    "}\n",
    "\n",
    "generate_documents_plot(top2vec_model_for_plot)"
   ]
  },
  {
   "cell_type": "code",
   "execution_count": null,
   "metadata": {},
   "outputs": [],
   "source": [
    "import spacy\n",
    "nlp = spacy.load('en_core_web_lg')"
   ]
  },
  {
   "cell_type": "code",
   "execution_count": null,
   "metadata": {},
   "outputs": [],
   "source": [
    "nlp.max_length = 1262030\n",
    "removal= ['ADV','PRON','CCONJ','PUNCT','PART','DET','ADP','SPACE', 'NUM', 'SYM']\n",
    "\n",
    "df['liststring'] = df['fullText'].transform(lambda x: \" \".join(map(str, x)))\n",
    "docs = df['liststring'].tolist()\n",
    "\n",
    "tokens = []\n",
    "for summary in nlp.pipe(docs):\n",
    "   proj_tok = [token.lemma_.lower() for token in summary if token.pos_ not in removal and not token.is_stop and token.is_alpha]\n",
    "   tokens.append(proj_tok)\n"
   ]
  },
  {
   "cell_type": "code",
   "execution_count": null,
   "metadata": {},
   "outputs": [],
   "source": [
    "df['tokens'] = tokens\n",
    "#df['tokens']"
   ]
  },
  {
   "cell_type": "code",
   "execution_count": null,
   "metadata": {},
   "outputs": [],
   "source": [
    "from gensim.corpora.dictionary import Dictionary\n",
    "\n",
    "dictionary = Dictionary(df['tokens'])\n",
    "print(dictionary.token2id)\n",
    "\n",
    "print(dictionary['t'])"
   ]
  },
  {
   "cell_type": "markdown",
   "metadata": {},
   "source": [
    "Let's increase the quantity of data at our disposal here!"
   ]
  },
  {
   "cell_type": "code",
   "execution_count": null,
   "metadata": {},
   "outputs": [],
   "source": [
    "file_path = '/Users/spicy.kev/Desktop/supreme-court-opinions-by-author.jsonl.gz'\n",
    "supreme_court_opinions_df = pd.read_json(gzip.open(file_path), lines=True)"
   ]
  },
  {
   "cell_type": "code",
   "execution_count": null,
   "metadata": {},
   "outputs": [],
   "source": [
    "from gensim.models import LdaMulticore\n",
    "from gensim.models import CoherenceModel\n",
    "dictionary.filter_extremes(no_below=5, no_above=0.5, keep_n=1000)\n",
    "\n",
    "# Create corpus\n",
    "corpus = [dictionary.doc2bow(doc) for doc in df['tokens']]\n",
    "\n",
    "lda_model = LdaMulticore(corpus=corpus, id2word=dictionary, iterations=50, num_topics=10, workers = 4, passes=10)"
   ]
  },
  {
   "cell_type": "code",
   "execution_count": null,
   "metadata": {},
   "outputs": [],
   "source": [
    "topics = []\n",
    "score = []\n",
    "for i in range(1,20,1):\n",
    "   lda_model = LdaMulticore(corpus=corpus, id2word=dictionary, iterations=10, num_topics=i, workers = 4, passes=10, random_state=100)\n",
    "   cm = CoherenceModel(model=lda_model, corpus=corpus, dictionary=dictionary, coherence='u_mass')\n",
    "   topics.append(i)\n",
    "   score.append(cm.get_coherence())\n",
    "plt.plot(topics, score)\n",
    "plt.xlabel('Number of Topics')\n",
    "plt.ylabel('Coherence Score')\n",
    "plt.show()"
   ]
  },
  {
   "cell_type": "code",
   "execution_count": null,
   "metadata": {},
   "outputs": [],
   "source": [
    "topics = []\n",
    "score = []\n",
    "for i in range(1,20,1):\n",
    "   lda_model = LdaMulticore(corpus=corpus, id2word=dictionary, iterations=10, num_topics=i, workers = 4, passes=10, random_state=100)\n",
    "   cm = CoherenceModel(model=lda_model, texts = df['tokens'], corpus=corpus, dictionary=dictionary, coherence='c_v')\n",
    "   topics.append(i)\n",
    "   score.append(cm.get_coherence())\n",
    "_=plt.plot(topics, score)\n",
    "_=plt.xlabel('Number of Topics')\n",
    "_=plt.ylabel('Coherence Score')\n",
    "plt.show()"
   ]
  },
  {
   "cell_type": "code",
   "execution_count": null,
   "metadata": {},
   "outputs": [],
   "source": [
    "import pyLDAvis.gensim_models\n",
    "pyLDAvis.enable_notebook()# Visualise inside a notebook\n",
    "from matplotlib import style\n",
    "style.use('dark_background')\n",
    "\n",
    "lda_display = pyLDAvis.gensim_models.prepare(lda_model, corpus, dictionary)\n",
    "pyLDAvis.display(lda_display)"
   ]
  },
  {
   "cell_type": "markdown",
   "metadata": {},
   "source": [
    "The built dataset has all of the unigrams and their counts in the `unigramCount` as a dictionary—it might be nice to sort them in descending order with the word possesssing the highest count on down. Let's write a simple function to sort the dictionary of unigrams (using the [sorted function](https://www.w3schools.com/python/ref_func_sorted.asp#:~:text=The%20sorted()%20function%20returns,string%20values%20AND%20numeric%20values)):"
   ]
  },
  {
   "cell_type": "markdown",
   "metadata": {},
   "source": []
  },
  {
   "cell_type": "markdown",
   "metadata": {},
   "source": []
  },
  {
   "cell_type": "markdown",
   "metadata": {},
   "source": [
    "We could then create a new column (if we wanted) to hold the sorted dictionary using the pandas [`apply` function](https://pandas.pydata.org/docs/reference/api/pandas.DataFrame.apply.html):"
   ]
  },
  {
   "cell_type": "code",
   "execution_count": null,
   "metadata": {},
   "outputs": [],
   "source": [
    "df['sorted_unigram_dict'] = df['unigramCount'].apply(sort_a_dictionary_by_values)"
   ]
  },
  {
   "cell_type": "markdown",
   "metadata": {},
   "source": [
    "Of course, we could also create a list with all the columns we wanted to apply this function to and then write a simply for loop to apply it to all the columns in our list:"
   ]
  },
  {
   "cell_type": "code",
   "execution_count": null,
   "metadata": {},
   "outputs": [],
   "source": [
    "columns = ['unigramCount', 'bigramCount', 'trigramCount']\n",
    "for column in columns:\n",
    "    df[f\"sorted_{column}_dict\"] = df[column].apply(sort_a_dictionary_by_values)\n",
    "\n",
    "# Then we just check to see that the function is doing what we hope it is:\n",
    "df[['sorted_unigramCount_dict', 'sorted_bigramCount_dict', 'sorted_trigramCount_dict']].head()"
   ]
  },
  {
   "cell_type": "markdown",
   "metadata": {},
   "source": [
    "(We might come back and utilize this a little bit more.)"
   ]
  },
  {
   "cell_type": "markdown",
   "metadata": {},
   "source": []
  },
  {
   "cell_type": "markdown",
   "metadata": {},
   "source": []
  }
 ],
 "metadata": {
  "kernelspec": {
   "display_name": "Python 3.9.12 ('victorian_authorship_env')",
   "language": "python",
   "name": "python3"
  },
  "language_info": {
   "codemirror_mode": {
    "name": "ipython",
    "version": 3
   },
   "file_extension": ".py",
   "mimetype": "text/x-python",
   "name": "python",
   "nbconvert_exporter": "python",
   "pygments_lexer": "ipython3",
   "version": "3.9.12"
  },
  "vscode": {
   "interpreter": {
    "hash": "ef5d861bb1be136369da2a14d97f47e042662aed23f513481be9d838db3326bb"
   }
  }
 },
 "nbformat": 4,
 "nbformat_minor": 2
}
