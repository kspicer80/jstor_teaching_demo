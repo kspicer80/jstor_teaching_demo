{
 "cells": [
  {
   "cell_type": "markdown",
   "metadata": {},
   "source": [
    "# Introduction to Visualizing Text Data: One-Upping the WordCloud"
   ]
  },
  {
   "cell_type": "markdown",
   "metadata": {},
   "source": [
    "**Audience:** Teachers/Learners"
   ]
  },
  {
   "cell_type": "markdown",
   "metadata": {},
   "source": [
    "**Use Case**: Tutorial/How-To"
   ]
  },
  {
   "cell_type": "markdown",
   "metadata": {},
   "source": [
    "**Difficulty:** Beginner/Intermediate"
   ]
  },
  {
   "cell_type": "markdown",
   "metadata": {},
   "source": [
    "**Completion Time:** ~45 minutes"
   ]
  },
  {
   "cell_type": "markdown",
   "metadata": {},
   "source": [
    "**Knowledge Required:**\n",
    "\n",
    "* Python basics (variables, flow control, creating custom functions, lists, dictionaries)\n",
    "* Basic understanding of working with word frequencies (we will look at some other ways to do many of the things covered in the ITHAKA notebook on \"Exploring Word Frequencies\" [here](https://constellate.org/tutorials/exploring-word-frequencies))"
   ]
  },
  {
   "cell_type": "markdown",
   "metadata": {},
   "source": [
    "**Knowledge Recommended:**\n",
    "\n",
    "* [`WordCloud`](https://amueller.github.io/word_cloud/index.html) visualizations\n",
    "* Basic understanding of [`matplotlib`](https://matplotlib.org/) and [seaborn](https://seaborn.pydata.org/) for graphing and plotting\n",
    "* Very basic understanding of [`pandas`](https://pandas.pydata.org/) for tabular data manipulation\n",
    "* Regular Expressions to help clean up our data (official documentation [here](https://docs.python.org/3/howto/regex.html)—more fun [video version](https://www.youtube.com/watch?v=sa-TUpSx1JA&t=141s) courtesy of Corey Schafer)—this is helpful but not required"
   ]
  },
  {
   "cell_type": "markdown",
   "metadata": {},
   "source": [
    "**Learning Objectives:** After this lesson, learners will be able to:"
   ]
  },
  {
   "cell_type": "markdown",
   "metadata": {},
   "source": [
    "**Research Pipeline:**\n",
    "\n",
    "1. Research steps before this notebook: grab some data from [Constellate's Dataset Builder](https://constellate.org/)\n",
    "2. Plot some visualizations of words frequencies in our dataset.\n",
    "3. Steps after this notebook: find your very own dataset and go to town!\n",
    "4. Show us the results."
   ]
  },
  {
   "cell_type": "markdown",
   "metadata": {},
   "source": [
    "## Table of Contents"
   ]
  },
  {
   "cell_type": "markdown",
   "metadata": {},
   "source": [
    "1. Importing necessary libraries\n",
    "2. Grabbing our dataset and initial inspection of said data with pandas\n",
    "3. Data (re)wrangling with custom functions to handle what we're interested in \n",
    "4. Preliminary Word Cloud creation to see the need for further data wrangling/cleaning\n",
    "5. Different Methods of Visualization instead of the Word Cloud: pie charts, barplots, treemaps\n",
    "6. Exercises"
   ]
  },
  {
   "cell_type": "markdown",
   "metadata": {},
   "source": [
    "### Required Data:\n",
    "\n",
    "**Data Format**:\n",
    "\n",
    "* File downloaded from the [Constellate site](https://constellate.org/) in `.gz` format (this file also available from [here](https://github.com/kspicer80/jstor_teaching_demo/blob/main/datasets/law_full.jsonl.gz))\n",
    "\n",
    "Starting with the , I simply downloaded the built dataset to my local machine (other options for loading the dataset are available [here](https://constellate.org/tutorials/exploring-metadata)—the downloaded  file comes as a `.gz` file, so we need to open that up with the handy [`gzip` library](https://docs.python.org/3/library/gzip.html). We want to do a little bit of work with [`pandas`](https://pandas.pydata.org/docs/) here (we could work, of course, just with the standard `json` library, but we're going to want to do some manipulation on the data and pandas is perfecty suited for that). So let's get the file opened up and into a DataFrame:"
   ]
  },
  {
   "cell_type": "markdown",
   "metadata": {},
   "source": [
    "### Introduction:\n",
    "\n",
    "Here in this notebook we are going to be grabbing some data from Constellate, doing a little bit of [exploratory data analysis (EDA)](https://towardsdatascience.com/exploratory-data-analysis-8fc1cb20fd15#:~:text=Exploratory%20Data%20Analysis%20refers%20to,summary%20statistics%20and%20graphical%20representations.), and then utilizing some of the data to plot word frequencies in the downloaded data. We are going to look at some of the ways we might one-up the standard WordCloud seen so often in introductory treatments of textual data."
   ]
  },
  {
   "cell_type": "markdown",
   "metadata": {},
   "source": [
    "### Lesson:\n",
    "\n",
    "Here in this notebook we're going to do a little bit of work with the JSTOR Constellate [data builder](https://constellate.org/builder). I started by searching \"free speech\" and \"First Amendment\" as keywords, grabbing all the \"full text\" document types within the \"Law\" category. Constellate also has a nice feature that gives assigns a \"Dataset ID\" to each of the datasets one builds. The one for this project is \"b7adbb84-6bec-549e-83bb-11aeb045e5f9\". "
   ]
  },
  {
   "cell_type": "markdown",
   "metadata": {},
   "source": [
    "### 1. Getting our Libraries Imported"
   ]
  },
  {
   "cell_type": "code",
   "execution_count": 42,
   "metadata": {},
   "outputs": [],
   "source": [
    "import re\n",
    "import gzip\n",
    "import matplotlib.pyplot as plt\n",
    "import pandas as pd\n",
    "# Nice primer on pandas display_options [here](https://towardsdatascience.com/8-commonly-used-pandas-display-options-you-should-know-a832365efa95)\n",
    "pd.set_option('display.max_rows', None)\n",
    "pd.set_option('display.max_columns', None)\n",
    "pd.set_option('display.max_colwidth', 500)\n",
    "\n",
    "from wordcloud import WordCloud, STOPWORDS\n",
    "import matplotlib.pyplot as plt\n",
    "import numpy as np\n",
    "import seaborn as sns\n",
    "import circlify"
   ]
  },
  {
   "cell_type": "code",
   "execution_count": 43,
   "metadata": {},
   "outputs": [],
   "source": [
    "df = pd.read_json(gzip.open('./datasets/law_full.jsonl.gz'), lines=True)"
   ]
  },
  {
   "cell_type": "markdown",
   "metadata": {},
   "source": [
    "### 2. Dataset Inspection:"
   ]
  },
  {
   "cell_type": "code",
   "execution_count": 44,
   "metadata": {},
   "outputs": [
    {
     "data": {
      "text/html": [
       "<div>\n",
       "<style scoped>\n",
       "    .dataframe tbody tr th:only-of-type {\n",
       "        vertical-align: middle;\n",
       "    }\n",
       "\n",
       "    .dataframe tbody tr th {\n",
       "        vertical-align: top;\n",
       "    }\n",
       "\n",
       "    .dataframe thead th {\n",
       "        text-align: right;\n",
       "    }\n",
       "</style>\n",
       "<table border=\"1\" class=\"dataframe\">\n",
       "  <thead>\n",
       "    <tr style=\"text-align: right;\">\n",
       "      <th></th>\n",
       "      <th>creator</th>\n",
       "      <th>datePublished</th>\n",
       "      <th>docSubType</th>\n",
       "      <th>docType</th>\n",
       "      <th>fullText</th>\n",
       "      <th>id</th>\n",
       "      <th>identifier</th>\n",
       "      <th>isPartOf</th>\n",
       "      <th>issueNumber</th>\n",
       "      <th>language</th>\n",
       "      <th>outputFormat</th>\n",
       "      <th>pageCount</th>\n",
       "      <th>pageEnd</th>\n",
       "      <th>pageStart</th>\n",
       "      <th>pagination</th>\n",
       "      <th>provider</th>\n",
       "      <th>publicationYear</th>\n",
       "      <th>publisher</th>\n",
       "      <th>sourceCategory</th>\n",
       "      <th>tdmCategory</th>\n",
       "      <th>title</th>\n",
       "      <th>url</th>\n",
       "      <th>volumeNumber</th>\n",
       "      <th>wordCount</th>\n",
       "      <th>unigramCount</th>\n",
       "      <th>bigramCount</th>\n",
       "      <th>trigramCount</th>\n",
       "      <th>abstract</th>\n",
       "      <th>collection</th>\n",
       "      <th>editor</th>\n",
       "      <th>hasPartTitle</th>\n",
       "      <th>keyphrase</th>\n",
       "      <th>subTitle</th>\n",
       "    </tr>\n",
       "  </thead>\n",
       "  <tbody>\n",
       "    <tr>\n",
       "      <th>0</th>\n",
       "      <td>[Thomas Reed Powell]</td>\n",
       "      <td>1922-01-01</td>\n",
       "      <td>research-article</td>\n",
       "      <td>article</td>\n",
       "      <td>[MICHIGAN LAW REVIEW VOL. XX JANUARY, 1922 No. 3 THE SUPREME COURT'S CONSTRUCTION OF THE FEDERAL CONSTITUTION IN I920-I92I, III1 IV. PoLIcE POWER THE difficulty of classifying cases on the police power has not evaporated since the review of decisions for the preceding year. The headings there suggested are used here. Classification on the basis of the objects of the legislation appears too precarious to be attempted with any confidence. It seems safer to work along the line of the subject ma...</td>\n",
       "      <td>http://www.jstor.org/stable/1277162</td>\n",
       "      <td>[{'name': 'issn', 'value': '00262234'}, {'name': 'local_uuid', 'value': 'bc2669a7-d087-3bf4-8b2b-aebe1b9003bf'}, {'name': 'local_doi', 'value': '10.2307/1277162'}, {'name': 'journal_id', 'value': 'michlawrevi'}]</td>\n",
       "      <td>Michigan Law Review</td>\n",
       "      <td>3.0</td>\n",
       "      <td>[eng]</td>\n",
       "      <td>[unigram, bigram, trigram, fullText]</td>\n",
       "      <td>28</td>\n",
       "      <td>288</td>\n",
       "      <td>261</td>\n",
       "      <td>pp. 261-288</td>\n",
       "      <td>jstor</td>\n",
       "      <td>1922</td>\n",
       "      <td>The Michigan Law Review Association</td>\n",
       "      <td>[Law, Law]</td>\n",
       "      <td>[Law - Civil law]</td>\n",
       "      <td>The Supreme Court's Construction of the Federal Constitution in 1920-1921, III</td>\n",
       "      <td>http://www.jstor.org/stable/1277162</td>\n",
       "      <td>20.0</td>\n",
       "      <td>11348</td>\n",
       "      <td>{'denied.': 1, 'opposing': 3, 'take': 5, 'retrial': 1, 'interruptions,': 1, 'Utility': 2, 'state;': 1, 'fought': 1, 'Coal': 2, 'prospective': 1, '\"Validity': 1, 'franchises,': 1, 'various': 3, 'injured': 1, 'be,': 2, 'affirmed': 2, 'Co.34': 1, 'inferred': 1, 'weight': 1, 'reliance': 1, 'remarked': 1, 'Sentimental': 1, 'side': 2, 'dissent.27': 1, 'TAXATION,': 1, 'world.\"': 1, 'jurisdiction': 2, '862;': 1, 'Commissioners,40': 1, 'impose': 1, 'classification': 3, 'immutable': 1, 'conserved': 1,...</td>\n",
       "      <td>{'basis of': 1, 'in 69': 2, 'once the': 1, 'in defiance': 1, 'lease which': 1, '\"public utilities\"': 1, 'companies indicate': 1, 'MARQUErTE L.': 1, 'employment made': 1, 'are, and': 1, 'not come': 1, '282 (I92I).': 1, 'in Deeds,\"': 1, 'the parties': 1, 'of treason': 1, 'occasions feeling': 1, 'on whether': 2, 'so classifying': 1, 'Ct. 252': 1, '28255 U.': 1, 'y14 was': 1, 'Scanlon Co.': 1, 'Brewster Rhoads,': 1, 'state, and': 2, 'denying the': 1, 'BULL. io6': 1, 'Mr. Justices': 1, 'or loss':...</td>\n",
       "      <td>{'manufacturing or domestic': 1, 'Prices of Commodities,\"': 1, 'to infer anything': 1, 'of four objecting': 1, 'notes in 34': 1, 'v. Coronado Beach': 1, 'yields substantial compensation': 1, 'grade crossings in': 1, 'in other ways': 1, 'for compensation in': 1, 'Regulation and Housing': 1, 'penalties for delay': 1, 'will be treated': 1, 'demands. We do': 1, 'justifying the regulation': 1, 'unconstitutionality. The problem': 1, 'to certain cities': 1, 'any confidence. It': 1, 'Without previou...</td>\n",
       "      <td>NaN</td>\n",
       "      <td>NaN</td>\n",
       "      <td>NaN</td>\n",
       "      <td>NaN</td>\n",
       "      <td>NaN</td>\n",
       "      <td>NaN</td>\n",
       "    </tr>\n",
       "    <tr>\n",
       "      <th>1</th>\n",
       "      <td>[Elizabeth Goitein, Faiza Patel]</td>\n",
       "      <td>2020-10-22</td>\n",
       "      <td>NaN</td>\n",
       "      <td>report</td>\n",
       "      <td>[TRANSITION 2020–2021 A Presidential Agenda for Liberty and National Security By Elizabeth Goitein and Faiza Patel PUBLISHED OCTOBER 22, 2020 Brennan Center for Justice at New York University School of Law policy proposal, Table of Contents Foreword . . . . . . . . . . . . . . . . . . . . . . . . . . . . . . . . . . . . . . . . . . . . . . . . . . . . . . . . . . . . . . 3 A B O U T T H E B R E N N A N C E N T E R FO R J U ST I C E Introduction . . . . . . . . . . . . . . . . . . . . . . . ....</td>\n",
       "      <td>http://www.jstor.org/stable/resrep28426</td>\n",
       "      <td>[{'name': 'local_uuid', 'value': '3dbcbae0-0d2f-3b58-9d5a-c55e6d5b6127'}]</td>\n",
       "      <td>NaN</td>\n",
       "      <td>NaN</td>\n",
       "      <td>[eng]</td>\n",
       "      <td>[unigram, bigram, trigram, fullText]</td>\n",
       "      <td>23</td>\n",
       "      <td>NaN</td>\n",
       "      <td>NaN</td>\n",
       "      <td>NaN</td>\n",
       "      <td>jstor</td>\n",
       "      <td>2020</td>\n",
       "      <td>Brennan Center for Justice</td>\n",
       "      <td>NaN</td>\n",
       "      <td>[Law - Computer law]</td>\n",
       "      <td>A Presidential Agenda for Liberty and National Security</td>\n",
       "      <td>http://www.jstor.org/stable/resrep28426</td>\n",
       "      <td>NaN</td>\n",
       "      <td>13697</td>\n",
       "      <td>{'MacArthur': 1, 'secrecy,': 1, 'com/infectiousdisease/covid19/87632': 1, 'advocacy.': 1, 'white-house-location-data-coronavirus/;': 1, 'information': 16, 'communities': 6, 'information,': 5, 'attack': 2, 'problems': 1, 'agencies.': 1, 'existence': 1, 'Institution,': 2, 'scored': 1, 'past': 3, 'range': 1, 'Frieden,': 1, 'role.': 2, 'right': 2, 'crimination”': 1, 'https://www.wsj.com/articles/federal-agencies-use-cellphone-loca-': 1, 'Censored': 1, 'explanations': 1, 'www.justice.gov/opa/file...</td>\n",
       "      <td>{'that individuals': 1, 'for FY': 1, 'end, the': 1, 'a defining': 1, 'an app': 1, 'trump-veto-national-emergency.html .': 1, 'restrictions have': 1, 'and writing': 1, 'of law,': 2, 'National Policy': 1, 'Americans Without': 1, 'established to': 1, 'Comm. on': 8, 'been the': 1, 'immediate action': 1, 'safer, collecting': 1, 'statute to': 1, 'aimed to': 1, '60-Day Notice': 2, 'September 21,': 1, 'rarely before': 1, 'of automated': 1, 'limiting secret': 1, 'and Transparency': 1, 'acknowledges T...</td>\n",
       "      <td>{'Amendment, and the': 1, '10 values of': 1, 'A Needed Check': 1, 'And it recently': 1, 'Countering Violent Extremism': 3, 'situations in which': 1, 'Proclamations 95 Thomas': 1, 'Guard units such': 1, 'see Confronting the': 1, 'as a talk': 1, 'congressional oversight committees.57': 1, 'acist violence will': 1, 'President’s Emergency Powers,”': 1, 'to 182 on': 1, 'enable profiling based': 1, 'E R ’S': 1, 'iden- right violence': 1, 'have contacts in': 1, 'no . 12-20,': 1, 'to issue guidance'...</td>\n",
       "      <td>American democracy urgently needs renewal. In the coming years, one of the great issues facing the country will be the presidency itself. A half century ago, in the wake of Watergate and Vietnam, laws and rules aimed to check the “Imperial Presidency.” Over the decades those limits eroded and then were finally cast off. The past three years have seen a refusal to honor oversight and a politicization of the executive branch. The president insists the Constitution gives him “the right to do wh...</td>\n",
       "      <td>[Research Reports]</td>\n",
       "      <td>NaN</td>\n",
       "      <td>NaN</td>\n",
       "      <td>NaN</td>\n",
       "      <td>NaN</td>\n",
       "    </tr>\n",
       "    <tr>\n",
       "      <th>2</th>\n",
       "      <td>[H. R. M.]</td>\n",
       "      <td>1922-09-01</td>\n",
       "      <td>research-article</td>\n",
       "      <td>article</td>\n",
       "      <td>[512 10 CALIFORNIA LAW REVIEW CRIMINAL LAW: CRIMINAL SYNDICALIST ACT: CONSTITUTION- AL LAW: VALIDITY OF THE ACT UNDER THE FREE SPEECH CLAUSE -- The crime of criminal syndicalism has existed in California since April 30, 1919.1 The act was passed at a time when active radical minorities threatened or were believed to threaten not only the stability but the existence of our political and social structure. The Russian debacle, unillumined by historical investigation, confronted us. It is immate...</td>\n",
       "      <td>http://www.jstor.org/stable/3474218</td>\n",
       "      <td>[{'name': 'issn', 'value': '00081221'}, {'name': 'local_uuid', 'value': 'aa62922a-0bb3-34f3-8d60-8596550863a7'}, {'name': 'local_doi', 'value': '10.2307/3474218'}, {'name': 'journal_id', 'value': 'calilawrevi'}]</td>\n",
       "      <td>California Law Review</td>\n",
       "      <td>6.0</td>\n",
       "      <td>[eng]</td>\n",
       "      <td>[unigram, bigram, trigram, fullText]</td>\n",
       "      <td>7</td>\n",
       "      <td>518</td>\n",
       "      <td>512</td>\n",
       "      <td>pp. 512-518</td>\n",
       "      <td>jstor</td>\n",
       "      <td>1922</td>\n",
       "      <td>California Law Review, Inc.</td>\n",
       "      <td>[Law, Law]</td>\n",
       "      <td>[Law - Criminal law, Law - Judicial system]</td>\n",
       "      <td>Criminal Law: Criminal Syndicalist Act: Constitutional Law: Validity of the Act under the Free Speech Clause</td>\n",
       "      <td>http://www.jstor.org/stable/3474218</td>\n",
       "      <td>10.0</td>\n",
       "      <td>4012</td>\n",
       "      <td>{'acts.': 2, 'stolen.': 1, '45': 1, 'proponents': 1, 'hysterical': 1, 'allow': 1, 'indulged': 1, 'malcontent,': 1, 'forbade': 1, 'Most': 1, 'Wigznore,': 1, '14': 1, 'Address': 1, '296,': 1, 'first,': 1, 'unwelcome': 1, 'Iaw,': 1, 'proscribed': 1, 'resulting': 1, 'freedom': 3, 'Dec.': 12, 'definitely': 1, 'satisfied': 1, 'i,': 1, 'create': 1, 'obtainable': 1, 'publishing,': 1, 'PERFORMANCE': 1, 'utterances.19': 1, 'nothing': 2, 'Courts': 1, '573¢': 1, 'suppression': 1, 'element': 1, 'facts,':...</td>\n",
       "      <td>{'in Abrams': 1, 'tendencies. According': 1, 'the charge.': 1, '1921* decision': 1, 'fixed only': 1, 'enunciating the': 1, 'abuse of': 1, 'the cases': 1, 'bell-Johnston (1908)': 1, 'v. Moilen': 1, 'CONTRACTS The': 1, 'restric- tion': 1, 'given enunciation': 1, 'lacking because': 1, 'absurd results': 1, '(1904) 144': 2, 'be eternally': 1, '64 Cal.': 1, '27. COMMENT': 1, 'by some': 1, 'for industrial': 1, 'ian they': 1, 'be justified': 1, 'the Schenck': 1, 'price level.': 1, 'would prevent': 1...</td>\n",
       "      <td>{'check is necessary': 1, 'opposition to organized': 1, 'such a decree,2': 1, 'and Wismer of': 1, 'a better police': 1, 'is not a': 1, 'degree are made': 1, 'rehearing denied Nov.': 1, 'existing govern- ment': 1, 'the facts. The': 1, 'punishable as principals': 2, 'teaches . *': 1, 'rule, be mutual,': 1, 'to discriminate between': 1, 'law of conspiracy,': 1, 'It seemed that': 1, '3-39 20S207- Thomas': 1, '\"The Normal Criminal': 1, 'damage or injury': 1, 'over the thought': 1, 'thought to get...</td>\n",
       "      <td>NaN</td>\n",
       "      <td>NaN</td>\n",
       "      <td>NaN</td>\n",
       "      <td>NaN</td>\n",
       "      <td>NaN</td>\n",
       "      <td>NaN</td>\n",
       "    </tr>\n",
       "    <tr>\n",
       "      <th>3</th>\n",
       "      <td>[Alex Molnar, Faith Boninger, Gary Wilkinson, Joseph Fogarty, Sean Geary]</td>\n",
       "      <td>2010-12-02</td>\n",
       "      <td>NaN</td>\n",
       "      <td>report</td>\n",
       "      <td>[EFFECTIVELY EMBEDDED SCHOOLS AND THE MACHINERY OF MODERN MARKETING THE THIRTEENTH ANNUAL REPORT ON SCHOOLHOUSE COMMERCIALIZING TRENDS: 2009-2010 Alex Molnar and Faith Boninger Arizona State University Gary Wilkinson University of Hull, Hull, England Joseph Fogarty Corballa National School, County Sligo, Ireland Sean Geary Arizona State University National Education Policy Center School of Education, University of Colorado at Boulder Boulder, CO 80309-0249 Telephone: 303-735-5290 Fax: 303-49...</td>\n",
       "      <td>http://www.jstor.org/stable/resrep42044</td>\n",
       "      <td>[{'name': 'local_uuid', 'value': '4df59bdd-9e83-3d9a-bebe-538e3ae0cc77'}]</td>\n",
       "      <td>NaN</td>\n",
       "      <td>NaN</td>\n",
       "      <td>[eng]</td>\n",
       "      <td>[unigram, bigram, trigram, fullText]</td>\n",
       "      <td>48</td>\n",
       "      <td>NaN</td>\n",
       "      <td>NaN</td>\n",
       "      <td>NaN</td>\n",
       "      <td>jstor</td>\n",
       "      <td>2010</td>\n",
       "      <td>National Education Policy Center</td>\n",
       "      <td>NaN</td>\n",
       "      <td>[Social sciences - Communications, Law - Computer law]</td>\n",
       "      <td>Effectively Embedded Schools and the Machinery of Modern Marketing The Thirteenth Annual Report on Schoolhouse Commercializing Trends: 2009-2010</td>\n",
       "      <td>http://www.jstor.org/stable/resrep42044</td>\n",
       "      <td>NaN</td>\n",
       "      <td>16250</td>\n",
       "      <td>{'Modern': 1, 'contests,': 2, 'fact,': 4, 'Cheese': 1, 'deceptive': 2, 'Tempe:': 2, '8-': 4, 'Digest': 1, '135-14.': 1, 'Practice': 1, 'relevant': 1, 'indicates': 1, 'Youth': 4, 'Jean': 3, 'Productions.': 1, '168.': 1, 'testimonial': 1, 'comply': 1, 'Markets': 2, 'Ella‟s': 1, '(January': 1, 'presenting': 1, 'Chairman,': 1, 'rather': 4, 'balance': 1, 'advertisement.62': 1, 'urge': 1, 'Our': 5, 'Academies': 1, 'problem': 2, 'Schor,': 1, 'landed': 1, 'consumption': 5, 'emphasized': 1, 'conclude...</td>\n",
       "      <td>{'and Faith': 2, 'Michelle Obama': 1, '(Continued) Source': 2, 'program attributed': 1, 'vulnerability in': 1, 'recommended by': 1, 'of Practitioners': 2, 'resist immediate': 1, '&amp; Peloza,': 1, 'own self-determined': 1, 'or without': 1, 'Integration and': 1, 'brands of': 1, 'Until recently,': 1, 'who were': 2, 'pledged ―better': 1, 'buses. For': 1, 'school commercialism': 2, 'during the': 2, 'http://www.stnonline.com/artman/publish/article_9915.shtml .': 1, 'attack for': 1, 'of Better': 2, '...</td>\n",
       "      <td>{'(2009). Age of': 1, 'In modern society,': 1, 'least theoretically, to': 1, 'Jan (2010, January': 5, 'content. In the': 1, 'Child nutrition bill': 1, 'principles and practice': 1, 'Bradshaw explained that': 1, '108 The American': 1, 'serves as a': 1, 'automatic snacking script': 1, 'Retrieved March 8,': 2, 'heightens their insecurities,': 1, 'children. http://nepc.colorado.edu/publication/Schoolhouse-commercialism-2010 15': 1, '16 of 44': 1, 'Eight categories were': 1, 'its Internet environ...</td>\n",
       "      <td>In the context of the last two years’ recession, parents, teachers and administrators seem to increasingly welcome school-business “partnerships” that they hope may help ward off program cuts. Businesses encourage such arrangements because school-based marketing and advertising programs are perfectly poised to “brand” children at an early age: the school environment is relatively uncluttered, children are a captive and credulous audience, and marketing and advertising programs are normalized...</td>\n",
       "      <td>[Research Reports]</td>\n",
       "      <td>[Kevin Welner]</td>\n",
       "      <td>NaN</td>\n",
       "      <td>NaN</td>\n",
       "      <td>NaN</td>\n",
       "    </tr>\n",
       "    <tr>\n",
       "      <th>4</th>\n",
       "      <td>[Thomas Raeburn White]</td>\n",
       "      <td>1904-01-01</td>\n",
       "      <td>research-article</td>\n",
       "      <td>article</td>\n",
       "      <td>[THE AMERICAN LAW REGISTER FOUNDED 1852 UNIVERSITY OF PENNSYLVANIA DEPARTMENT OF LAW VOL. 52 0. S. JANUARY, 1904. No. i CONSTITUTIONAL PROVISIONS GUARANTEEING FREEDOM OF THE PRESS IN PENNSYLVANIA. Freedom of speech and of the press has never been curtailed by the common law, but in England and in some of the American colonies, prior to the Revolution, the gov- erning powers acted upon the assumption that such free- dom is essentially dangerous to the state. The art of printing particularly w...</td>\n",
       "      <td>http://www.jstor.org/stable/3306378</td>\n",
       "      <td>[{'name': 'issn', 'value': '15583562'}, {'name': 'local_uuid', 'value': '47a2b7e6-4a50-3e90-8941-da6e70c780c3'}, {'name': 'local_doi', 'value': '10.2307/3306378'}, {'name': 'journal_id', 'value': 'amerlawregi1898'}]</td>\n",
       "      <td>The American Law Register (1898-1907)</td>\n",
       "      <td>1.0</td>\n",
       "      <td>[eng]</td>\n",
       "      <td>[unigram, bigram, trigram, fullText]</td>\n",
       "      <td>21</td>\n",
       "      <td>21</td>\n",
       "      <td>1</td>\n",
       "      <td>pp. 1-21</td>\n",
       "      <td>jstor</td>\n",
       "      <td>1904</td>\n",
       "      <td>The University of Pennsylvania Law Review</td>\n",
       "      <td>[Law, Law]</td>\n",
       "      <td>[Law - Criminal law]</td>\n",
       "      <td>Constitutional Provisions Guaranteeing Freedom of the Press in Pennsylvania</td>\n",
       "      <td>http://www.jstor.org/stable/3306378</td>\n",
       "      <td>52.0</td>\n",
       "      <td>7567</td>\n",
       "      <td>{'contrary,': 1, 'scandalous': 1, 'thought': 4, '(Webb's': 1, 'introduced': 2, 'libel,': 7, 'Justice': 1, 'char-': 1, 'i6,': 1, 'warrant': 2, '(1809).': 1, 'P.': 4, 'principle\"': 1, 'publication': 22, 'I23,': 1, 'however': 2, 'Nevertheless,': 1, '(i877);': 1, 'extent': 1, 'malice.': 6, 'proof': 3, 'attacked': 1, '(if': 2, 'LAW': 2, 'think': 1, 'dicta': 1, '16': 1, 'failed': 1, 'pistol': 1, 'years': 1, 'com-': 3, 'malicious,': 1, 'fact.': 1, 'individual': 2, 'public,': 1, 'Const.': 5, 'Laws,'...</td>\n",
       "      <td>{'supposition is': 1, 'publications, however': 1, 'reign of': 1, 'mere surplusage.20': 1, 'motives and': 2, 'but there': 1, 'place upon': 1, 'justify the': 2, 'criminal immunity': 2, 'v. Dowling,': 1, 'as determined': 1, 'writing and': 1, 'thoughts and': 1, 'only is': 1, 'a day.': 1, 'were proper': 2, 'not dimin-': 1, 'man to': 2, 'lack of': 3, 'those only': 1, 'we construe': 1, 'or comment': 1, 'it adds': 1, 'one which': 1, '(I883). 12': 1, 'for libels': 2, 'But this': 1, 'In Coom.': 1, 'by...</td>\n",
       "      <td>{'believing in the': 1, 'the institution of': 1, 'Convention of I776': 1, 'is no dispute': 1, 'jury to be': 1, 'by the constitutional': 2, 'faith and with': 1, 'the motives of': 1, 'both of I790': 1, 'respect to matters': 1, 'fact concern the': 1, 'but at the': 1, 'not (as he': 1, '6 CONSTITUTIONAL PROVISIONS': 1, 'in the section': 1, 'not malice need': 1, 'a scandalous nature,': 1, 'Chest. Co. Rep.': 1, 'manner in which': 1, '368 (i88i), Judge': 1, 'ment?' However ingenuity': 1, 'tigation o...</td>\n",
       "      <td>NaN</td>\n",
       "      <td>NaN</td>\n",
       "      <td>NaN</td>\n",
       "      <td>NaN</td>\n",
       "      <td>NaN</td>\n",
       "      <td>NaN</td>\n",
       "    </tr>\n",
       "  </tbody>\n",
       "</table>\n",
       "</div>"
      ],
      "text/plain": [
       "                                                                     creator  \\\n",
       "0                                                       [Thomas Reed Powell]   \n",
       "1                                           [Elizabeth Goitein, Faiza Patel]   \n",
       "2                                                                 [H. R. M.]   \n",
       "3  [Alex Molnar, Faith Boninger, Gary Wilkinson, Joseph Fogarty, Sean Geary]   \n",
       "4                                                     [Thomas Raeburn White]   \n",
       "\n",
       "  datePublished        docSubType  docType  \\\n",
       "0    1922-01-01  research-article  article   \n",
       "1    2020-10-22               NaN   report   \n",
       "2    1922-09-01  research-article  article   \n",
       "3    2010-12-02               NaN   report   \n",
       "4    1904-01-01  research-article  article   \n",
       "\n",
       "                                                                                                                                                                                                                                                                                                                                                                                                                                                                                                              fullText  \\\n",
       "0  [MICHIGAN LAW REVIEW VOL. XX JANUARY, 1922 No. 3 THE SUPREME COURT'S CONSTRUCTION OF THE FEDERAL CONSTITUTION IN I920-I92I, III1 IV. PoLIcE POWER THE difficulty of classifying cases on the police power has not evaporated since the review of decisions for the preceding year. The headings there suggested are used here. Classification on the basis of the objects of the legislation appears too precarious to be attempted with any confidence. It seems safer to work along the line of the subject ma...   \n",
       "1  [TRANSITION 2020–2021 A Presidential Agenda for Liberty and National Security By Elizabeth Goitein and Faiza Patel PUBLISHED OCTOBER 22, 2020 Brennan Center for Justice at New York University School of Law policy proposal, Table of Contents Foreword . . . . . . . . . . . . . . . . . . . . . . . . . . . . . . . . . . . . . . . . . . . . . . . . . . . . . . . . . . . . . . 3 A B O U T T H E B R E N N A N C E N T E R FO R J U ST I C E Introduction . . . . . . . . . . . . . . . . . . . . . . . ....   \n",
       "2  [512 10 CALIFORNIA LAW REVIEW CRIMINAL LAW: CRIMINAL SYNDICALIST ACT: CONSTITUTION- AL LAW: VALIDITY OF THE ACT UNDER THE FREE SPEECH CLAUSE -- The crime of criminal syndicalism has existed in California since April 30, 1919.1 The act was passed at a time when active radical minorities threatened or were believed to threaten not only the stability but the existence of our political and social structure. The Russian debacle, unillumined by historical investigation, confronted us. It is immate...   \n",
       "3  [EFFECTIVELY EMBEDDED SCHOOLS AND THE MACHINERY OF MODERN MARKETING THE THIRTEENTH ANNUAL REPORT ON SCHOOLHOUSE COMMERCIALIZING TRENDS: 2009-2010 Alex Molnar and Faith Boninger Arizona State University Gary Wilkinson University of Hull, Hull, England Joseph Fogarty Corballa National School, County Sligo, Ireland Sean Geary Arizona State University National Education Policy Center School of Education, University of Colorado at Boulder Boulder, CO 80309-0249 Telephone: 303-735-5290 Fax: 303-49...   \n",
       "4  [THE AMERICAN LAW REGISTER FOUNDED 1852 UNIVERSITY OF PENNSYLVANIA DEPARTMENT OF LAW VOL. 52 0. S. JANUARY, 1904. No. i CONSTITUTIONAL PROVISIONS GUARANTEEING FREEDOM OF THE PRESS IN PENNSYLVANIA. Freedom of speech and of the press has never been curtailed by the common law, but in England and in some of the American colonies, prior to the Revolution, the gov- erning powers acted upon the assumption that such free- dom is essentially dangerous to the state. The art of printing particularly w...   \n",
       "\n",
       "                                        id  \\\n",
       "0      http://www.jstor.org/stable/1277162   \n",
       "1  http://www.jstor.org/stable/resrep28426   \n",
       "2      http://www.jstor.org/stable/3474218   \n",
       "3  http://www.jstor.org/stable/resrep42044   \n",
       "4      http://www.jstor.org/stable/3306378   \n",
       "\n",
       "                                                                                                                                                                                                                identifier  \\\n",
       "0      [{'name': 'issn', 'value': '00262234'}, {'name': 'local_uuid', 'value': 'bc2669a7-d087-3bf4-8b2b-aebe1b9003bf'}, {'name': 'local_doi', 'value': '10.2307/1277162'}, {'name': 'journal_id', 'value': 'michlawrevi'}]   \n",
       "1                                                                                                                                                [{'name': 'local_uuid', 'value': '3dbcbae0-0d2f-3b58-9d5a-c55e6d5b6127'}]   \n",
       "2      [{'name': 'issn', 'value': '00081221'}, {'name': 'local_uuid', 'value': 'aa62922a-0bb3-34f3-8d60-8596550863a7'}, {'name': 'local_doi', 'value': '10.2307/3474218'}, {'name': 'journal_id', 'value': 'calilawrevi'}]   \n",
       "3                                                                                                                                                [{'name': 'local_uuid', 'value': '4df59bdd-9e83-3d9a-bebe-538e3ae0cc77'}]   \n",
       "4  [{'name': 'issn', 'value': '15583562'}, {'name': 'local_uuid', 'value': '47a2b7e6-4a50-3e90-8941-da6e70c780c3'}, {'name': 'local_doi', 'value': '10.2307/3306378'}, {'name': 'journal_id', 'value': 'amerlawregi1898'}]   \n",
       "\n",
       "                                isPartOf  issueNumber language  \\\n",
       "0                    Michigan Law Review          3.0    [eng]   \n",
       "1                                    NaN          NaN    [eng]   \n",
       "2                  California Law Review          6.0    [eng]   \n",
       "3                                    NaN          NaN    [eng]   \n",
       "4  The American Law Register (1898-1907)          1.0    [eng]   \n",
       "\n",
       "                           outputFormat  pageCount pageEnd pageStart  \\\n",
       "0  [unigram, bigram, trigram, fullText]         28     288       261   \n",
       "1  [unigram, bigram, trigram, fullText]         23     NaN       NaN   \n",
       "2  [unigram, bigram, trigram, fullText]          7     518       512   \n",
       "3  [unigram, bigram, trigram, fullText]         48     NaN       NaN   \n",
       "4  [unigram, bigram, trigram, fullText]         21      21         1   \n",
       "\n",
       "    pagination provider  publicationYear  \\\n",
       "0  pp. 261-288    jstor             1922   \n",
       "1          NaN    jstor             2020   \n",
       "2  pp. 512-518    jstor             1922   \n",
       "3          NaN    jstor             2010   \n",
       "4     pp. 1-21    jstor             1904   \n",
       "\n",
       "                                   publisher sourceCategory  \\\n",
       "0        The Michigan Law Review Association     [Law, Law]   \n",
       "1                 Brennan Center for Justice            NaN   \n",
       "2                California Law Review, Inc.     [Law, Law]   \n",
       "3           National Education Policy Center            NaN   \n",
       "4  The University of Pennsylvania Law Review     [Law, Law]   \n",
       "\n",
       "                                              tdmCategory  \\\n",
       "0                                       [Law - Civil law]   \n",
       "1                                    [Law - Computer law]   \n",
       "2             [Law - Criminal law, Law - Judicial system]   \n",
       "3  [Social sciences - Communications, Law - Computer law]   \n",
       "4                                    [Law - Criminal law]   \n",
       "\n",
       "                                                                                                                                              title  \\\n",
       "0                                                                    The Supreme Court's Construction of the Federal Constitution in 1920-1921, III   \n",
       "1                                                                                           A Presidential Agenda for Liberty and National Security   \n",
       "2                                      Criminal Law: Criminal Syndicalist Act: Constitutional Law: Validity of the Act under the Free Speech Clause   \n",
       "3  Effectively Embedded Schools and the Machinery of Modern Marketing The Thirteenth Annual Report on Schoolhouse Commercializing Trends: 2009-2010   \n",
       "4                                                                       Constitutional Provisions Guaranteeing Freedom of the Press in Pennsylvania   \n",
       "\n",
       "                                       url  volumeNumber  wordCount  \\\n",
       "0      http://www.jstor.org/stable/1277162          20.0      11348   \n",
       "1  http://www.jstor.org/stable/resrep28426           NaN      13697   \n",
       "2      http://www.jstor.org/stable/3474218          10.0       4012   \n",
       "3  http://www.jstor.org/stable/resrep42044           NaN      16250   \n",
       "4      http://www.jstor.org/stable/3306378          52.0       7567   \n",
       "\n",
       "                                                                                                                                                                                                                                                                                                                                                                                                                                                                                                          unigramCount  \\\n",
       "0  {'denied.': 1, 'opposing': 3, 'take': 5, 'retrial': 1, 'interruptions,': 1, 'Utility': 2, 'state;': 1, 'fought': 1, 'Coal': 2, 'prospective': 1, '\"Validity': 1, 'franchises,': 1, 'various': 3, 'injured': 1, 'be,': 2, 'affirmed': 2, 'Co.34': 1, 'inferred': 1, 'weight': 1, 'reliance': 1, 'remarked': 1, 'Sentimental': 1, 'side': 2, 'dissent.27': 1, 'TAXATION,': 1, 'world.\"': 1, 'jurisdiction': 2, '862;': 1, 'Commissioners,40': 1, 'impose': 1, 'classification': 3, 'immutable': 1, 'conserved': 1,...   \n",
       "1  {'MacArthur': 1, 'secrecy,': 1, 'com/infectiousdisease/covid19/87632': 1, 'advocacy.': 1, 'white-house-location-data-coronavirus/;': 1, 'information': 16, 'communities': 6, 'information,': 5, 'attack': 2, 'problems': 1, 'agencies.': 1, 'existence': 1, 'Institution,': 2, 'scored': 1, 'past': 3, 'range': 1, 'Frieden,': 1, 'role.': 2, 'right': 2, 'crimination”': 1, 'https://www.wsj.com/articles/federal-agencies-use-cellphone-loca-': 1, 'Censored': 1, 'explanations': 1, 'www.justice.gov/opa/file...   \n",
       "2  {'acts.': 2, 'stolen.': 1, '45': 1, 'proponents': 1, 'hysterical': 1, 'allow': 1, 'indulged': 1, 'malcontent,': 1, 'forbade': 1, 'Most': 1, 'Wigznore,': 1, '14': 1, 'Address': 1, '296,': 1, 'first,': 1, 'unwelcome': 1, 'Iaw,': 1, 'proscribed': 1, 'resulting': 1, 'freedom': 3, 'Dec.': 12, 'definitely': 1, 'satisfied': 1, 'i,': 1, 'create': 1, 'obtainable': 1, 'publishing,': 1, 'PERFORMANCE': 1, 'utterances.19': 1, 'nothing': 2, 'Courts': 1, '573¢': 1, 'suppression': 1, 'element': 1, 'facts,':...   \n",
       "3  {'Modern': 1, 'contests,': 2, 'fact,': 4, 'Cheese': 1, 'deceptive': 2, 'Tempe:': 2, '8-': 4, 'Digest': 1, '135-14.': 1, 'Practice': 1, 'relevant': 1, 'indicates': 1, 'Youth': 4, 'Jean': 3, 'Productions.': 1, '168.': 1, 'testimonial': 1, 'comply': 1, 'Markets': 2, 'Ella‟s': 1, '(January': 1, 'presenting': 1, 'Chairman,': 1, 'rather': 4, 'balance': 1, 'advertisement.62': 1, 'urge': 1, 'Our': 5, 'Academies': 1, 'problem': 2, 'Schor,': 1, 'landed': 1, 'consumption': 5, 'emphasized': 1, 'conclude...   \n",
       "4  {'contrary,': 1, 'scandalous': 1, 'thought': 4, '(Webb's': 1, 'introduced': 2, 'libel,': 7, 'Justice': 1, 'char-': 1, 'i6,': 1, 'warrant': 2, '(1809).': 1, 'P.': 4, 'principle\"': 1, 'publication': 22, 'I23,': 1, 'however': 2, 'Nevertheless,': 1, '(i877);': 1, 'extent': 1, 'malice.': 6, 'proof': 3, 'attacked': 1, '(if': 2, 'LAW': 2, 'think': 1, 'dicta': 1, '16': 1, 'failed': 1, 'pistol': 1, 'years': 1, 'com-': 3, 'malicious,': 1, 'fact.': 1, 'individual': 2, 'public,': 1, 'Const.': 5, 'Laws,'...   \n",
       "\n",
       "                                                                                                                                                                                                                                                                                                                                                                                                                                                                                                           bigramCount  \\\n",
       "0  {'basis of': 1, 'in 69': 2, 'once the': 1, 'in defiance': 1, 'lease which': 1, '\"public utilities\"': 1, 'companies indicate': 1, 'MARQUErTE L.': 1, 'employment made': 1, 'are, and': 1, 'not come': 1, '282 (I92I).': 1, 'in Deeds,\"': 1, 'the parties': 1, 'of treason': 1, 'occasions feeling': 1, 'on whether': 2, 'so classifying': 1, 'Ct. 252': 1, '28255 U.': 1, 'y14 was': 1, 'Scanlon Co.': 1, 'Brewster Rhoads,': 1, 'state, and': 2, 'denying the': 1, 'BULL. io6': 1, 'Mr. Justices': 1, 'or loss':...   \n",
       "1  {'that individuals': 1, 'for FY': 1, 'end, the': 1, 'a defining': 1, 'an app': 1, 'trump-veto-national-emergency.html .': 1, 'restrictions have': 1, 'and writing': 1, 'of law,': 2, 'National Policy': 1, 'Americans Without': 1, 'established to': 1, 'Comm. on': 8, 'been the': 1, 'immediate action': 1, 'safer, collecting': 1, 'statute to': 1, 'aimed to': 1, '60-Day Notice': 2, 'September 21,': 1, 'rarely before': 1, 'of automated': 1, 'limiting secret': 1, 'and Transparency': 1, 'acknowledges T...   \n",
       "2  {'in Abrams': 1, 'tendencies. According': 1, 'the charge.': 1, '1921* decision': 1, 'fixed only': 1, 'enunciating the': 1, 'abuse of': 1, 'the cases': 1, 'bell-Johnston (1908)': 1, 'v. Moilen': 1, 'CONTRACTS The': 1, 'restric- tion': 1, 'given enunciation': 1, 'lacking because': 1, 'absurd results': 1, '(1904) 144': 2, 'be eternally': 1, '64 Cal.': 1, '27. COMMENT': 1, 'by some': 1, 'for industrial': 1, 'ian they': 1, 'be justified': 1, 'the Schenck': 1, 'price level.': 1, 'would prevent': 1...   \n",
       "3  {'and Faith': 2, 'Michelle Obama': 1, '(Continued) Source': 2, 'program attributed': 1, 'vulnerability in': 1, 'recommended by': 1, 'of Practitioners': 2, 'resist immediate': 1, '& Peloza,': 1, 'own self-determined': 1, 'or without': 1, 'Integration and': 1, 'brands of': 1, 'Until recently,': 1, 'who were': 2, 'pledged ―better': 1, 'buses. For': 1, 'school commercialism': 2, 'during the': 2, 'http://www.stnonline.com/artman/publish/article_9915.shtml .': 1, 'attack for': 1, 'of Better': 2, '...   \n",
       "4  {'supposition is': 1, 'publications, however': 1, 'reign of': 1, 'mere surplusage.20': 1, 'motives and': 2, 'but there': 1, 'place upon': 1, 'justify the': 2, 'criminal immunity': 2, 'v. Dowling,': 1, 'as determined': 1, 'writing and': 1, 'thoughts and': 1, 'only is': 1, 'a day.': 1, 'were proper': 2, 'not dimin-': 1, 'man to': 2, 'lack of': 3, 'those only': 1, 'we construe': 1, 'or comment': 1, 'it adds': 1, 'one which': 1, '(I883). 12': 1, 'for libels': 2, 'But this': 1, 'In Coom.': 1, 'by...   \n",
       "\n",
       "                                                                                                                                                                                                                                                                                                                                                                                                                                                                                                          trigramCount  \\\n",
       "0  {'manufacturing or domestic': 1, 'Prices of Commodities,\"': 1, 'to infer anything': 1, 'of four objecting': 1, 'notes in 34': 1, 'v. Coronado Beach': 1, 'yields substantial compensation': 1, 'grade crossings in': 1, 'in other ways': 1, 'for compensation in': 1, 'Regulation and Housing': 1, 'penalties for delay': 1, 'will be treated': 1, 'demands. We do': 1, 'justifying the regulation': 1, 'unconstitutionality. The problem': 1, 'to certain cities': 1, 'any confidence. It': 1, 'Without previou...   \n",
       "1  {'Amendment, and the': 1, '10 values of': 1, 'A Needed Check': 1, 'And it recently': 1, 'Countering Violent Extremism': 3, 'situations in which': 1, 'Proclamations 95 Thomas': 1, 'Guard units such': 1, 'see Confronting the': 1, 'as a talk': 1, 'congressional oversight committees.57': 1, 'acist violence will': 1, 'President’s Emergency Powers,”': 1, 'to 182 on': 1, 'enable profiling based': 1, 'E R ’S': 1, 'iden- right violence': 1, 'have contacts in': 1, 'no . 12-20,': 1, 'to issue guidance'...   \n",
       "2  {'check is necessary': 1, 'opposition to organized': 1, 'such a decree,2': 1, 'and Wismer of': 1, 'a better police': 1, 'is not a': 1, 'degree are made': 1, 'rehearing denied Nov.': 1, 'existing govern- ment': 1, 'the facts. The': 1, 'punishable as principals': 2, 'teaches . *': 1, 'rule, be mutual,': 1, 'to discriminate between': 1, 'law of conspiracy,': 1, 'It seemed that': 1, '3-39 20S207- Thomas': 1, '\"The Normal Criminal': 1, 'damage or injury': 1, 'over the thought': 1, 'thought to get...   \n",
       "3  {'(2009). Age of': 1, 'In modern society,': 1, 'least theoretically, to': 1, 'Jan (2010, January': 5, 'content. In the': 1, 'Child nutrition bill': 1, 'principles and practice': 1, 'Bradshaw explained that': 1, '108 The American': 1, 'serves as a': 1, 'automatic snacking script': 1, 'Retrieved March 8,': 2, 'heightens their insecurities,': 1, 'children. http://nepc.colorado.edu/publication/Schoolhouse-commercialism-2010 15': 1, '16 of 44': 1, 'Eight categories were': 1, 'its Internet environ...   \n",
       "4  {'believing in the': 1, 'the institution of': 1, 'Convention of I776': 1, 'is no dispute': 1, 'jury to be': 1, 'by the constitutional': 2, 'faith and with': 1, 'the motives of': 1, 'both of I790': 1, 'respect to matters': 1, 'fact concern the': 1, 'but at the': 1, 'not (as he': 1, '6 CONSTITUTIONAL PROVISIONS': 1, 'in the section': 1, 'not malice need': 1, 'a scandalous nature,': 1, 'Chest. Co. Rep.': 1, 'manner in which': 1, '368 (i88i), Judge': 1, 'ment?' However ingenuity': 1, 'tigation o...   \n",
       "\n",
       "                                                                                                                                                                                                                                                                                                                                                                                                                                                                                                              abstract  \\\n",
       "0                                                                                                                                                                                                                                                                                                                                                                                                                                                                                                                  NaN   \n",
       "1  American democracy urgently needs renewal. In the coming years, one of the great issues facing the country will be the presidency itself. A half century ago, in the wake of Watergate and Vietnam, laws and rules aimed to check the “Imperial Presidency.” Over the decades those limits eroded and then were finally cast off. The past three years have seen a refusal to honor oversight and a politicization of the executive branch. The president insists the Constitution gives him “the right to do wh...   \n",
       "2                                                                                                                                                                                                                                                                                                                                                                                                                                                                                                                  NaN   \n",
       "3  In the context of the last two years’ recession, parents, teachers and administrators seem to increasingly welcome school-business “partnerships” that they hope may help ward off program cuts. Businesses encourage such arrangements because school-based marketing and advertising programs are perfectly poised to “brand” children at an early age: the school environment is relatively uncluttered, children are a captive and credulous audience, and marketing and advertising programs are normalized...   \n",
       "4                                                                                                                                                                                                                                                                                                                                                                                                                                                                                                                  NaN   \n",
       "\n",
       "           collection          editor hasPartTitle keyphrase subTitle  \n",
       "0                 NaN             NaN          NaN       NaN      NaN  \n",
       "1  [Research Reports]             NaN          NaN       NaN      NaN  \n",
       "2                 NaN             NaN          NaN       NaN      NaN  \n",
       "3  [Research Reports]  [Kevin Welner]          NaN       NaN      NaN  \n",
       "4                 NaN             NaN          NaN       NaN      NaN  "
      ]
     },
     "execution_count": 44,
     "metadata": {},
     "output_type": "execute_result"
    }
   ],
   "source": [
    "df.head()"
   ]
  },
  {
   "cell_type": "markdown",
   "metadata": {},
   "source": [
    "So we have a dataframe with 33 different columns, we can get a full list of column names:"
   ]
  },
  {
   "cell_type": "code",
   "execution_count": 45,
   "metadata": {},
   "outputs": [
    {
     "data": {
      "text/plain": [
       "Index(['creator', 'datePublished', 'docSubType', 'docType', 'fullText', 'id',\n",
       "       'identifier', 'isPartOf', 'issueNumber', 'language', 'outputFormat',\n",
       "       'pageCount', 'pageEnd', 'pageStart', 'pagination', 'provider',\n",
       "       'publicationYear', 'publisher', 'sourceCategory', 'tdmCategory',\n",
       "       'title', 'url', 'volumeNumber', 'wordCount', 'unigramCount',\n",
       "       'bigramCount', 'trigramCount', 'abstract', 'collection', 'editor',\n",
       "       'hasPartTitle', 'keyphrase', 'subTitle'],\n",
       "      dtype='object')"
      ]
     },
     "execution_count": 45,
     "metadata": {},
     "output_type": "execute_result"
    }
   ],
   "source": [
    "df.columns"
   ]
  },
  {
   "cell_type": "markdown",
   "metadata": {},
   "source": [
    "When we built the dataset from Constellate we did ask only for \"Full Text\" articles, so it helps to just check that we got what we wanted. We can count the number of NaN values under that column as follows:"
   ]
  },
  {
   "cell_type": "code",
   "execution_count": 46,
   "metadata": {},
   "outputs": [
    {
     "data": {
      "text/plain": [
       "0"
      ]
     },
     "execution_count": 46,
     "metadata": {},
     "output_type": "execute_result"
    }
   ],
   "source": [
    "df['fullText'].isna().sum()"
   ]
  },
  {
   "cell_type": "markdown",
   "metadata": {},
   "source": [
    "Checks out! We can also see how many NaN vlaues there are in the entire dataframe with the following simple little for loop (while also utilizing the really hand [f-string formatting](https://realpython.com/python-f-strings/):"
   ]
  },
  {
   "cell_type": "code",
   "execution_count": 47,
   "metadata": {},
   "outputs": [
    {
     "name": "stdout",
     "output_type": "stream",
     "text": [
      "The number of NaN values in creator is: 28\n",
      "The number of NaN values in datePublished is: 0\n",
      "The number of NaN values in docSubType is: 67\n",
      "The number of NaN values in docType is: 0\n",
      "The number of NaN values in fullText is: 0\n",
      "The number of NaN values in id is: 0\n",
      "The number of NaN values in identifier is: 0\n",
      "The number of NaN values in isPartOf is: 42\n",
      "The number of NaN values in issueNumber is: 67\n",
      "The number of NaN values in language is: 0\n",
      "The number of NaN values in outputFormat is: 0\n",
      "The number of NaN values in pageCount is: 0\n",
      "The number of NaN values in pageEnd is: 42\n",
      "The number of NaN values in pageStart is: 42\n",
      "The number of NaN values in pagination is: 42\n",
      "The number of NaN values in provider is: 0\n",
      "The number of NaN values in publicationYear is: 0\n",
      "The number of NaN values in publisher is: 26\n",
      "The number of NaN values in sourceCategory is: 42\n",
      "The number of NaN values in tdmCategory is: 0\n",
      "The number of NaN values in title is: 0\n",
      "The number of NaN values in url is: 0\n",
      "The number of NaN values in volumeNumber is: 67\n",
      "The number of NaN values in wordCount is: 0\n",
      "The number of NaN values in unigramCount is: 0\n",
      "The number of NaN values in bigramCount is: 0\n",
      "The number of NaN values in trigramCount is: 0\n",
      "The number of NaN values in abstract is: 48\n",
      "The number of NaN values in collection is: 68\n",
      "The number of NaN values in editor is: 107\n",
      "The number of NaN values in hasPartTitle is: 86\n",
      "The number of NaN values in keyphrase is: 85\n",
      "The number of NaN values in subTitle is: 101\n"
     ]
    }
   ],
   "source": [
    "for column in df:\n",
    "    print(f\"The number of NaN values in {column} is: {df[column].isna().sum()}\")"
   ]
  },
  {
   "cell_type": "markdown",
   "metadata": {},
   "source": [
    "`Pandas`, of course, also has a way to get this information using the .info() method."
   ]
  },
  {
   "cell_type": "code",
   "execution_count": 48,
   "metadata": {},
   "outputs": [
    {
     "name": "stdout",
     "output_type": "stream",
     "text": [
      "<class 'pandas.core.frame.DataFrame'>\n",
      "RangeIndex: 110 entries, 0 to 109\n",
      "Data columns (total 33 columns):\n",
      " #   Column           Non-Null Count  Dtype  \n",
      "---  ------           --------------  -----  \n",
      " 0   creator          82 non-null     object \n",
      " 1   datePublished    110 non-null    object \n",
      " 2   docSubType       43 non-null     object \n",
      " 3   docType          110 non-null    object \n",
      " 4   fullText         110 non-null    object \n",
      " 5   id               110 non-null    object \n",
      " 6   identifier       110 non-null    object \n",
      " 7   isPartOf         68 non-null     object \n",
      " 8   issueNumber      43 non-null     float64\n",
      " 9   language         110 non-null    object \n",
      " 10  outputFormat     110 non-null    object \n",
      " 11  pageCount        110 non-null    int64  \n",
      " 12  pageEnd          68 non-null     object \n",
      " 13  pageStart        68 non-null     object \n",
      " 14  pagination       68 non-null     object \n",
      " 15  provider         110 non-null    object \n",
      " 16  publicationYear  110 non-null    int64  \n",
      " 17  publisher        84 non-null     object \n",
      " 18  sourceCategory   68 non-null     object \n",
      " 19  tdmCategory      110 non-null    object \n",
      " 20  title            110 non-null    object \n",
      " 21  url              110 non-null    object \n",
      " 22  volumeNumber     43 non-null     float64\n",
      " 23  wordCount        110 non-null    int64  \n",
      " 24  unigramCount     110 non-null    object \n",
      " 25  bigramCount      110 non-null    object \n",
      " 26  trigramCount     110 non-null    object \n",
      " 27  abstract         62 non-null     object \n",
      " 28  collection       42 non-null     object \n",
      " 29  editor           3 non-null      object \n",
      " 30  hasPartTitle     24 non-null     object \n",
      " 31  keyphrase        25 non-null     object \n",
      " 32  subTitle         9 non-null      object \n",
      "dtypes: float64(2), int64(3), object(28)\n",
      "memory usage: 28.5+ KB\n"
     ]
    }
   ],
   "source": [
    "df.info()"
   ]
  },
  {
   "cell_type": "markdown",
   "metadata": {},
   "source": [
    "We have a total of 110 rows and the 'fullText' column registers \"110 non-null values,\" so we've got full text for all the entries here. "
   ]
  },
  {
   "cell_type": "code",
   "execution_count": 49,
   "metadata": {},
   "outputs": [
    {
     "name": "stdout",
     "output_type": "stream",
     "text": [
      "Empty DataFrame\n",
      "Columns: [creator, datePublished, docSubType, docType, fullText, id, identifier, isPartOf, issueNumber, language, outputFormat, pageCount, pageEnd, pageStart, pagination, provider, publicationYear, publisher, sourceCategory, tdmCategory, title, url, volumeNumber, wordCount, unigramCount, bigramCount, trigramCount, abstract, collection, editor, hasPartTitle, keyphrase, subTitle]\n",
      "Index: []\n"
     ]
    }
   ],
   "source": [
    "nans = df[df['fullText'].isna()]\n",
    "print(nans)"
   ]
  },
  {
   "cell_type": "markdown",
   "metadata": {},
   "source": [
    "If we wanted to have a closer look at where in the dataframe (by index) the rows that aren't NaNs—i.e. the rows that do actually have an editor listed—rows occur, we simply call:"
   ]
  },
  {
   "cell_type": "code",
   "execution_count": 50,
   "metadata": {},
   "outputs": [
    {
     "data": {
      "text/plain": [
       "3                                                                                            [Kevin Welner]\n",
       "14                                                                                         [Michael German]\n",
       "52    [MICAH C. MCMILLAN, ERIC H. FRENCK, RICHARD A. HANRAHAN, JEFFREY C. CAMPBELL, THOMASA T. HUFFSTUTLER]\n",
       "Name: editor, dtype: object"
      ]
     },
     "execution_count": 50,
     "metadata": {},
     "output_type": "execute_result"
    }
   ],
   "source": [
    "publisher_nans = df[~df['editor'].isna()]\n",
    "publisher_nans['editor']"
   ]
  },
  {
   "cell_type": "markdown",
   "metadata": {},
   "source": [
    "So now we can see that rows `3`, `14`, and `52` are the entries with a named editor or editors."
   ]
  },
  {
   "cell_type": "markdown",
   "metadata": {},
   "source": [
    "### 3. Further Investigation of the `unigramCount` Column and Further Data Restructuring of Dictionaries: "
   ]
  },
  {
   "cell_type": "markdown",
   "metadata": {},
   "source": [
    "Since we're interested in eventually visualizing the word counts in the texts of our dataset, we should first do a little exploring of the key column in question. If we print out the .head() of that column we'll see that we're dealing with a dicitionary in each row that has the word and then the number of times that word shows up in the text:"
   ]
  },
  {
   "cell_type": "code",
   "execution_count": 51,
   "metadata": {},
   "outputs": [
    {
     "data": {
      "text/plain": [
       "0    {'denied.': 1, 'opposing': 3, 'take': 5, 'retrial': 1, 'interruptions,': 1, 'Utility': 2, 'state;': 1, 'fought': 1, 'Coal': 2, 'prospective': 1, '\"Validity': 1, 'franchises,': 1, 'various': 3, 'injured': 1, 'be,': 2, 'affirmed': 2, 'Co.34': 1, 'inferred': 1, 'weight': 1, 'reliance': 1, 'remarked': 1, 'Sentimental': 1, 'side': 2, 'dissent.27': 1, 'TAXATION,': 1, 'world.\"': 1, 'jurisdiction': 2, '862;': 1, 'Commissioners,40': 1, 'impose': 1, 'classification': 3, 'immutable': 1, 'conserved': 1,...\n",
       "1    {'MacArthur': 1, 'secrecy,': 1, 'com/infectiousdisease/covid19/87632': 1, 'advocacy.': 1, 'white-house-location-data-coronavirus/;': 1, 'information': 16, 'communities': 6, 'information,': 5, 'attack': 2, 'problems': 1, 'agencies.': 1, 'existence': 1, 'Institution,': 2, 'scored': 1, 'past': 3, 'range': 1, 'Frieden,': 1, 'role.': 2, 'right': 2, 'crimination”': 1, 'https://www.wsj.com/articles/federal-agencies-use-cellphone-loca-': 1, 'Censored': 1, 'explanations': 1, 'www.justice.gov/opa/file...\n",
       "2    {'acts.': 2, 'stolen.': 1, '45': 1, 'proponents': 1, 'hysterical': 1, 'allow': 1, 'indulged': 1, 'malcontent,': 1, 'forbade': 1, 'Most': 1, 'Wigznore,': 1, '14': 1, 'Address': 1, '296,': 1, 'first,': 1, 'unwelcome': 1, 'Iaw,': 1, 'proscribed': 1, 'resulting': 1, 'freedom': 3, 'Dec.': 12, 'definitely': 1, 'satisfied': 1, 'i,': 1, 'create': 1, 'obtainable': 1, 'publishing,': 1, 'PERFORMANCE': 1, 'utterances.19': 1, 'nothing': 2, 'Courts': 1, '573¢': 1, 'suppression': 1, 'element': 1, 'facts,':...\n",
       "3    {'Modern': 1, 'contests,': 2, 'fact,': 4, 'Cheese': 1, 'deceptive': 2, 'Tempe:': 2, '8-': 4, 'Digest': 1, '135-14.': 1, 'Practice': 1, 'relevant': 1, 'indicates': 1, 'Youth': 4, 'Jean': 3, 'Productions.': 1, '168.': 1, 'testimonial': 1, 'comply': 1, 'Markets': 2, 'Ella‟s': 1, '(January': 1, 'presenting': 1, 'Chairman,': 1, 'rather': 4, 'balance': 1, 'advertisement.62': 1, 'urge': 1, 'Our': 5, 'Academies': 1, 'problem': 2, 'Schor,': 1, 'landed': 1, 'consumption': 5, 'emphasized': 1, 'conclude...\n",
       "4    {'contrary,': 1, 'scandalous': 1, 'thought': 4, '(Webb's': 1, 'introduced': 2, 'libel,': 7, 'Justice': 1, 'char-': 1, 'i6,': 1, 'warrant': 2, '(1809).': 1, 'P.': 4, 'principle\"': 1, 'publication': 22, 'I23,': 1, 'however': 2, 'Nevertheless,': 1, '(i877);': 1, 'extent': 1, 'malice.': 6, 'proof': 3, 'attacked': 1, '(if': 2, 'LAW': 2, 'think': 1, 'dicta': 1, '16': 1, 'failed': 1, 'pistol': 1, 'years': 1, 'com-': 3, 'malicious,': 1, 'fact.': 1, 'individual': 2, 'public,': 1, 'Const.': 5, 'Laws,'...\n",
       "Name: unigramCount, dtype: object"
      ]
     },
     "execution_count": 51,
     "metadata": {},
     "output_type": "execute_result"
    }
   ],
   "source": [
    "df['unigramCount'].head()"
   ]
  },
  {
   "cell_type": "markdown",
   "metadata": {},
   "source": [
    "We can also see just from this very short printout that the dictionaries are not sorted in any way; it might be nice to have the words with the highest counts at the start of the dictionary. How could we handle that? Well, let's write a function to sort the dictionary."
   ]
  },
  {
   "cell_type": "code",
   "execution_count": 52,
   "metadata": {},
   "outputs": [],
   "source": [
    "# Here we create our function to sort a dictionary by values from greatest to least:\n",
    "def sort_a_dictionary_by_values(dictionary):\n",
    "    sorted_dict = dict(sorted(dictionary.items(), key=lambda x: x[1], reverse=True))\n",
    "    # Documentation for the `lambda` function available [here](https://www.w3schools.com/python/python_lambda.asp)\n",
    "    return(sorted_dict)"
   ]
  },
  {
   "cell_type": "markdown",
   "metadata": {},
   "source": [
    "Now let's test it by creating a simple \"toy dictionary\" and see if everything works as we want.)"
   ]
  },
  {
   "cell_type": "code",
   "execution_count": 53,
   "metadata": {},
   "outputs": [
    {
     "name": "stdout",
     "output_type": "stream",
     "text": [
      "Your unsorted dictionary looks like: {'howdy': 5643, 'doody': 89080, 'time': 10}\n",
      "Your sorted dictionary now looks like: {'doody': 89080, 'howdy': 5643, 'time': 10}\n"
     ]
    }
   ],
   "source": [
    "test_dictionary = {'howdy': 5643, 'doody': 89080, 'time': 10}\n",
    "test_dictionary_sorted = sort_a_dictionary_by_values(test_dictionary)\n",
    "print(f\"Your unsorted dictionary looks like: {test_dictionary}\")\n",
    "print(f\"Your sorted dictionary now looks like: {test_dictionary_sorted}\")"
   ]
  },
  {
   "cell_type": "markdown",
   "metadata": {},
   "source": [
    "Cool!"
   ]
  },
  {
   "cell_type": "markdown",
   "metadata": {},
   "source": [
    "With our `sort_a_dictionary_by_values()` function defined, we can quite easily see which words are the most frequent in each row of the `unigramCount` column. We can even create another column in our dataframe to hold that sorted dictionary:"
   ]
  },
  {
   "cell_type": "code",
   "execution_count": 54,
   "metadata": {},
   "outputs": [
    {
     "data": {
      "text/plain": [
       "0    {'the': 849, 'of': 499, 'to': 337, 'and': 251, 'in': 243, 'a': 189, 'that': 180, 'is': 139, 'L.': 121, 'be': 109, 'was': 108, 'it': 96, 'not': 93, 'by': 87, 'on': 87, 'for': 84, 'The': 79, 'or': 75, 'as': 68, 'state': 67, 'which': 51, 'an': 51, 'REV.': 49, 'may': 47, 'with': 42, 'Justice': 40, 'are': 40, '*': 39, 'its': 37, 'U.': 37, 'REv.': 35, 'statute': 35, 'were': 35, 'Mr.': 35, 'power': 34, 'v.': 34, 'S.': 33, 'Ct.': 31, 'MICH.': 31, 'Sup.': 31, 'had': 31, 'court': 30, 'their': 30, 'pub...\n",
       "1    {'.': 768, 'and': 490, 'the': 468, 'of': 376, 'to': 299, 'for': 191, 'a': 151, 'in': 147, 'on': 132, 'that': 93, 'The': 83, 'National': 68, 'should': 66, 'as': 63, 'is': 61, 'Brennan': 61, 'Center': 59, 'with': 51, '2020,': 49, 'by': 49, 'A': 47, 'Justice': 45, 'or': 42, 'has': 41, 'president': 41, 'Security': 41, 'are': 38, 'Act': 37, 'an': 37, 'U': 36, '.S': 36, 'from': 35, 'be': 33, '2019,': 33, 'Congress': 32, 'which': 31, 'national': 31, 'have': 30, 'New': 30, 'not': 29, 'law': 29, 'Lib...\n",
       "2    {'the': 262, 'of': 206, 'to': 79, 'and': 78, 'in': 74, 'is': 65, 'a': 56, 'that': 52, 'v.': 38, 'by': 33, 'The': 32, 'or': 30, 'it': 29, 'was': 28, 'Cal.': 28, 'People': 25, 'as': 25, 'be': 23, 'Pac.': 21, 'for': 20, 'its': 19, 'law': 18, 'not': 16, 'an': 15, '.': 14, 'which': 14, 'n.': 13, 'are': 13, 'who': 13, 'Dec.': 12, 'this': 12, 'any': 12, 'p.': 11, 'against': 11, 'such': 11, 'on': 11, 'criminal': 11, 'at': 10, 'when': 10, 'have': 10, 'crime': 10, 'they': 10, 'may': 10, 'Law': 9, 'App...\n",
       "3    {'and': 480, 'of': 450, 'the': 431, 'to': 372, 'in': 290, 'from': 213, 'Retrieved': 177, 'that': 169, 'for': 157, 'a': 155, 'The': 135, 'advertising': 131, '2010,': 129, 'on': 125, '&': 98, 'their': 84, 'children': 83, 'is': 79, 'are': 77, 'with': 70, 'marketing': 69, 'September': 59, 'as': 59, 'or': 58, '(2010,': 55, 'by': 55, 'they': 54, 'Education': 54, 'Advertising': 52, 'In': 51, '2009,': 50, 'June': 49, 'food': 49, 'school': 48, 'it': 46, '44': 46, 'an': 45, 'http://nepc.colorado.edu/p...\n",
       "4    {'the': 577, 'of': 300, 'to': 194, 'in': 173, 'be': 135, 'and': 128, 'that': 125, 'is': 116, 'a': 99, 'for': 73, 'not': 70, 'v.': 67, 'was': 63, 'or': 61, 'it': 54, 'public': 51, 'by': 49, 'as': 47, 'The': 46, 'which': 43, 'common': 43, 'law': 40, 'Com.': 38, 'any': 37, 'are': 34, 'no': 34, 'cases': 33, 'may': 33, 'at': 32, 'this': 32, 'but': 30, 'has': 30, 'there': 28, 'matter': 24, 'proper': 24, 'been': 24, 'if': 24, 'shall': 23, 'upon': 23, '\"': 23, 'publication': 22, 'constitution': 22, ...\n",
       "Name: unigramCountSorted, dtype: object"
      ]
     },
     "execution_count": 54,
     "metadata": {},
     "output_type": "execute_result"
    }
   ],
   "source": [
    "df['unigramCountSorted'] = df['unigramCount'].apply(sort_a_dictionary_by_values)\n",
    "df['unigramCountSorted'].head()"
   ]
  },
  {
   "cell_type": "markdown",
   "metadata": {},
   "source": [
    "### 4. Creating Some Word Clouds—& Seeing the Need for Some Further Data Cleaning:"
   ]
  },
  {
   "cell_type": "markdown",
   "metadata": {},
   "source": [
    "The previous cell block certainly shows us one way of visualizing these counts. Another is the good ol' WordCloud, which sizes the font of a word based on its frequency, i.e. so words that show up more often are printed in larger font sizes. (The font colors also change based upon the frequency.) There are a number of ways we could go about getting the data that we have from Constellate into a nice format to plot in a Word Cloud, but we want to see if we can be a little bit more flexible here. Since the dataset already comes with word counts (counts that we can now sort), it's a pretty easy step to get a WordCloud visualization—a visualization we can use to see if it matches up with what we got in the previous cell. In fact, the [WordCloud library](https://amueller.github.io/word_cloud/) (a go-to library for many text analysis practitioners for generating WordClouds here in the Python ecosystem) already has [a function](https://amueller.github.io/word_cloud/auto_examples/frequency.html?highlight=generate%20from%20frequencies) to create the cloud right from the word frequencies. We can therefore use the word frequencies already stored in the `unigramCountSorted` column of our dataframe. So let's write a simple function that utilizes it and creates the word cloud:"
   ]
  },
  {
   "cell_type": "code",
   "execution_count": 55,
   "metadata": {},
   "outputs": [],
   "source": [
    "def generate_word_cloud(dict_values):\n",
    "\n",
    "    wordcloud = WordCloud(width=700, height=700, max_words=100, random_state=1, background_color='gray', colormap='plasma', collocations=False).generate_from_frequencies(dict_values)\n",
    "    #plt.figure(figsize=(40, 30))\n",
    "    plt.imshow(wordcloud)\n",
    "    plt.axis('off')\n",
    "    plt.show()"
   ]
  },
  {
   "cell_type": "markdown",
   "metadata": {},
   "source": [
    "Let's say we wanted to produce a word cloud solely for the text in the first row of our dataframe. Simple enough!"
   ]
  },
  {
   "cell_type": "code",
   "execution_count": 56,
   "metadata": {},
   "outputs": [
    {
     "data": {
      "image/png": "[encoded data removed]",
      "text/plain": [
       "<Figure size 432x288 with 1 Axes>"
      ]
     },
     "metadata": {
      "needs_background": "light"
     },
     "output_type": "display_data"
    }
   ],
   "source": [
    "generate_word_cloud(df['unigramCountSorted'].iloc[0])"
   ]
  },
  {
   "cell_type": "markdown",
   "metadata": {},
   "source": [
    "This would seem to match up and jive well with our printout a couple of cells earlier; we saw there that the words \"the,\" \"of,\" \"to,\" and \"and\" were at the top of the list—and the visualization here shows that both in terms of those words' font sizes and colors as well."
   ]
  },
  {
   "cell_type": "code",
   "execution_count": 57,
   "metadata": {},
   "outputs": [
    {
     "data": {
      "image/png": "[encoded data removed]",
      "text/plain": [
       "<Figure size 432x288 with 1 Axes>"
      ]
     },
     "metadata": {
      "needs_background": "light"
     },
     "output_type": "display_data"
    }
   ],
   "source": [
    "generate_word_cloud(df['unigramCountSorted'].iloc[1])"
   ]
  },
  {
   "cell_type": "code",
   "execution_count": 58,
   "metadata": {},
   "outputs": [
    {
     "data": {
      "image/png": "[encoded data removed]",
      "text/plain": [
       "<Figure size 432x288 with 1 Axes>"
      ]
     },
     "metadata": {
      "needs_background": "light"
     },
     "output_type": "display_data"
    }
   ],
   "source": [
    "generate_word_cloud(df['unigramCountSorted'].iloc[2])"
   ]
  },
  {
   "cell_type": "markdown",
   "metadata": {},
   "source": [
    "Of course, it turns out that these words are common in all of the printouts from the `df['unigramCountSorted'].head()` call."
   ]
  },
  {
   "cell_type": "markdown",
   "metadata": {},
   "source": [
    "So far we can see a strong motivation for something that most digital text analysts know about all too well. These short words—\"the,\" \"and,\" \"to,\" etc.—are all ones that show up incredibly often in English, but they do not contribute all that much to the meaning of the text. Therefore, in the whole \"data cleaning\" process, we often spend some time removing words like them from our data. If one hunts around a tiny little bit in the [documentation for the WordCloud class](https://amueller.github.io/word_cloud/generated/wordcloud.WordCloud.html?highlight=generate%20from%20frequencies), they will notice that said documentation explicitly states that if one uses the `generate_from_frequencies` function, the standard stopwords are \"[i]gnored if using `generate_from_frequencies`.\") Now, what if we wanted to still use our dictionary of word frequencies and remove all of those stopwords from our dictionary? Well,  let's practice a little bit and write our own function to do it using the list of stopwords in WordCloud. We'll initialize a list that contains the standard English stopwords and then remove them from the dictionary with our function. "
   ]
  },
  {
   "cell_type": "markdown",
   "metadata": {},
   "source": [
    "First we set the `STOPWORDS` list from the WordCloud library and then create our test list. And, let's show a couple of different ways to do this—one using a good ol' [Python list comprehension](https://realpython.com/list-comprehension-python/) and the other with a custom function we create:"
   ]
  },
  {
   "cell_type": "code",
   "execution_count": 59,
   "metadata": {},
   "outputs": [
    {
     "data": {
      "text/plain": [
       "{'He Who Must Not Be Named': 3245,\n",
       " 'Harry Potter': 4542324,\n",
       " 'Hermione Granger': 10000000,\n",
       " 'Ronald': 980,\n",
       " 'Sirius Black': 87}"
      ]
     },
     "execution_count": 59,
     "metadata": {},
     "output_type": "execute_result"
    }
   ],
   "source": [
    "stop_words = set(STOPWORDS)\n",
    "# We can see all the stopwords WordCloud provides if we simply `print(stop_words)`\n",
    "\n",
    "def remove_stopwords_from_a_dict(dictionary):\n",
    "    cleaned_dictionary = {k: v for k, v in dictionary.items() if k not in stop_words}\n",
    "    return(cleaned_dictionary)\n",
    "\n",
    "test_dictionary = {'a': 9808, 'an': 83987, 'He Who Must Not Be Named': 3245, 'Harry Potter': 4542324, 'Hermione Granger': 10000000, 'Ronald': 980, 'the': 2, 'of': 56, 'in': 12, 'Sirius Black': 87}\n",
    "\n",
    "cleaned_test_dictionary = remove_stopwords_from_a_dict(test_dictionary)\n",
    "cleaned_test_dictionary"
   ]
  },
  {
   "cell_type": "markdown",
   "metadata": {},
   "source": [
    "Looks good—no stopwords showing up ... now let's utilize the function to remove the stopwords and then plot the word clouds again."
   ]
  },
  {
   "cell_type": "code",
   "execution_count": 60,
   "metadata": {},
   "outputs": [],
   "source": [
    "df['unigramCountSorted'] = df['unigramCountSorted'].apply(remove_stopwords_from_a_dict)"
   ]
  },
  {
   "cell_type": "code",
   "execution_count": 61,
   "metadata": {},
   "outputs": [],
   "source": [
    "def return_word_cloud_object(dict_values):\n",
    "    wordcloud = WordCloud(width=700, height=700, max_words=100, random_state=1, background_color='white', colormap='viridis', collocations=False).generate_from_frequencies(dict_values)\n",
    "    return(wordcloud)\n",
    "\n",
    "word_cloud_1 = return_word_cloud_object(df['unigramCountSorted'].iloc[0])\n",
    "word_cloud_2 = return_word_cloud_object(df['unigramCountSorted'].iloc[1])\n",
    "word_cloud_3 = return_word_cloud_object(df['unigramCountSorted'].iloc[2])\n",
    "\n",
    "fig, axes = plt.subplots(nrows=1, ncols=3, sharex=True, sharey=True, squeeze=False)\n",
    "fig.set_figheight(30)\n",
    "fig.set_figwidth(15)\n",
    "\n",
    "axes[0][0].imshow(word_cloud_1)\n",
    "axes[0][1].imshow(word_cloud_2)\n",
    "axes[0][2].imshow(word_cloud_3)"
   ]
  },
  {
   "cell_type": "markdown",
   "metadata": {},
   "source": [
    "Here we can see that we've got the stopwords issue handled, but there is clearly still more to do—punctuation marks are still present and there are some other strings that we would want to further clean up. We'll save that as an exercise for everyone to handle on their own later. Can we write some functions to handle all the punctuation marks, starts of a web address, numbers for years (and also, potentially, the numbers associated with case numbers and ids) Moreover, we should also notice that although the string \"the\" has been removed, we can still \"The\" showing up in the clouds? (We'll save that as an exercise for later too.)"
   ]
  },
  {
   "cell_type": "markdown",
   "metadata": {},
   "source": [
    "### 5. Different Methods of Visualization instead of the Word Cloud"
   ]
  },
  {
   "cell_type": "markdown",
   "metadata": {},
   "source": [
    "Here in this section we want to transition a little bit and see if there might be some ways in which we can improve the standard Word Cloud in order to give us a different way to visualize some things in our dataset. Instead of starting from our unigram counts, we're going to work with that `fullText` column we took a peek at earlier. The first thing we want to do is to determine a list of words and their counts starting from that column. "
   ]
  },
  {
   "cell_type": "markdown",
   "metadata": {},
   "source": [
    "So let's jump back to the dataframe from our original dataset and say that we are interested just in the very first row: let's select out just that row into a new dataframe:"
   ]
  },
  {
   "cell_type": "code",
   "execution_count": null,
   "metadata": {},
   "outputs": [
    {
     "name": "stdout",
     "output_type": "stream",
     "text": [
      "creator                                                                                                                                                                                                                                                                                                                                                                                                                                                                                                         [Thomas Reed Powell]\n",
      "datePublished                                                                                                                                                                                                                                                                                                                                                                                                                                                                                                             1922-01-01\n",
      "docSubType                                                                                                                                                                                                                                                                                                                                                                                                                                                                                                          research-article\n",
      "docType                                                                                                                                                                                                                                                                                                                                                                                                                                                                                                                      article\n",
      "fullText         [MICHIGAN LAW REVIEW VOL. XX JANUARY, 1922 No. 3 THE SUPREME COURT'S CONSTRUCTION OF THE FEDERAL CONSTITUTION IN I920-I92I, III1 IV. PoLIcE POWER THE difficulty of classifying cases on the police power has not evaporated since the review of decisions for the preceding year. The headings there suggested are used here. Classification on the basis of the objects of the legislation appears too precarious to be attempted with any confidence. It seems safer to work along the line of the subject ma...\n",
      "Name: 0, dtype: object\n"
     ]
    }
   ],
   "source": [
    "df_of_interest = df.iloc[0]\n",
    "print(df_of_interest.head())"
   ]
  },
  {
   "cell_type": "markdown",
   "metadata": {},
   "source": [
    "Furthermore, since we're only interested in the `fullText` column, let's grab and work with just that:"
   ]
  },
  {
   "cell_type": "code",
   "execution_count": null,
   "metadata": {},
   "outputs": [],
   "source": [
    "full_text_of_interest = df_of_interest['fullText']"
   ]
  },
  {
   "cell_type": "markdown",
   "metadata": {},
   "source": [
    "We should see that the entirety of the text in `fullText` is in a list, so let's convert it to a string to make it easier to get the words and counts:"
   ]
  },
  {
   "cell_type": "code",
   "execution_count": null,
   "metadata": {},
   "outputs": [
    {
     "name": "stdout",
     "output_type": "stream",
     "text": [
      "MICHIGAN LAW REVIEW VOL. XX JANUARY, 1922 No. 3 THE SUPREME COURT'S CONSTRUCTION OF THE FEDERAL CONSTITUTION IN I920-I92I, III1 IV. PoLIcE POWER THE difficulty of classifying cases on the police power has not evaporated since the review of decisions for the preceding year. The headings there suggested are used here. Classification on the basis of the objects of the legislation appears too precarious to be attempted with any confidence. It seems safer to work along the line of the subject matters\n"
     ]
    }
   ],
   "source": [
    "# Guidelines for the String .join() method: https://www.w3schools.com/python/ref_string_join.asp\n",
    "full_string = \" \".join(full_text_of_interest)\n",
    "\n",
    "# And let's just do a quick sanity check to make sure that we have a string and not a list\n",
    "print(full_string[0:500])"
   ]
  },
  {
   "cell_type": "markdown",
   "metadata": {},
   "source": [
    "Looks good—we can now do some basic text preprocessing and create a dataframe that will keep track of all of the words in the text string along with their counts. First we'll get our stopwords set up once more; split the string on whitespace; remove any numbers using a regular expression; lower case all of our tokens and make sure that all the characters in the string are letters (utilizing the [built-in `.isalpha()`](https://www.w3schools.com/python/ref_string_isalpha.asp)); filter out all the stopwords and count all the remaining tokens that are not present in that stopwords list; lastly we'll store the word and the count for each word in a handy little dataframe:"
   ]
  },
  {
   "cell_type": "code",
   "execution_count": null,
   "metadata": {},
   "outputs": [
    {
     "data": {
      "text/html": [
       "<div>\n",
       "<style scoped>\n",
       "    .dataframe tbody tr th:only-of-type {\n",
       "        vertical-align: middle;\n",
       "    }\n",
       "\n",
       "    .dataframe tbody tr th {\n",
       "        vertical-align: top;\n",
       "    }\n",
       "\n",
       "    .dataframe thead th {\n",
       "        text-align: right;\n",
       "    }\n",
       "</style>\n",
       "<table border=\"1\" class=\"dataframe\">\n",
       "  <thead>\n",
       "    <tr style=\"text-align: right;\">\n",
       "      <th></th>\n",
       "      <th>word</th>\n",
       "      <th>count</th>\n",
       "    </tr>\n",
       "  </thead>\n",
       "  <tbody>\n",
       "    <tr>\n",
       "      <th>0</th>\n",
       "      <td>state</td>\n",
       "      <td>68</td>\n",
       "    </tr>\n",
       "    <tr>\n",
       "      <th>1</th>\n",
       "      <td>may</td>\n",
       "      <td>47</td>\n",
       "    </tr>\n",
       "    <tr>\n",
       "      <th>2</th>\n",
       "      <td>court</td>\n",
       "      <td>41</td>\n",
       "    </tr>\n",
       "    <tr>\n",
       "      <th>3</th>\n",
       "      <td>justice</td>\n",
       "      <td>41</td>\n",
       "    </tr>\n",
       "    <tr>\n",
       "      <th>4</th>\n",
       "      <td>power</td>\n",
       "      <td>39</td>\n",
       "    </tr>\n",
       "    <tr>\n",
       "      <th>5</th>\n",
       "      <td>law</td>\n",
       "      <td>38</td>\n",
       "    </tr>\n",
       "    <tr>\n",
       "      <th>6</th>\n",
       "      <td>public</td>\n",
       "      <td>38</td>\n",
       "    </tr>\n",
       "    <tr>\n",
       "      <th>7</th>\n",
       "      <td>statute</td>\n",
       "      <td>35</td>\n",
       "    </tr>\n",
       "    <tr>\n",
       "      <th>8</th>\n",
       "      <td>without</td>\n",
       "      <td>27</td>\n",
       "    </tr>\n",
       "    <tr>\n",
       "      <th>9</th>\n",
       "      <td>federal</td>\n",
       "      <td>26</td>\n",
       "    </tr>\n",
       "  </tbody>\n",
       "</table>\n",
       "</div>"
      ],
      "text/plain": [
       "      word  count\n",
       "0    state     68\n",
       "1      may     47\n",
       "2    court     41\n",
       "3  justice     41\n",
       "4    power     39\n",
       "5      law     38\n",
       "6   public     38\n",
       "7  statute     35\n",
       "8  without     27\n",
       "9  federal     26"
      ]
     },
     "execution_count": 25,
     "metadata": {},
     "output_type": "execute_result"
    }
   ],
   "source": [
    "stop_words = set(STOPWORDS)\n",
    "list_words = full_string.split(' ')\n",
    "list_words = [re.sub(r'[0-9]', '', i) for i in list_words]\n",
    "list_words_lower = [x.lower() for x in list_words]\n",
    "list_words_alpha_only = [x for x in list_words_lower if x.isalpha() == True]\n",
    "set_words_full = list(set(list_words_alpha_only))\n",
    "set_words = [i for i in set_words_full if i not in stop_words]\n",
    "count_words = [list_words_alpha_only.count(i) for i in set_words]\n",
    "\n",
    "counts_df = pd.DataFrame(zip(set_words, count_words), columns=['word', 'count'])\n",
    "counts_df.sort_values('count', ascending=False, inplace=True)\n",
    "counts_df.reset_index(drop=True, inplace=True)\n",
    "counts_df.head(10)"
   ]
  },
  {
   "cell_type": "markdown",
   "metadata": {},
   "source": [
    "Okay, so let's do some visualization of our dataframe—how about a simple pie chart with the [plotly library](https://plotly.com/)?"
   ]
  },
  {
   "cell_type": "code",
   "execution_count": null,
   "metadata": {},
   "outputs": [
    {
     "data": {
      "application/vnd.plotly.v1+json": {
       "config": {
        "plotlyServerURL": "https://plot.ly"
       },
       "data": [
        {
         "domain": {
          "x": [
           0,
           1
          ],
          "y": [
           0,
           1
          ]
         },
         "hole": 0.6,
         "hoverinfo": "label+percent+name",
         "hovertemplate": "word=%{label}<br>count=%{value}<extra></extra>",
         "labels": [
          "state",
          "may",
          "court",
          "justice",
          "power",
          "law",
          "public",
          "statute",
          "without",
          "federal",
          "upon",
          "whether",
          "constitution",
          "right",
          "held",
          "question",
          "police",
          "review",
          "company",
          "cases",
          "property",
          "compensation",
          "gas",
          "rates",
          "use",
          "united",
          "see",
          "private",
          "sustained",
          "michigan"
         ],
         "legendgroup": "",
         "name": "",
         "showlegend": true,
         "textinfo": "percent+label",
         "textposition": "outside",
         "type": "pie",
         "values": [
          68,
          47,
          41,
          41,
          39,
          38,
          38,
          35,
          27,
          26,
          24,
          23,
          22,
          21,
          21,
          21,
          21,
          20,
          20,
          20,
          18,
          18,
          17,
          16,
          16,
          16,
          15,
          15,
          15,
          15
         ]
        }
       ],
       "layout": {
        "height": 600,
        "legend": {
         "tracegroupgap": 0
        },
        "margin": {
         "b": 0,
         "l": 0,
         "r": 0,
         "t": 0
        },
        "piecolorway": [
         "#1f77b4",
         "#ff7f0e",
         "#2ca02c",
         "#d62728",
         "#9467bd",
         "#8c564b",
         "#e377c2",
         "#7f7f7f",
         "#bcbd22",
         "#17becf",
         "#1f77b4",
         "#ff7f0e",
         "#2ca02c",
         "#d62728",
         "#9467bd",
         "#8c564b",
         "#e377c2",
         "#7f7f7f",
         "#bcbd22",
         "#17becf",
         "#1f77b4",
         "#ff7f0e",
         "#2ca02c",
         "#d62728",
         "#9467bd",
         "#8c564b",
         "#e377c2",
         "#7f7f7f",
         "#bcbd22",
         "#17becf"
        ],
        "template": {
         "data": {
          "bar": [
           {
            "error_x": {
             "color": "#2a3f5f"
            },
            "error_y": {
             "color": "#2a3f5f"
            },
            "marker": {
             "line": {
              "color": "#E5ECF6",
              "width": 0.5
             },
             "pattern": {
              "fillmode": "overlay",
              "size": 10,
              "solidity": 0.2
             }
            },
            "type": "bar"
           }
          ],
          "barpolar": [
           {
            "marker": {
             "line": {
              "color": "#E5ECF6",
              "width": 0.5
             },
             "pattern": {
              "fillmode": "overlay",
              "size": 10,
              "solidity": 0.2
             }
            },
            "type": "barpolar"
           }
          ],
          "carpet": [
           {
            "aaxis": {
             "endlinecolor": "#2a3f5f",
             "gridcolor": "white",
             "linecolor": "white",
             "minorgridcolor": "white",
             "startlinecolor": "#2a3f5f"
            },
            "baxis": {
             "endlinecolor": "#2a3f5f",
             "gridcolor": "white",
             "linecolor": "white",
             "minorgridcolor": "white",
             "startlinecolor": "#2a3f5f"
            },
            "type": "carpet"
           }
          ],
          "choropleth": [
           {
            "colorbar": {
             "outlinewidth": 0,
             "ticks": ""
            },
            "type": "choropleth"
           }
          ],
          "contour": [
           {
            "colorbar": {
             "outlinewidth": 0,
             "ticks": ""
            },
            "colorscale": [
             [
              0,
              "#0d0887"
             ],
             [
              0.1111111111111111,
              "#46039f"
             ],
             [
              0.2222222222222222,
              "#7201a8"
             ],
             [
              0.3333333333333333,
              "#9c179e"
             ],
             [
              0.4444444444444444,
              "#bd3786"
             ],
             [
              0.5555555555555556,
              "#d8576b"
             ],
             [
              0.6666666666666666,
              "#ed7953"
             ],
             [
              0.7777777777777778,
              "#fb9f3a"
             ],
             [
              0.8888888888888888,
              "#fdca26"
             ],
             [
              1,
              "#f0f921"
             ]
            ],
            "type": "contour"
           }
          ],
          "contourcarpet": [
           {
            "colorbar": {
             "outlinewidth": 0,
             "ticks": ""
            },
            "type": "contourcarpet"
           }
          ],
          "heatmap": [
           {
            "colorbar": {
             "outlinewidth": 0,
             "ticks": ""
            },
            "colorscale": [
             [
              0,
              "#0d0887"
             ],
             [
              0.1111111111111111,
              "#46039f"
             ],
             [
              0.2222222222222222,
              "#7201a8"
             ],
             [
              0.3333333333333333,
              "#9c179e"
             ],
             [
              0.4444444444444444,
              "#bd3786"
             ],
             [
              0.5555555555555556,
              "#d8576b"
             ],
             [
              0.6666666666666666,
              "#ed7953"
             ],
             [
              0.7777777777777778,
              "#fb9f3a"
             ],
             [
              0.8888888888888888,
              "#fdca26"
             ],
             [
              1,
              "#f0f921"
             ]
            ],
            "type": "heatmap"
           }
          ],
          "heatmapgl": [
           {
            "colorbar": {
             "outlinewidth": 0,
             "ticks": ""
            },
            "colorscale": [
             [
              0,
              "#0d0887"
             ],
             [
              0.1111111111111111,
              "#46039f"
             ],
             [
              0.2222222222222222,
              "#7201a8"
             ],
             [
              0.3333333333333333,
              "#9c179e"
             ],
             [
              0.4444444444444444,
              "#bd3786"
             ],
             [
              0.5555555555555556,
              "#d8576b"
             ],
             [
              0.6666666666666666,
              "#ed7953"
             ],
             [
              0.7777777777777778,
              "#fb9f3a"
             ],
             [
              0.8888888888888888,
              "#fdca26"
             ],
             [
              1,
              "#f0f921"
             ]
            ],
            "type": "heatmapgl"
           }
          ],
          "histogram": [
           {
            "marker": {
             "pattern": {
              "fillmode": "overlay",
              "size": 10,
              "solidity": 0.2
             }
            },
            "type": "histogram"
           }
          ],
          "histogram2d": [
           {
            "colorbar": {
             "outlinewidth": 0,
             "ticks": ""
            },
            "colorscale": [
             [
              0,
              "#0d0887"
             ],
             [
              0.1111111111111111,
              "#46039f"
             ],
             [
              0.2222222222222222,
              "#7201a8"
             ],
             [
              0.3333333333333333,
              "#9c179e"
             ],
             [
              0.4444444444444444,
              "#bd3786"
             ],
             [
              0.5555555555555556,
              "#d8576b"
             ],
             [
              0.6666666666666666,
              "#ed7953"
             ],
             [
              0.7777777777777778,
              "#fb9f3a"
             ],
             [
              0.8888888888888888,
              "#fdca26"
             ],
             [
              1,
              "#f0f921"
             ]
            ],
            "type": "histogram2d"
           }
          ],
          "histogram2dcontour": [
           {
            "colorbar": {
             "outlinewidth": 0,
             "ticks": ""
            },
            "colorscale": [
             [
              0,
              "#0d0887"
             ],
             [
              0.1111111111111111,
              "#46039f"
             ],
             [
              0.2222222222222222,
              "#7201a8"
             ],
             [
              0.3333333333333333,
              "#9c179e"
             ],
             [
              0.4444444444444444,
              "#bd3786"
             ],
             [
              0.5555555555555556,
              "#d8576b"
             ],
             [
              0.6666666666666666,
              "#ed7953"
             ],
             [
              0.7777777777777778,
              "#fb9f3a"
             ],
             [
              0.8888888888888888,
              "#fdca26"
             ],
             [
              1,
              "#f0f921"
             ]
            ],
            "type": "histogram2dcontour"
           }
          ],
          "mesh3d": [
           {
            "colorbar": {
             "outlinewidth": 0,
             "ticks": ""
            },
            "type": "mesh3d"
           }
          ],
          "parcoords": [
           {
            "line": {
             "colorbar": {
              "outlinewidth": 0,
              "ticks": ""
             }
            },
            "type": "parcoords"
           }
          ],
          "pie": [
           {
            "automargin": true,
            "type": "pie"
           }
          ],
          "scatter": [
           {
            "fillpattern": {
             "fillmode": "overlay",
             "size": 10,
             "solidity": 0.2
            },
            "type": "scatter"
           }
          ],
          "scatter3d": [
           {
            "line": {
             "colorbar": {
              "outlinewidth": 0,
              "ticks": ""
             }
            },
            "marker": {
             "colorbar": {
              "outlinewidth": 0,
              "ticks": ""
             }
            },
            "type": "scatter3d"
           }
          ],
          "scattercarpet": [
           {
            "marker": {
             "colorbar": {
              "outlinewidth": 0,
              "ticks": ""
             }
            },
            "type": "scattercarpet"
           }
          ],
          "scattergeo": [
           {
            "marker": {
             "colorbar": {
              "outlinewidth": 0,
              "ticks": ""
             }
            },
            "type": "scattergeo"
           }
          ],
          "scattergl": [
           {
            "marker": {
             "colorbar": {
              "outlinewidth": 0,
              "ticks": ""
             }
            },
            "type": "scattergl"
           }
          ],
          "scattermapbox": [
           {
            "marker": {
             "colorbar": {
              "outlinewidth": 0,
              "ticks": ""
             }
            },
            "type": "scattermapbox"
           }
          ],
          "scatterpolar": [
           {
            "marker": {
             "colorbar": {
              "outlinewidth": 0,
              "ticks": ""
             }
            },
            "type": "scatterpolar"
           }
          ],
          "scatterpolargl": [
           {
            "marker": {
             "colorbar": {
              "outlinewidth": 0,
              "ticks": ""
             }
            },
            "type": "scatterpolargl"
           }
          ],
          "scatterternary": [
           {
            "marker": {
             "colorbar": {
              "outlinewidth": 0,
              "ticks": ""
             }
            },
            "type": "scatterternary"
           }
          ],
          "surface": [
           {
            "colorbar": {
             "outlinewidth": 0,
             "ticks": ""
            },
            "colorscale": [
             [
              0,
              "#0d0887"
             ],
             [
              0.1111111111111111,
              "#46039f"
             ],
             [
              0.2222222222222222,
              "#7201a8"
             ],
             [
              0.3333333333333333,
              "#9c179e"
             ],
             [
              0.4444444444444444,
              "#bd3786"
             ],
             [
              0.5555555555555556,
              "#d8576b"
             ],
             [
              0.6666666666666666,
              "#ed7953"
             ],
             [
              0.7777777777777778,
              "#fb9f3a"
             ],
             [
              0.8888888888888888,
              "#fdca26"
             ],
             [
              1,
              "#f0f921"
             ]
            ],
            "type": "surface"
           }
          ],
          "table": [
           {
            "cells": {
             "fill": {
              "color": "#EBF0F8"
             },
             "line": {
              "color": "white"
             }
            },
            "header": {
             "fill": {
              "color": "#C8D4E3"
             },
             "line": {
              "color": "white"
             }
            },
            "type": "table"
           }
          ]
         },
         "layout": {
          "annotationdefaults": {
           "arrowcolor": "#2a3f5f",
           "arrowhead": 0,
           "arrowwidth": 1
          },
          "autotypenumbers": "strict",
          "coloraxis": {
           "colorbar": {
            "outlinewidth": 0,
            "ticks": ""
           }
          },
          "colorscale": {
           "diverging": [
            [
             0,
             "#8e0152"
            ],
            [
             0.1,
             "#c51b7d"
            ],
            [
             0.2,
             "#de77ae"
            ],
            [
             0.3,
             "#f1b6da"
            ],
            [
             0.4,
             "#fde0ef"
            ],
            [
             0.5,
             "#f7f7f7"
            ],
            [
             0.6,
             "#e6f5d0"
            ],
            [
             0.7,
             "#b8e186"
            ],
            [
             0.8,
             "#7fbc41"
            ],
            [
             0.9,
             "#4d9221"
            ],
            [
             1,
             "#276419"
            ]
           ],
           "sequential": [
            [
             0,
             "#0d0887"
            ],
            [
             0.1111111111111111,
             "#46039f"
            ],
            [
             0.2222222222222222,
             "#7201a8"
            ],
            [
             0.3333333333333333,
             "#9c179e"
            ],
            [
             0.4444444444444444,
             "#bd3786"
            ],
            [
             0.5555555555555556,
             "#d8576b"
            ],
            [
             0.6666666666666666,
             "#ed7953"
            ],
            [
             0.7777777777777778,
             "#fb9f3a"
            ],
            [
             0.8888888888888888,
             "#fdca26"
            ],
            [
             1,
             "#f0f921"
            ]
           ],
           "sequentialminus": [
            [
             0,
             "#0d0887"
            ],
            [
             0.1111111111111111,
             "#46039f"
            ],
            [
             0.2222222222222222,
             "#7201a8"
            ],
            [
             0.3333333333333333,
             "#9c179e"
            ],
            [
             0.4444444444444444,
             "#bd3786"
            ],
            [
             0.5555555555555556,
             "#d8576b"
            ],
            [
             0.6666666666666666,
             "#ed7953"
            ],
            [
             0.7777777777777778,
             "#fb9f3a"
            ],
            [
             0.8888888888888888,
             "#fdca26"
            ],
            [
             1,
             "#f0f921"
            ]
           ]
          },
          "colorway": [
           "#636efa",
           "#EF553B",
           "#00cc96",
           "#ab63fa",
           "#FFA15A",
           "#19d3f3",
           "#FF6692",
           "#B6E880",
           "#FF97FF",
           "#FECB52"
          ],
          "font": {
           "color": "#2a3f5f"
          },
          "geo": {
           "bgcolor": "white",
           "lakecolor": "white",
           "landcolor": "#E5ECF6",
           "showlakes": true,
           "showland": true,
           "subunitcolor": "white"
          },
          "hoverlabel": {
           "align": "left"
          },
          "hovermode": "closest",
          "mapbox": {
           "style": "light"
          },
          "paper_bgcolor": "white",
          "plot_bgcolor": "#E5ECF6",
          "polar": {
           "angularaxis": {
            "gridcolor": "white",
            "linecolor": "white",
            "ticks": ""
           },
           "bgcolor": "#E5ECF6",
           "radialaxis": {
            "gridcolor": "white",
            "linecolor": "white",
            "ticks": ""
           }
          },
          "scene": {
           "xaxis": {
            "backgroundcolor": "#E5ECF6",
            "gridcolor": "white",
            "gridwidth": 2,
            "linecolor": "white",
            "showbackground": true,
            "ticks": "",
            "zerolinecolor": "white"
           },
           "yaxis": {
            "backgroundcolor": "#E5ECF6",
            "gridcolor": "white",
            "gridwidth": 2,
            "linecolor": "white",
            "showbackground": true,
            "ticks": "",
            "zerolinecolor": "white"
           },
           "zaxis": {
            "backgroundcolor": "#E5ECF6",
            "gridcolor": "white",
            "gridwidth": 2,
            "linecolor": "white",
            "showbackground": true,
            "ticks": "",
            "zerolinecolor": "white"
           }
          },
          "shapedefaults": {
           "line": {
            "color": "#2a3f5f"
           }
          },
          "ternary": {
           "aaxis": {
            "gridcolor": "white",
            "linecolor": "white",
            "ticks": ""
           },
           "baxis": {
            "gridcolor": "white",
            "linecolor": "white",
            "ticks": ""
           },
           "bgcolor": "#E5ECF6",
           "caxis": {
            "gridcolor": "white",
            "linecolor": "white",
            "ticks": ""
           }
          },
          "title": {
           "x": 0.05
          },
          "xaxis": {
           "automargin": true,
           "gridcolor": "white",
           "linecolor": "white",
           "ticks": "",
           "title": {
            "standoff": 15
           },
           "zerolinecolor": "white",
           "zerolinewidth": 2
          },
          "yaxis": {
           "automargin": true,
           "gridcolor": "white",
           "linecolor": "white",
           "ticks": "",
           "title": {
            "standoff": 15
           },
           "zerolinecolor": "white",
           "zerolinewidth": 2
          }
         }
        },
        "width": 800
       }
      }
     },
     "metadata": {},
     "output_type": "display_data"
    }
   ],
   "source": [
    "n = 30\n",
    "pal = list(sns.color_palette(palette='tab10', n_colors=n).as_hex())\n",
    "\n",
    "import plotly.express as px # Pie Chart Tutorial available at https://plotly.com/python/pie-charts/\n",
    "\n",
    "# Let's look at just the top 30 words and their counts\n",
    "fig = px.pie(counts_df[0:30], values='count', names='word', color_discrete_sequence=pal)\n",
    "\n",
    "fig.update_traces(textposition='outside', textinfo='percent+label', hole=.6, hoverinfo='label+percent+name')\n",
    "\n",
    "fig.update_layout(width=800, height=600, margin=dict(t=0, l=0, r=0, b=0))\n",
    "fig.show()"
   ]
  },
  {
   "cell_type": "markdown",
   "metadata": {},
   "source": [
    "How about another non-Word Cloud visualization. What about a simple [barplot](http://seaborn.pydata.org/generated/seaborn.barplot.html?highlight=barplot#seaborn.barplot) utilizing the [seaborn library](http://seaborn.pydata.org/index.html)? This time let's plot the first one-hundred words instead of just the top 30?"
   ]
  },
  {
   "cell_type": "code",
   "execution_count": null,
   "metadata": {},
   "outputs": [
    {
     "data": {
      "text/plain": [
       "[Text(0, 0, 'state'),\n",
       " Text(1, 0, 'may'),\n",
       " Text(2, 0, 'court'),\n",
       " Text(3, 0, 'justice'),\n",
       " Text(4, 0, 'power'),\n",
       " Text(5, 0, 'law'),\n",
       " Text(6, 0, 'public'),\n",
       " Text(7, 0, 'statute'),\n",
       " Text(8, 0, 'without'),\n",
       " Text(9, 0, 'federal'),\n",
       " Text(10, 0, 'upon'),\n",
       " Text(11, 0, 'whether'),\n",
       " Text(12, 0, 'constitution'),\n",
       " Text(13, 0, 'right'),\n",
       " Text(14, 0, 'held'),\n",
       " Text(15, 0, 'question'),\n",
       " Text(16, 0, 'police'),\n",
       " Text(17, 0, 'review'),\n",
       " Text(18, 0, 'company'),\n",
       " Text(19, 0, 'cases'),\n",
       " Text(20, 0, 'property'),\n",
       " Text(21, 0, 'compensation'),\n",
       " Text(22, 0, 'gas'),\n",
       " Text(23, 0, 'rates'),\n",
       " Text(24, 0, 'use'),\n",
       " Text(25, 0, 'united'),\n",
       " Text(26, 0, 'see'),\n",
       " Text(27, 0, 'private'),\n",
       " Text(28, 0, 'sustained'),\n",
       " Text(29, 0, 'michigan'),\n",
       " Text(30, 0, 'states'),\n",
       " Text(31, 0, 'regulation'),\n",
       " Text(32, 0, 'made'),\n",
       " Text(33, 0, 'declared'),\n",
       " Text(34, 0, 'government'),\n",
       " Text(35, 0, 'one'),\n",
       " Text(36, 0, 'railroad'),\n",
       " Text(37, 0, 'case'),\n",
       " Text(38, 0, 'new'),\n",
       " Text(39, 0, 'will'),\n",
       " Text(40, 0, 'supreme'),\n",
       " Text(41, 0, 'less'),\n",
       " Text(42, 0, 'imposed'),\n",
       " Text(43, 0, 'note'),\n",
       " Text(44, 0, 'within'),\n",
       " Text(45, 0, 'consideration'),\n",
       " Text(46, 0, 'mckenna'),\n",
       " Text(47, 0, 'subject'),\n",
       " Text(48, 0, 'notes'),\n",
       " Text(49, 0, 'said'),\n",
       " Text(50, 0, 'exercise'),\n",
       " Text(51, 0, 'legislation'),\n",
       " Text(52, 0, 'decision'),\n",
       " Text(53, 0, 'industrial'),\n",
       " Text(54, 0, 'carbon'),\n",
       " Text(55, 0, 'chief'),\n",
       " Text(56, 0, 'laws'),\n",
       " Text(57, 0, 'contracts'),\n",
       " Text(58, 0, 'conditions'),\n",
       " Text(59, 0, 'considered'),\n",
       " Text(60, 0, 'act'),\n",
       " Text(61, 0, 'holmes'),\n",
       " Text(62, 0, 'rights'),\n",
       " Text(63, 0, 'involved'),\n",
       " Text(64, 0, 'fact'),\n",
       " Text(65, 0, 'policy'),\n",
       " Text(66, 0, 'interest'),\n",
       " Text(67, 0, 'yale'),\n",
       " Text(68, 0, 'business'),\n",
       " Text(69, 0, 'opinion'),\n",
       " Text(70, 0, 'statutory'),\n",
       " Text(71, 0, 'regulations'),\n",
       " Text(72, 0, 'required'),\n",
       " Text(73, 0, 'rate'),\n",
       " Text(74, 0, 'employees'),\n",
       " Text(75, 0, 'judgment'),\n",
       " Text(76, 0, 'insurance'),\n",
       " Text(77, 0, 'make'),\n",
       " Text(78, 0, 'justices'),\n",
       " Text(79, 0, 'might'),\n",
       " Text(80, 0, 'holding'),\n",
       " Text(81, 0, 'put'),\n",
       " Text(82, 0, 'natural'),\n",
       " Text(83, 0, 'ground'),\n",
       " Text(84, 0, 'certain'),\n",
       " Text(85, 0, 'become'),\n",
       " Text(86, 0, 'specific'),\n",
       " Text(87, 0, 'cost'),\n",
       " Text(88, 0, 'must'),\n",
       " Text(89, 0, 'allowed'),\n",
       " Text(90, 0, 'requiring'),\n",
       " Text(91, 0, 'effect'),\n",
       " Text(92, 0, 'road'),\n",
       " Text(93, 0, 'taking'),\n",
       " Text(94, 0, 'loss'),\n",
       " Text(95, 0, 'contract'),\n",
       " Text(96, 0, 'another'),\n",
       " Text(97, 0, 'constitutional'),\n",
       " Text(98, 0, 'white'),\n",
       " Text(99, 0, 'time')]"
      ]
     },
     "execution_count": 35,
     "metadata": {},
     "output_type": "execute_result"
    },
    {
     "data": {
      "image/png": "[encoded data removed]",
      "text/plain": [
       "<Figure size 432x288 with 1 Axes>"
      ]
     },
     "metadata": {
      "needs_background": "light"
     },
     "output_type": "display_data"
    }
   ],
   "source": [
    "ax = sns.barplot(x = 'word', y = 'count', data=counts_df.iloc[0:100], alpha=0.5)\n",
    "ax.set_xticklabels(ax.get_xticklabels(), rotation=45)"
   ]
  },
  {
   "cell_type": "markdown",
   "metadata": {},
   "source": [
    "Looks okay, but it's a little messy. Let's see if we can pretty it up a bit. Some space between each of the labels along the x axis would be helpful. There's a [parameter](https://matplotlib.org/stable/api/_as_gen/matplotlib.axes.Axes.set_xlabel.html) for `matplotlib.axes.Axes.set_xlabel`—\"labelpad\"—that we can use to increase the distance between each of the labels. The plot below uses a scalar of 10, but 15 might be even better. We can leave this as a short exercise to fiddle with this number to see what looks best to you."
   ]
  },
  {
   "cell_type": "code",
   "execution_count": null,
   "metadata": {},
   "outputs": [
    {
     "data": {
      "image/png": "[encoded data removed]",
      "text/plain": [
       "<Figure size 1440x720 with 1 Axes>"
      ]
     },
     "metadata": {
      "needs_background": "light"
     },
     "output_type": "display_data"
    }
   ],
   "source": [
    "plt.figure(figsize=(20, 10))\n",
    "ax = sns.barplot(x = 'word', y = 'count', data=counts_df.iloc[0:100], alpha=0.5, palette='Spectral')\n",
    "ax.set_xticklabels(ax.get_xticklabels(), rotation=45)\n",
    "ax.xaxis.labelpad = 10"
   ]
  },
  {
   "cell_type": "markdown",
   "metadata": {},
   "source": [
    "One can also feel free to experiment with the different color palettes on offer from `seaborn`—we would like to note that we're probably going to want to look at the [\"Sequential color palettes\"](https://seaborn.pydata.org/tutorial/color_palettes.html) as our situation here seems to fall quite nicely under this category where \"data range from relatively low or uninteresting values to relatively high or interesting values (or vice versa).\" As it stands,, the seaborn plot above is nice—it gives us a visualization of the top 100 most frequent words in the very first article in the dataset while also color-coding (with the color palette from seaborn) the counts such that words with similar counts share a color shade. But what if we wanted something just a little bit more \"compact\"? "
   ]
  },
  {
   "cell_type": "markdown",
   "metadata": {},
   "source": [
    "Given that we are going to want to do some plotting of this returned dataframe, we'll write a simple little function for the colors that we will eventually use in our visualizations. The following function will take a [`color_palette`](http://seaborn.pydata.org/generated/seaborn.color_palette.html) from the seaborn library (for further information on \"choosing\" and working with \"color palettes\" in seaborn, head on over [here](https://seaborn.pydata.org/tutorial/color_palettes.html)) and will return a list of hex codes used in that palette—we're going to use this list when we create a grid of barplots."
   ]
  },
  {
   "cell_type": "code",
   "execution_count": null,
   "metadata": {},
   "outputs": [],
   "source": [
    "def get_color_dict(palette, number, start):\n",
    "    sns_color_palette = list(sns.color_palette(palette=palette, n_colors=number).as_hex())\n",
    "    dictionary_of_colors = dict(enumerate(sns_color_palette, start=start))\n",
    "    return(dictionary_of_colors)"
   ]
  },
  {
   "cell_type": "code",
   "execution_count": null,
   "metadata": {},
   "outputs": [
    {
     "data": {
      "image/png": "[encoded data removed]",
      "text/plain": [
       "<Figure size 1152x576 with 5 Axes>"
      ]
     },
     "metadata": {},
     "output_type": "display_data"
    }
   ],
   "source": [
    "index_list = [[i[0], i[-1]+1] for i in np.array_split(range(100), 5)]\n",
    "n = counts_df['count'].max()\n",
    "color_dictionary = get_color_dict('plasma', n, 1)\n",
    "\n",
    "fig, axs = plt.subplots(1, 5, figsize=(16, 8), facecolor='white', squeeze=False)\n",
    "for col, idx in zip(range(0, 5), index_list):\n",
    "    df = counts_df[idx[0]:idx[-1]]\n",
    "    #print(df)\n",
    "    label = [word + ': ' + str(count) for word, count in zip(df['word'], df['count'])]\n",
    "    colors = [color_dictionary.get(i) for i in df['count']]\n",
    "    x = list(df['count'])\n",
    "    y = list(range(0, 20))\n",
    "    #print(len(color_l))\n",
    "    sns.barplot(x = x, y = y, data=df, alpha=0.9, orient='h', ax = axs[0][col], palette=colors)\n",
    "    axs[0][col].set_xlim(0, n+1)\n",
    "    axs[0][col].set_yticklabels(label, fontsize=12)\n",
    "    #axs[0][col].spines['bottom'].set_color('white')\n",
    "    #axs[0][col].spines['right'].set_color('white')\n",
    "    #axs[0][col].spines['left'].set_color('white')\n",
    "    #axs[0][col].spines['top'].set_color('white')\n",
    "\n",
    "plt.tight_layout()\n",
    "plt.show()"
   ]
  },
  {
   "cell_type": "markdown",
   "metadata": {},
   "source": [
    "Here we can see that we get a visualization that seems a bit more compact (and perhaps somewhat easier to read and interpret) where—like the barplot above—we get words color-coded nicely by their counts. This is nice due to the fact that we hav a couple of different ways to understand the quantities in the `df['count'] column (i.e. we get the actual bars while also utilizing the color too to see the differences in counts)."
   ]
  },
  {
   "cell_type": "markdown",
   "metadata": {},
   "source": [
    "Another way to potentially visualize our word counts would be to utilize a kind of graph called a [\"treemap\"](https://plotly.com/python/treemaps/). This visualzation is fantastic for looking at \"hierarchical\" data. So, for example, say that we had a text that was divided up into different sections. We could, if we wanted, wrangle our data even a little bit further so as to visualize all our word counts based upon their location in a particular section. (We will just show the visualization below and then we'll save the implementation for an exercise.)"
   ]
  },
  {
   "cell_type": "code",
   "execution_count": null,
   "metadata": {},
   "outputs": [
    {
     "data": {
      "application/vnd.plotly.v1+json": {
       "config": {
        "plotlyServerURL": "https://plot.ly"
       },
       "data": [
        {
         "branchvalues": "total",
         "customdata": [
          [
           13
          ],
          [
           20
          ],
          [
           20
          ],
          [
           18
          ],
          [
           11
          ],
          [
           22
          ],
          [
           41
          ],
          [
           13
          ],
          [
           26
          ],
          [
           17
          ],
          [
           13
          ],
          [
           21
          ],
          [
           11
          ],
          [
           41
          ],
          [
           38
          ],
          [
           11
          ],
          [
           14
          ],
          [
           47
          ],
          [
           11
          ],
          [
           15
          ],
          [
           12
          ],
          [
           11
          ],
          [
           11
          ],
          [
           13
          ],
          [
           21
          ],
          [
           39
          ],
          [
           15
          ],
          [
           18
          ],
          [
           38
          ],
          [
           21
          ],
          [
           13
          ],
          [
           16
          ],
          [
           14
          ],
          [
           20
          ],
          [
           21
          ],
          [
           11
          ],
          [
           15
          ],
          [
           68
          ],
          [
           14
          ],
          [
           35
          ],
          [
           11
          ],
          [
           12
          ],
          [
           15
          ],
          [
           16
          ],
          [
           24
          ],
          [
           16
          ],
          [
           23
          ],
          [
           12
          ],
          [
           11
          ],
          [
           27
          ],
          [
           26.915354330708663
          ]
         ],
         "domain": {
          "x": [
           0,
           1
          ],
          "y": [
           0,
           1
          ]
         },
         "hovertemplate": "labels=%{label}<br>count_sum=%{value}<br>parent=%{parent}<br>id=%{id}<br>count=%{color}<extra></extra>",
         "ids": [
          "word counts/case",
          "word counts/cases",
          "word counts/company",
          "word counts/compensation",
          "word counts/consideration",
          "word counts/constitution",
          "word counts/court",
          "word counts/declared",
          "word counts/federal",
          "word counts/gas",
          "word counts/government",
          "word counts/held",
          "word counts/imposed",
          "word counts/justice",
          "word counts/law",
          "word counts/less",
          "word counts/made",
          "word counts/may",
          "word counts/mckenna",
          "word counts/michigan",
          "word counts/new",
          "word counts/note",
          "word counts/notes",
          "word counts/one",
          "word counts/police",
          "word counts/power",
          "word counts/private",
          "word counts/property",
          "word counts/public",
          "word counts/question",
          "word counts/railroad",
          "word counts/rates",
          "word counts/regulation",
          "word counts/review",
          "word counts/right",
          "word counts/said",
          "word counts/see",
          "word counts/state",
          "word counts/states",
          "word counts/statute",
          "word counts/subject",
          "word counts/supreme",
          "word counts/sustained",
          "word counts/united",
          "word counts/upon",
          "word counts/use",
          "word counts/whether",
          "word counts/will",
          "word counts/within",
          "word counts/without",
          "word counts"
         ],
         "labels": [
          "case",
          "cases",
          "company",
          "compensation",
          "consideration",
          "constitution",
          "court",
          "declared",
          "federal",
          "gas",
          "government",
          "held",
          "imposed",
          "justice",
          "law",
          "less",
          "made",
          "may",
          "mckenna",
          "michigan",
          "new",
          "note",
          "notes",
          "one",
          "police",
          "power",
          "private",
          "property",
          "public",
          "question",
          "railroad",
          "rates",
          "regulation",
          "review",
          "right",
          "said",
          "see",
          "state",
          "states",
          "statute",
          "subject",
          "supreme",
          "sustained",
          "united",
          "upon",
          "use",
          "whether",
          "will",
          "within",
          "without",
          "word counts"
         ],
         "marker": {
          "coloraxis": "coloraxis",
          "colors": [
           13,
           20,
           20,
           18,
           11,
           22,
           41,
           13,
           26,
           17,
           13,
           21,
           11,
           41,
           38,
           11,
           14,
           47,
           11,
           15,
           12,
           11,
           11,
           13,
           21,
           39,
           15,
           18,
           38,
           21,
           13,
           16,
           14,
           20,
           21,
           11,
           15,
           68,
           14,
           35,
           11,
           12,
           15,
           16,
           24,
           16,
           23,
           12,
           11,
           27,
           26.915354330708663
          ]
         },
         "name": "",
         "parents": [
          "word counts",
          "word counts",
          "word counts",
          "word counts",
          "word counts",
          "word counts",
          "word counts",
          "word counts",
          "word counts",
          "word counts",
          "word counts",
          "word counts",
          "word counts",
          "word counts",
          "word counts",
          "word counts",
          "word counts",
          "word counts",
          "word counts",
          "word counts",
          "word counts",
          "word counts",
          "word counts",
          "word counts",
          "word counts",
          "word counts",
          "word counts",
          "word counts",
          "word counts",
          "word counts",
          "word counts",
          "word counts",
          "word counts",
          "word counts",
          "word counts",
          "word counts",
          "word counts",
          "word counts",
          "word counts",
          "word counts",
          "word counts",
          "word counts",
          "word counts",
          "word counts",
          "word counts",
          "word counts",
          "word counts",
          "word counts",
          "word counts",
          "word counts",
          ""
         ],
         "type": "treemap",
         "values": [
          13,
          20,
          20,
          18,
          11,
          22,
          41,
          13,
          26,
          17,
          13,
          21,
          11,
          41,
          38,
          11,
          14,
          47,
          11,
          15,
          12,
          11,
          11,
          13,
          21,
          39,
          15,
          18,
          38,
          21,
          13,
          16,
          14,
          20,
          21,
          11,
          15,
          68,
          14,
          35,
          11,
          12,
          15,
          16,
          24,
          16,
          23,
          12,
          11,
          27,
          1016
         ]
        }
       ],
       "layout": {
        "coloraxis": {
         "cmid": 2.3820412716118238,
         "colorbar": {
          "title": {
           "text": "count"
          }
         },
         "colorscale": [
          [
           0,
           "#0d0887"
          ],
          [
           0.1111111111111111,
           "#46039f"
          ],
          [
           0.2222222222222222,
           "#7201a8"
          ],
          [
           0.3333333333333333,
           "#9c179e"
          ],
          [
           0.4444444444444444,
           "#bd3786"
          ],
          [
           0.5555555555555556,
           "#d8576b"
          ],
          [
           0.6666666666666666,
           "#ed7953"
          ],
          [
           0.7777777777777778,
           "#fb9f3a"
          ],
          [
           0.8888888888888888,
           "#fdca26"
          ],
          [
           1,
           "#f0f921"
          ]
         ]
        },
        "legend": {
         "tracegroupgap": 0
        },
        "margin": {
         "b": 25,
         "l": 25,
         "r": 25,
         "t": 50
        },
        "template": {
         "data": {
          "bar": [
           {
            "error_x": {
             "color": "#2a3f5f"
            },
            "error_y": {
             "color": "#2a3f5f"
            },
            "marker": {
             "line": {
              "color": "#E5ECF6",
              "width": 0.5
             },
             "pattern": {
              "fillmode": "overlay",
              "size": 10,
              "solidity": 0.2
             }
            },
            "type": "bar"
           }
          ],
          "barpolar": [
           {
            "marker": {
             "line": {
              "color": "#E5ECF6",
              "width": 0.5
             },
             "pattern": {
              "fillmode": "overlay",
              "size": 10,
              "solidity": 0.2
             }
            },
            "type": "barpolar"
           }
          ],
          "carpet": [
           {
            "aaxis": {
             "endlinecolor": "#2a3f5f",
             "gridcolor": "white",
             "linecolor": "white",
             "minorgridcolor": "white",
             "startlinecolor": "#2a3f5f"
            },
            "baxis": {
             "endlinecolor": "#2a3f5f",
             "gridcolor": "white",
             "linecolor": "white",
             "minorgridcolor": "white",
             "startlinecolor": "#2a3f5f"
            },
            "type": "carpet"
           }
          ],
          "choropleth": [
           {
            "colorbar": {
             "outlinewidth": 0,
             "ticks": ""
            },
            "type": "choropleth"
           }
          ],
          "contour": [
           {
            "colorbar": {
             "outlinewidth": 0,
             "ticks": ""
            },
            "colorscale": [
             [
              0,
              "#0d0887"
             ],
             [
              0.1111111111111111,
              "#46039f"
             ],
             [
              0.2222222222222222,
              "#7201a8"
             ],
             [
              0.3333333333333333,
              "#9c179e"
             ],
             [
              0.4444444444444444,
              "#bd3786"
             ],
             [
              0.5555555555555556,
              "#d8576b"
             ],
             [
              0.6666666666666666,
              "#ed7953"
             ],
             [
              0.7777777777777778,
              "#fb9f3a"
             ],
             [
              0.8888888888888888,
              "#fdca26"
             ],
             [
              1,
              "#f0f921"
             ]
            ],
            "type": "contour"
           }
          ],
          "contourcarpet": [
           {
            "colorbar": {
             "outlinewidth": 0,
             "ticks": ""
            },
            "type": "contourcarpet"
           }
          ],
          "heatmap": [
           {
            "colorbar": {
             "outlinewidth": 0,
             "ticks": ""
            },
            "colorscale": [
             [
              0,
              "#0d0887"
             ],
             [
              0.1111111111111111,
              "#46039f"
             ],
             [
              0.2222222222222222,
              "#7201a8"
             ],
             [
              0.3333333333333333,
              "#9c179e"
             ],
             [
              0.4444444444444444,
              "#bd3786"
             ],
             [
              0.5555555555555556,
              "#d8576b"
             ],
             [
              0.6666666666666666,
              "#ed7953"
             ],
             [
              0.7777777777777778,
              "#fb9f3a"
             ],
             [
              0.8888888888888888,
              "#fdca26"
             ],
             [
              1,
              "#f0f921"
             ]
            ],
            "type": "heatmap"
           }
          ],
          "heatmapgl": [
           {
            "colorbar": {
             "outlinewidth": 0,
             "ticks": ""
            },
            "colorscale": [
             [
              0,
              "#0d0887"
             ],
             [
              0.1111111111111111,
              "#46039f"
             ],
             [
              0.2222222222222222,
              "#7201a8"
             ],
             [
              0.3333333333333333,
              "#9c179e"
             ],
             [
              0.4444444444444444,
              "#bd3786"
             ],
             [
              0.5555555555555556,
              "#d8576b"
             ],
             [
              0.6666666666666666,
              "#ed7953"
             ],
             [
              0.7777777777777778,
              "#fb9f3a"
             ],
             [
              0.8888888888888888,
              "#fdca26"
             ],
             [
              1,
              "#f0f921"
             ]
            ],
            "type": "heatmapgl"
           }
          ],
          "histogram": [
           {
            "marker": {
             "pattern": {
              "fillmode": "overlay",
              "size": 10,
              "solidity": 0.2
             }
            },
            "type": "histogram"
           }
          ],
          "histogram2d": [
           {
            "colorbar": {
             "outlinewidth": 0,
             "ticks": ""
            },
            "colorscale": [
             [
              0,
              "#0d0887"
             ],
             [
              0.1111111111111111,
              "#46039f"
             ],
             [
              0.2222222222222222,
              "#7201a8"
             ],
             [
              0.3333333333333333,
              "#9c179e"
             ],
             [
              0.4444444444444444,
              "#bd3786"
             ],
             [
              0.5555555555555556,
              "#d8576b"
             ],
             [
              0.6666666666666666,
              "#ed7953"
             ],
             [
              0.7777777777777778,
              "#fb9f3a"
             ],
             [
              0.8888888888888888,
              "#fdca26"
             ],
             [
              1,
              "#f0f921"
             ]
            ],
            "type": "histogram2d"
           }
          ],
          "histogram2dcontour": [
           {
            "colorbar": {
             "outlinewidth": 0,
             "ticks": ""
            },
            "colorscale": [
             [
              0,
              "#0d0887"
             ],
             [
              0.1111111111111111,
              "#46039f"
             ],
             [
              0.2222222222222222,
              "#7201a8"
             ],
             [
              0.3333333333333333,
              "#9c179e"
             ],
             [
              0.4444444444444444,
              "#bd3786"
             ],
             [
              0.5555555555555556,
              "#d8576b"
             ],
             [
              0.6666666666666666,
              "#ed7953"
             ],
             [
              0.7777777777777778,
              "#fb9f3a"
             ],
             [
              0.8888888888888888,
              "#fdca26"
             ],
             [
              1,
              "#f0f921"
             ]
            ],
            "type": "histogram2dcontour"
           }
          ],
          "mesh3d": [
           {
            "colorbar": {
             "outlinewidth": 0,
             "ticks": ""
            },
            "type": "mesh3d"
           }
          ],
          "parcoords": [
           {
            "line": {
             "colorbar": {
              "outlinewidth": 0,
              "ticks": ""
             }
            },
            "type": "parcoords"
           }
          ],
          "pie": [
           {
            "automargin": true,
            "type": "pie"
           }
          ],
          "scatter": [
           {
            "fillpattern": {
             "fillmode": "overlay",
             "size": 10,
             "solidity": 0.2
            },
            "type": "scatter"
           }
          ],
          "scatter3d": [
           {
            "line": {
             "colorbar": {
              "outlinewidth": 0,
              "ticks": ""
             }
            },
            "marker": {
             "colorbar": {
              "outlinewidth": 0,
              "ticks": ""
             }
            },
            "type": "scatter3d"
           }
          ],
          "scattercarpet": [
           {
            "marker": {
             "colorbar": {
              "outlinewidth": 0,
              "ticks": ""
             }
            },
            "type": "scattercarpet"
           }
          ],
          "scattergeo": [
           {
            "marker": {
             "colorbar": {
              "outlinewidth": 0,
              "ticks": ""
             }
            },
            "type": "scattergeo"
           }
          ],
          "scattergl": [
           {
            "marker": {
             "colorbar": {
              "outlinewidth": 0,
              "ticks": ""
             }
            },
            "type": "scattergl"
           }
          ],
          "scattermapbox": [
           {
            "marker": {
             "colorbar": {
              "outlinewidth": 0,
              "ticks": ""
             }
            },
            "type": "scattermapbox"
           }
          ],
          "scatterpolar": [
           {
            "marker": {
             "colorbar": {
              "outlinewidth": 0,
              "ticks": ""
             }
            },
            "type": "scatterpolar"
           }
          ],
          "scatterpolargl": [
           {
            "marker": {
             "colorbar": {
              "outlinewidth": 0,
              "ticks": ""
             }
            },
            "type": "scatterpolargl"
           }
          ],
          "scatterternary": [
           {
            "marker": {
             "colorbar": {
              "outlinewidth": 0,
              "ticks": ""
             }
            },
            "type": "scatterternary"
           }
          ],
          "surface": [
           {
            "colorbar": {
             "outlinewidth": 0,
             "ticks": ""
            },
            "colorscale": [
             [
              0,
              "#0d0887"
             ],
             [
              0.1111111111111111,
              "#46039f"
             ],
             [
              0.2222222222222222,
              "#7201a8"
             ],
             [
              0.3333333333333333,
              "#9c179e"
             ],
             [
              0.4444444444444444,
              "#bd3786"
             ],
             [
              0.5555555555555556,
              "#d8576b"
             ],
             [
              0.6666666666666666,
              "#ed7953"
             ],
             [
              0.7777777777777778,
              "#fb9f3a"
             ],
             [
              0.8888888888888888,
              "#fdca26"
             ],
             [
              1,
              "#f0f921"
             ]
            ],
            "type": "surface"
           }
          ],
          "table": [
           {
            "cells": {
             "fill": {
              "color": "#EBF0F8"
             },
             "line": {
              "color": "white"
             }
            },
            "header": {
             "fill": {
              "color": "#C8D4E3"
             },
             "line": {
              "color": "white"
             }
            },
            "type": "table"
           }
          ]
         },
         "layout": {
          "annotationdefaults": {
           "arrowcolor": "#2a3f5f",
           "arrowhead": 0,
           "arrowwidth": 1
          },
          "autotypenumbers": "strict",
          "coloraxis": {
           "colorbar": {
            "outlinewidth": 0,
            "ticks": ""
           }
          },
          "colorscale": {
           "diverging": [
            [
             0,
             "#8e0152"
            ],
            [
             0.1,
             "#c51b7d"
            ],
            [
             0.2,
             "#de77ae"
            ],
            [
             0.3,
             "#f1b6da"
            ],
            [
             0.4,
             "#fde0ef"
            ],
            [
             0.5,
             "#f7f7f7"
            ],
            [
             0.6,
             "#e6f5d0"
            ],
            [
             0.7,
             "#b8e186"
            ],
            [
             0.8,
             "#7fbc41"
            ],
            [
             0.9,
             "#4d9221"
            ],
            [
             1,
             "#276419"
            ]
           ],
           "sequential": [
            [
             0,
             "#0d0887"
            ],
            [
             0.1111111111111111,
             "#46039f"
            ],
            [
             0.2222222222222222,
             "#7201a8"
            ],
            [
             0.3333333333333333,
             "#9c179e"
            ],
            [
             0.4444444444444444,
             "#bd3786"
            ],
            [
             0.5555555555555556,
             "#d8576b"
            ],
            [
             0.6666666666666666,
             "#ed7953"
            ],
            [
             0.7777777777777778,
             "#fb9f3a"
            ],
            [
             0.8888888888888888,
             "#fdca26"
            ],
            [
             1,
             "#f0f921"
            ]
           ],
           "sequentialminus": [
            [
             0,
             "#0d0887"
            ],
            [
             0.1111111111111111,
             "#46039f"
            ],
            [
             0.2222222222222222,
             "#7201a8"
            ],
            [
             0.3333333333333333,
             "#9c179e"
            ],
            [
             0.4444444444444444,
             "#bd3786"
            ],
            [
             0.5555555555555556,
             "#d8576b"
            ],
            [
             0.6666666666666666,
             "#ed7953"
            ],
            [
             0.7777777777777778,
             "#fb9f3a"
            ],
            [
             0.8888888888888888,
             "#fdca26"
            ],
            [
             1,
             "#f0f921"
            ]
           ]
          },
          "colorway": [
           "#636efa",
           "#EF553B",
           "#00cc96",
           "#ab63fa",
           "#FFA15A",
           "#19d3f3",
           "#FF6692",
           "#B6E880",
           "#FF97FF",
           "#FECB52"
          ],
          "font": {
           "color": "#2a3f5f"
          },
          "geo": {
           "bgcolor": "white",
           "lakecolor": "white",
           "landcolor": "#E5ECF6",
           "showlakes": true,
           "showland": true,
           "subunitcolor": "white"
          },
          "hoverlabel": {
           "align": "left"
          },
          "hovermode": "closest",
          "mapbox": {
           "style": "light"
          },
          "paper_bgcolor": "white",
          "plot_bgcolor": "#E5ECF6",
          "polar": {
           "angularaxis": {
            "gridcolor": "white",
            "linecolor": "white",
            "ticks": ""
           },
           "bgcolor": "#E5ECF6",
           "radialaxis": {
            "gridcolor": "white",
            "linecolor": "white",
            "ticks": ""
           }
          },
          "scene": {
           "xaxis": {
            "backgroundcolor": "#E5ECF6",
            "gridcolor": "white",
            "gridwidth": 2,
            "linecolor": "white",
            "showbackground": true,
            "ticks": "",
            "zerolinecolor": "white"
           },
           "yaxis": {
            "backgroundcolor": "#E5ECF6",
            "gridcolor": "white",
            "gridwidth": 2,
            "linecolor": "white",
            "showbackground": true,
            "ticks": "",
            "zerolinecolor": "white"
           },
           "zaxis": {
            "backgroundcolor": "#E5ECF6",
            "gridcolor": "white",
            "gridwidth": 2,
            "linecolor": "white",
            "showbackground": true,
            "ticks": "",
            "zerolinecolor": "white"
           }
          },
          "shapedefaults": {
           "line": {
            "color": "#2a3f5f"
           }
          },
          "ternary": {
           "aaxis": {
            "gridcolor": "white",
            "linecolor": "white",
            "ticks": ""
           },
           "baxis": {
            "gridcolor": "white",
            "linecolor": "white",
            "ticks": ""
           },
           "bgcolor": "#E5ECF6",
           "caxis": {
            "gridcolor": "white",
            "linecolor": "white",
            "ticks": ""
           }
          },
          "title": {
           "x": 0.05
          },
          "xaxis": {
           "automargin": true,
           "gridcolor": "white",
           "linecolor": "white",
           "ticks": "",
           "title": {
            "standoff": 15
           },
           "zerolinecolor": "white",
           "zerolinewidth": 2
          },
          "yaxis": {
           "automargin": true,
           "gridcolor": "white",
           "linecolor": "white",
           "ticks": "",
           "title": {
            "standoff": 15
           },
           "zerolinecolor": "white",
           "zerolinewidth": 2
          }
         }
        }
       }
      }
     },
     "metadata": {},
     "output_type": "display_data"
    }
   ],
   "source": [
    "import numpy as np\n",
    "fig = px.treemap(counts_df[0:50], path=[px.Constant(\"word counts\"), 'word'],\n",
    "    values = 'count',\n",
    "    color='count',\n",
    "    color_continuous_scale='plasma',\n",
    "    color_continuous_midpoint=np.average(counts_df['count']))\n",
    "\n",
    "fig.update_layout(margin = dict(t=50, l=25, r=25, b=25))\n",
    "fig.show()"
   ]
  },
  {
   "cell_type": "markdown",
   "metadata": {},
   "source": [
    "Another visualization type that could be useful for our word frequencies is the \"Circle Packing\" plot. Once again, we'll show some code and leave playing around with it for another time."
   ]
  },
  {
   "cell_type": "code",
   "execution_count": null,
   "metadata": {},
   "outputs": [],
   "source": [
    "# Very Simple Tutorial on Basic \"Circle Packing\" available at https://www.python-graph-gallery.com/circular-packing-1-level-hierarchy. \n",
    "\n",
    "import circlify\n",
    "\n",
    "circles = circlify.circlify(counts_df['count'][0:30].tolist(),\n",
    "    show_enclosure=False,\n",
    "    target_enclosure=circlify.Circle(x=0, y=0, r=1))\n",
    "\n",
    "n = counts_df['count'][0:30].max()\n",
    "color_dict = get_color_dict('plasma', n, 1)"
   ]
  },
  {
   "cell_type": "code",
   "execution_count": null,
   "metadata": {},
   "outputs": [
    {
     "data": {
      "image/png": "[encoded data removed]",
      "text/plain": [
       "<Figure size 648x648 with 1 Axes>"
      ]
     },
     "metadata": {},
     "output_type": "display_data"
    }
   ],
   "source": [
    "fig, ax = plt.subplots(figsize=(9, 9), facecolor='white')\n",
    "ax.axis('off')\n",
    "lim = max(max(abs(circle.x)+ circle.r, abs(circle.y)+circle.r) for circle in circles)\n",
    "plt.xlim(-lim, lim)\n",
    "plt.ylim(-lim, lim)\n",
    "\n",
    "labels = list(counts_df['word'][0:30])\n",
    "counts = list(counts_df['count'][0:30])\n",
    "labels.reverse()\n",
    "counts.reverse()\n",
    "\n",
    "for circle, label, count in zip(circles, labels, counts):\n",
    "    x, y, r = circle\n",
    "    ax.add_patch(plt.Circle((x, y), r, alpha=0.9, color=color_dict.get(count)))\n",
    "    plt.annotate(label + '\\n' + str(count), (x,y), size=12, va='center', ha='center')\n",
    "plt.xticks([])\n",
    "plt.yticks([])\n",
    "plt.show()"
   ]
  },
  {
   "cell_type": "markdown",
   "metadata": {},
   "source": [
    "Again, similarly to the barplot above, we have a visualization that uses the size of the circles to represent the `count` of each word while also utilizing the color-coding."
   ]
  },
  {
   "cell_type": "markdown",
   "metadata": {},
   "source": [
    "### Exercises:\n",
    "\n",
    "1. Can we clean-up a string with a bunch of punctuation marks and other special characters in it using some methods in Python that aren't those of the [regular expression library](https://docs.python.org/3/library/re.html) (`re`)? \n",
    "2. How do we want to handle the situation where we get all the instances of \"the\" removed from our dictionary, but still have \"The\" showing up ...?\n",
    "3. Write a function that takes in as input some text in a dataframe and eventually returns a dataframe with two columns, one for the \"word\" and another for the number of times that word occurs ('count'). In the lesson we did this without constructing a function to do it, but it might be good practice to streamline things a bit by creating a custom function.\n",
    "4. Find some data you are interested that is structured in some way by sections—wrangle the data so that you can chop the text up into the differnt sections, and then produce a sunburst chart that counts word frequencies by each individual section.\n",
    "5. Can we write some explanatory comments/pseudocode to explain how the lines that produces the horizontal grid of barplots works? \n",
    "6. Find some data and produce some circle packing plots of the data!"
   ]
  },
  {
   "cell_type": "markdown",
   "metadata": {},
   "source": [
    "#### Potential Solutions:"
   ]
  },
  {
   "cell_type": "markdown",
   "metadata": {},
   "source": [
    "Possible way of implementing the task in Exercise 3:"
   ]
  },
  {
   "cell_type": "code",
   "execution_count": null,
   "metadata": {},
   "outputs": [],
   "source": [
    "# We start with our function definition, which takes 'input' as a parameter, which will be the text we want to count words in:\n",
    "\n",
    "def create_df(input):\n",
    "    # Next we take that text and split it on whitespace to separate out each word/token/etc.:\n",
    "    list_words = input.split(' ')\n",
    "    # Then we create a list that will hold all of the words that have been split:\n",
    "    set_words_full = list(set(list_words))\n",
    "    # Next we want to remove all the stopwords from our list with a simple list comprehension (https://www.w3schools.com/python/python_lists_comprehension.asp):\n",
    "    set_words = [i for i in set_words_full if i not in stop_words]\n",
    "    # Now that we have all the words separated, we can count them (https://www.w3schools.com/python/ref_list_count.asp):\n",
    "    count_words = [list_words.count(i) for i in set_words]\n",
    "    # We thus now have two lists, one that contains the word and the other containing the counts for that word—let's zip those up together (https://www.w3schools.com/python/ref_func_zip.asp) and put them in a dataframe with our two named columns:\n",
    "    df = pd.DataFrame(zip(set_words, count_words), columns=['word', 'count'])\n",
    "    # It's not necessary that we sort these values, but since we did something similar with our unigramCount above, we'll do it here just to show some similar functionality with pandas:\n",
    "    df.sort_values('count', ascending=False, inplace=True)\n",
    "    # Let's reset the index too:\n",
    "    df.reset_index(drop=True, inplace=True)\n",
    "    # Lastly, let's make it so our function returns the created dataframe:\n",
    "    return df"
   ]
  }
 ],
 "metadata": {
  "kernelspec": {
   "display_name": "Python 3.9.12 ('victorian_authorship_env')",
   "language": "python",
   "name": "python3"
  },
  "language_info": {
   "codemirror_mode": {
    "name": "ipython",
    "version": 3
   },
   "file_extension": ".py",
   "mimetype": "text/x-python",
   "name": "python",
   "nbconvert_exporter": "python",
   "pygments_lexer": "ipython3",
   "version": "3.9.12"
  },
  "vscode": {
   "interpreter": {
    "hash": "ef5d861bb1be136369da2a14d97f47e042662aed23f513481be9d838db3326bb"
   }
  }
 },
 "nbformat": 4,
 "nbformat_minor": 2
}
